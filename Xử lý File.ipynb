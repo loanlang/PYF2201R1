{
 "cells": [
  {
   "cell_type": "code",
   "execution_count": 9,
   "id": "005bfd8b",
   "metadata": {},
   "outputs": [],
   "source": [
    "f = open(\"demo.csv\",\"w\",encoding = \"utf8\") \n",
    "## mode write sẽ xóa hết nội dung bên trong file cũ nếu như file đó đã tồn tại\n",
    "## hoặc là tạo file mới nếu như file đó chưa tồn tại\n",
    "f.write(\"Mực nước,Độ ẩm,Nhiệt độ\\n\") ## đang sử dụng unicode utf8\n",
    "for i in range(11):\n",
    "    f.write(str(i) + \",\")\n",
    "    f.write(str(i*5) + \",\")\n",
    "    f.write(str(i*7) + \"\\n\")\n",
    "f.close()"
   ]
  },
  {
   "cell_type": "code",
   "execution_count": 23,
   "id": "d54d0a3f",
   "metadata": {
    "scrolled": true
   },
   "outputs": [
    {
     "name": "stdout",
     "output_type": "stream",
     "text": [
      "['0', '0', '0']\n",
      "['1', '5', '7']\n",
      "['2', '10', '14']\n",
      "['3', '15', '21']\n",
      "['4', '20', '28']\n",
      "['5', '25', '35']\n",
      "['6', '30', '42']\n",
      "['7', '35', '49']\n",
      "['8', '40', '56']\n",
      "['9', '45', '63']\n",
      "['10', '50', '70']\n",
      "[0, 1, 2, 3, 4, 5, 6, 7, 8, 9, 10]\n",
      "[0, 5, 10, 15, 20, 25, 30, 35, 40, 45, 50]\n",
      "[0, 7, 14, 21, 28, 35, 42, 49, 56, 63, 70]\n"
     ]
    }
   ],
   "source": [
    "f = open(\"demo.csv\",\"r\",encoding = \"utf8\")\n",
    "## mode r sẽ báo lỗi nếu như file không tồn tại\n",
    "### f.readline() đọc 1 dòng\n",
    "### f.readlines() đọc hết dòng\n",
    "head = f.readline()[:-1]\n",
    "data = f.readlines()\n",
    "f.close()\n",
    "L_mucnuoc = []\n",
    "L_doam = []\n",
    "L_nhietdo = []\n",
    "for i in data:\n",
    "    i = i.strip() ## Xóa những ký tự khoảng trắng đầu và cuối chuỗi\n",
    "    i = i.split(\",\") ## Cắt chuỗi thành list\n",
    "    L_mucnuoc.append(int(i[0]))\n",
    "    L_doam.append(int(i[1]))\n",
    "    L_nhietdo.append(int(i[2]))\n",
    "    print(i)\n",
    "print(L_mucnuoc)\n",
    "print(L_doam)\n",
    "print(L_nhietdo)\n",
    "f = open(\"demo2.csv\",\"w\")\n",
    "def ghifile(L):\n",
    "    for i in range(len(L)):\n",
    "        if i != len(L) - 1:\n",
    "            f.write(str(L[i]) + \",\")\n",
    "        else:\n",
    "            f.write(str(L[i]) + \"\\n\")\n",
    "ghifile(L_mucnuoc)\n",
    "ghifile(L_doam)\n",
    "ghifile(L_nhietdo)\n",
    "f.close()"
   ]
  },
  {
   "cell_type": "code",
   "execution_count": 25,
   "id": "82e085ac",
   "metadata": {},
   "outputs": [],
   "source": [
    "f = open(\"demo.csv\",\"a\",encoding = \"utf8\")\n",
    "## mode append sẽ ghi tiếp nội dung vào file nếu file đã tồn tại\n",
    "## hoặc là tạo file mới nếu như file đó chưa tồn tại\n",
    "f.write(\"hello\\n\")\n",
    "f.close()"
   ]
  },
  {
   "cell_type": "code",
   "execution_count": 33,
   "id": "f78fcbee",
   "metadata": {},
   "outputs": [],
   "source": [
    "import openpyxl\n",
    "import pprint\n",
    "wb = openpyxl.load_workbook('abc.xlsx') ## Đưa dữ liệu từ Rom vào Ram\n",
    "# print(wb.sheetnames)\n",
    "sheet = wb[\"1_Raw_data\"]\n",
    "cell = sheet[\"A2\"]\n",
    "sheet[\"A2\"] = \"Thay đổi\"\n",
    "wb.save(\"abc.xlsx\")"
   ]
  }
 ],
 "metadata": {
  "kernelspec": {
   "display_name": "Python 3 (ipykernel)",
   "language": "python",
   "name": "python3"
  },
  "language_info": {
   "codemirror_mode": {
    "name": "ipython",
    "version": 3
   },
   "file_extension": ".py",
   "mimetype": "text/x-python",
   "name": "python",
   "nbconvert_exporter": "python",
   "pygments_lexer": "ipython3",
   "version": "3.10.1"
  }
 },
 "nbformat": 4,
 "nbformat_minor": 5
}
