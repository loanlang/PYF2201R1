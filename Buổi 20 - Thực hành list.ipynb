{
 "cells": [
  {
   "cell_type": "markdown",
   "id": "011431b9",
   "metadata": {},
   "source": [
    "# Thực hành List\n",
    "\n",
    "##### Chú ý: list một dãy số người ta còn gọi là một mảng\n",
    "\n",
    "### Bài 1"
   ]
  },
  {
   "cell_type": "markdown",
   "id": "61a90628",
   "metadata": {},
   "source": [
    "Viết hàm với đầu vào là một mảng, hãy tính và trả về giá trị trung bình của mảng"
   ]
  },
  {
   "cell_type": "code",
   "execution_count": 1,
   "id": "bcc197d5",
   "metadata": {},
   "outputs": [
    {
     "name": "stdout",
     "output_type": "stream",
     "text": [
      "6.25\n"
     ]
    }
   ],
   "source": [
    "def tinhtrungbinh(L):\n",
    "    tong = sum(L)\n",
    "    tb = tong/len(L)\n",
    "    return tb\n",
    "\n",
    "print(tinhtrungbinh([7,5,4,9]))"
   ]
  },
  {
   "cell_type": "code",
   "execution_count": null,
   "id": "0f2f62d6",
   "metadata": {},
   "outputs": [],
   "source": [
    "L=[-3, -1, 11, 23, 34, 54, 101, 103, -1]\n",
    "\n",
    "def giatritrungbinh(L):\n",
    "    S=0\n",
    "    for i in L:\n",
    "        S+=i \n",
    "    return S/len(L)\n",
    "print(giatritrungbinh(L))"
   ]
  },
  {
   "cell_type": "markdown",
   "id": "30d26c1b",
   "metadata": {},
   "source": [
    "### Bài 2"
   ]
  },
  {
   "cell_type": "markdown",
   "id": "674ef26c",
   "metadata": {},
   "source": [
    "Viết hàm với đầu vào là một mảng, hãy tìm và trả về giá trị âm lớn nhất trong mảng"
   ]
  },
  {
   "cell_type": "code",
   "execution_count": 7,
   "id": "1a9cb505",
   "metadata": {},
   "outputs": [
    {
     "name": "stdout",
     "output_type": "stream",
     "text": [
      "-3\n"
     ]
    }
   ],
   "source": [
    "L = [1,-6,-3]\n",
    "\n",
    "def soamlonnhat(L):\n",
    "    min = None\n",
    "    for i in L:\n",
    "        if i < 0:\n",
    "            if min == None or i > min:\n",
    "                min = i\n",
    "    return min\n",
    "\n",
    "print(soamlonnhat(L))"
   ]
  },
  {
   "cell_type": "code",
   "execution_count": 5,
   "id": "ec03fbaa",
   "metadata": {},
   "outputs": [
    {
     "name": "stdout",
     "output_type": "stream",
     "text": [
      "Hello\n"
     ]
    }
   ],
   "source": [
    "if False == 0:\n",
    "    print(\"Hello\")\n",
    "else: \n",
    "    print(\"hi\")\n",
    "    "
   ]
  },
  {
   "cell_type": "code",
   "execution_count": null,
   "id": "c1a5adea",
   "metadata": {},
   "outputs": [],
   "source": [
    "M=[3,8,-6,-4,-2]\n",
    "def giatriamlonnhat(L):\n",
    "    C=M.copy()\n",
    "    for i in C:\n",
    "        if i >= 0:\n",
    "            M.remove(i)\n",
    "    return max(M)\n",
    "giatriamlonnhat(M)"
   ]
  },
  {
   "cell_type": "code",
   "execution_count": null,
   "id": "fb5c74f0",
   "metadata": {},
   "outputs": [],
   "source": [
    "M = [3,8,6,-4,2,5]\n",
    "def timgiatriamlonnhat(M):\n",
    "    maxx = None ## Khi ta gọi min ~~> Duyệt list\n",
    "    for i in M:\n",
    "        if i<0:\n",
    "            if maxx == None or i>maxx:\n",
    "                maxx = i \n",
    "    if maxx == None:\n",
    "        return 1\n",
    "    return maxx \n",
    "print(timgiatriamlonnhat(M))"
   ]
  },
  {
   "cell_type": "code",
   "execution_count": null,
   "id": "6d0f6859",
   "metadata": {},
   "outputs": [],
   "source": [
    "L=[-3, -5, 11, 23, 34, 54, 101, 103]   \n",
    "def timgiatrimax(L):\n",
    "    m=[]\n",
    "    for i in L:\n",
    "        if i<0:\n",
    "            m.append(i)\n",
    "    maxx=m[0]\n",
    "    for x in m:\n",
    "        if maxx<x:\n",
    "            maxx = x\n",
    "    return x\n",
    "print(\"giá trị âm lớn nhất\",timgiatrimax(L))"
   ]
  },
  {
   "cell_type": "code",
   "execution_count": null,
   "id": "57fe4aa3",
   "metadata": {},
   "outputs": [],
   "source": [
    "a = [1,-3,-4,5,7,-6,8,6,9]\n",
    "def giatriamlonnhat(a):\n",
    "    lisam = []\n",
    "    \n",
    "    for i in a:\n",
    "        if i < 0:\n",
    "            lisam.append(i)\n",
    "    maxx = None\n",
    "    for i in lisam:\n",
    "        if maxx == None or maxx < i:\n",
    "            maxx = i\n",
    "    return maxx\n",
    "print(giatriamlonnhat(a))"
   ]
  },
  {
   "cell_type": "code",
   "execution_count": null,
   "id": "f763bd4c",
   "metadata": {},
   "outputs": [],
   "source": [
    "M = [3,8,-6,-4,-2,-5]\n",
    "def giatriam(a):\n",
    "    minn=0\n",
    "    for i in a:\n",
    "        if minn>i:\n",
    "            minn=i\n",
    "    for i in a:\n",
    "        if i<0 and i>minn:\n",
    "            minn=i\n",
    "    return minn\n",
    "print(giatriam(M))"
   ]
  },
  {
   "cell_type": "markdown",
   "id": "95cfaa74",
   "metadata": {},
   "source": [
    "### Bài 3"
   ]
  },
  {
   "cell_type": "markdown",
   "id": "5361a4b8",
   "metadata": {},
   "source": [
    "Viết hàm với giá trị đầu vào là một mảng, hãy sắp xếp và trả về mảng có độ lớn tăng dần"
   ]
  },
  {
   "cell_type": "code",
   "execution_count": 9,
   "id": "91ad4d5d",
   "metadata": {},
   "outputs": [
    {
     "name": "stdout",
     "output_type": "stream",
     "text": [
      "[-10, -5, -1, 3, 7, 8, 9]\n"
     ]
    }
   ],
   "source": [
    "L = [-1,3,-5,7,8,9,-10]\n",
    "\n",
    "def sapxep(L):\n",
    "    C = []\n",
    "    for i in range(len(L)):\n",
    "        e = min(L)\n",
    "        C.append(e)\n",
    "        L.remove(e)\n",
    "    return C\n",
    "    \n",
    "print(sapxep(L))"
   ]
  },
  {
   "cell_type": "code",
   "execution_count": null,
   "id": "94ee8bf2",
   "metadata": {},
   "outputs": [],
   "source": [
    "## Có hàm để săp xếp\n",
    "## Không dùng hàm với bài này...\n",
    "## Bài này dùng để tạo búa, nên không được xài búa\n",
    "l=[1,-11,2,-6,13,3,-24,-22,-11]\n",
    "def tangdan(l):\n",
    "    minn=l[0]\n",
    "    maxx=l[0]\n",
    "    a=[]\n",
    "    for i in l:\n",
    "        if i<minn:\n",
    "            minn=i\n",
    "    #print(minn)    \n",
    "    for i in l:\n",
    "        if i>maxx:\n",
    "            maxx=i\n",
    "    #print(maxx)\n",
    "    for i in range(minn,maxx+1):\n",
    "        for j in l:\n",
    "            if i==j:\n",
    "                a.append(i)\n",
    "    return a\n",
    "        \n",
    "tangdan(l)"
   ]
  },
  {
   "cell_type": "code",
   "execution_count": null,
   "id": "9eee31a3",
   "metadata": {},
   "outputs": [],
   "source": [
    "### Tìm min ~~> viết def tìm min\n",
    "### Append min vào List mới\n",
    "### Xóa cái min trong list cũ đi\n",
    "### Nhược điểm là tốn thêm một list\n",
    "L=[5,4,6,3,7,8,-9]\n",
    "def Sap_xep_tang_dan(L):\n",
    "    Listmoi=[]\n",
    "    while L!=[]:\n",
    "        phantu=min(L)\n",
    "        L.remove(phantu)\n",
    "        Listmoi.append(phantu)\n",
    "    return Listmoi\n",
    "print(Sap_xep_tang_dan(L))"
   ]
  },
  {
   "cell_type": "code",
   "execution_count": null,
   "id": "bd166b98",
   "metadata": {},
   "outputs": [],
   "source": [
    "### Mình sắp xếp bằng cách đưa số nhỏ nhất lên vị trí \n",
    "### Đưa số nhỏ nhì lên vị trí 2\n",
    "### Đưa số nhỏ 3 lên vị trí 3...\n",
    "L = [2,1,5,6,8,-4,0,-10]\n",
    "\n",
    "def sorting(L):\n",
    "    for i in range(0,len(L)-1):\n",
    "        for j in range(i+1,len(L)):\n",
    "            if L[i]>L[j]:\n",
    "                tt = L[i]\n",
    "                L[i]= L[j]\n",
    "                L[j] = tt\n",
    "    return L\n",
    "print(sorting(L))"
   ]
  },
  {
   "cell_type": "code",
   "execution_count": null,
   "id": "5403aeca",
   "metadata": {},
   "outputs": [],
   "source": [
    "L = [2,1,5,6,8,-4,0,-10]\n",
    "L.sort()\n",
    "print(L)"
   ]
  },
  {
   "cell_type": "markdown",
   "id": "025cc0cb",
   "metadata": {},
   "source": [
    "### Bài 4"
   ]
  },
  {
   "cell_type": "markdown",
   "id": "dbf885a9",
   "metadata": {},
   "source": [
    "Viết hàm với giá trị đầu vào là một mảng, tìm x sao cho đoạn [-x,x] chứa tất cả các giá trị có trong mảng"
   ]
  },
  {
   "cell_type": "code",
   "execution_count": 11,
   "id": "84606ea2",
   "metadata": {},
   "outputs": [
    {
     "name": "stdout",
     "output_type": "stream",
     "text": [
      "10\n"
     ]
    }
   ],
   "source": [
    "L = [-1,3,-5,7,8,9,-10] ## Từ [-10,10] sẽ chứa toàn bộ giá trị của L, nên x là 10\n",
    "\n",
    "def timx(L):\n",
    "    ma = max(L)\n",
    "    mi = min (L)\n",
    "    if abs(ma) > abs(mi):\n",
    "        return abs(ma)\n",
    "    return abs(mi)\n",
    "\n",
    "print(timx(L))"
   ]
  },
  {
   "cell_type": "code",
   "execution_count": null,
   "id": "06500f0f",
   "metadata": {},
   "outputs": [],
   "source": [
    "L = [1,2,3,2,1,110,-500]\n",
    "def vitrimin(L):\n",
    "    vitri=0\n",
    "    for i in range (len(L)):\n",
    "        if L[vitri]> L[i]:\n",
    "            vitri = i \n",
    "    return vitri\n",
    "def ham_sap_xep(L):\n",
    "    L2=[]\n",
    "    for i in range(len(L)):\n",
    "        L2.append(L[vitrimin(L)])\n",
    "        L.pop(vitrimin(L))\n",
    "    return L2\n",
    "def timgiatriX(L):\n",
    "    L3 = ham_sap_xep(L)\n",
    "    if abs(L3[0]) > abs(L3[len(L3)-1]):\n",
    "        return L3[0], -1*L3[0]\n",
    "    return -1*L3[len(L3)-1], L3[len(L3)-1]\n",
    "print (timgiatriX(L))"
   ]
  },
  {
   "cell_type": "code",
   "execution_count": null,
   "id": "e486d58f",
   "metadata": {},
   "outputs": [],
   "source": [
    "L = [1,2,3,2,1,110,-500]\n",
    "def timx(L):\n",
    "    Mi = min(L)\n",
    "    Ma = max(L)\n",
    "    if abs(Mi) > abs(Ma):\n",
    "        return abs(Mi)\n",
    "    return abs(Ma)\n",
    "timx(L)"
   ]
  },
  {
   "cell_type": "code",
   "execution_count": null,
   "id": "a82dbca4",
   "metadata": {},
   "outputs": [],
   "source": [
    "L = [1,5,8,7]\n",
    "for i in L: ### Tập lặp lúc này là L\n",
    "    print(i)  ### Khi xài remove hoặc pop là không xài trong duyệt for\n",
    "### Nếu vừa muốn duyệt for vừa muốn xài thì duyệt bằng while\n",
    "    if i == 5:\n",
    "        L.remove(i)"
   ]
  },
  {
   "cell_type": "code",
   "execution_count": null,
   "id": "b99607d9",
   "metadata": {},
   "outputs": [],
   "source": [
    "L = [1,5,8,7]\n",
    "print(list(range(len(L)))) ## Giúp mình tạo một tập [0,1,2,..,len(L)-1]"
   ]
  },
  {
   "cell_type": "markdown",
   "id": "98aa10b5",
   "metadata": {},
   "source": [
    "### Bài 5"
   ]
  },
  {
   "cell_type": "markdown",
   "id": "a7fe3092",
   "metadata": {},
   "source": [
    "Viết hàm với giá trị đầu vào là một mảng, Hãy tìm một vị trí trong mảng thỏa hai điền kiện: có hai giá trị lân cận và giá trị tại vị trí đó bằng tích hai giá trị lân cận. Nếu mảng không tồn tại giá trị như vậy thì hàm trả về giá trị - 1"
   ]
  },
  {
   "cell_type": "code",
   "execution_count": 12,
   "id": "5eed9cea",
   "metadata": {},
   "outputs": [
    {
     "name": "stdout",
     "output_type": "stream",
     "text": [
      "4\n"
     ]
    }
   ],
   "source": [
    "L = [-1,3,-5,2,8,4,-10]\n",
    "\n",
    "def tichgtlancan(L):\n",
    "    for i in range(1,len(L) - 1):\n",
    "        if L[i-1]*L[i+1] == L[i]:\n",
    "            return i\n",
    "    return -1\n",
    "\n",
    "print(tichgtlancan(L))"
   ]
  },
  {
   "cell_type": "code",
   "execution_count": null,
   "id": "9d55cb01",
   "metadata": {},
   "outputs": [],
   "source": [
    "def ham(list):\n",
    "    for i in range(1,(len(list))):\n",
    "        if list[i] == list[i-1]* list[i+1]:\n",
    "            return i\n",
    "    return -1\n",
    "\n",
    "ham([1,3,4563,2,4,6,7,3,6,2,54,65,2,4,2,34])"
   ]
  },
  {
   "cell_type": "code",
   "execution_count": null,
   "id": "1a49dc3a",
   "metadata": {},
   "outputs": [],
   "source": [
    "L=[1,2,3,15,5,6,7,8]\n",
    "def giatrilancan(a):\n",
    "    for i in range(len(a)):\n",
    "        if i!=0 and i!=len(a)-1:\n",
    "            if a[i]==a[i-1]*a[i+1]:\n",
    "                return i\n",
    "    return -1\n",
    "print(giatrilancan(L))"
   ]
  },
  {
   "cell_type": "code",
   "execution_count": null,
   "id": "2bc7bc88",
   "metadata": {},
   "outputs": [],
   "source": [
    "L=[1,2,3,15,5,6,7,8]\n",
    "def giatrilancan(a):\n",
    "    for i in range(1,len(a)-1):\n",
    "        if a[i]==a[i-1]*a[i+1]:\n",
    "            return i\n",
    "    return -1\n",
    "print(giatrilancan(L))"
   ]
  },
  {
   "cell_type": "code",
   "execution_count": null,
   "id": "006bc4ca",
   "metadata": {},
   "outputs": [],
   "source": []
  },
  {
   "cell_type": "markdown",
   "id": "035325d7",
   "metadata": {},
   "source": [
    "### Bài 6"
   ]
  },
  {
   "cell_type": "markdown",
   "id": "e2d35127",
   "metadata": {},
   "source": [
    "Viết hàm có giá trị đầu vào là một mảng. Hãy tìm giá trị đầu tiên trong mảng một chiều các số nguyên có chữ sốđầu tiên là chữ số lẻ. Nếu trong mảng không tồn tại giá trị như vậy thì hàm sẽ trả về giá trị 0."
   ]
  },
  {
   "cell_type": "code",
   "execution_count": 17,
   "id": "b8a8b8a2",
   "metadata": {},
   "outputs": [
    {
     "name": "stdout",
     "output_type": "stream",
     "text": [
      "324\n"
     ]
    }
   ],
   "source": [
    "L = [-21,324,-5,2,8,4,-10]\n",
    "\n",
    "def timso(L):\n",
    "    for i in L:\n",
    "        i = str(i)\n",
    "        if i[0] != \"-\":\n",
    "            if int(i[0]) % 2 == 1:\n",
    "                return i\n",
    "        else:\n",
    "            if int(i[1]) % 2 == 1:\n",
    "                return i\n",
    "    return 0\n",
    "\n",
    "print(timso(L))"
   ]
  },
  {
   "cell_type": "code",
   "execution_count": null,
   "id": "61a17b12",
   "metadata": {},
   "outputs": [],
   "source": [
    "M = [23,13,2,6,3,9,3]\n",
    "def timgiatrii(M):\n",
    "    for i in M:\n",
    "        chuoi = str(i)\n",
    "        if i < 0:\n",
    "            i = abs(i)\n",
    "        if (int(chuoi[0])%2!=0):\n",
    "            return i\n",
    "    return 0\n",
    "print(\"Giá trị i:\",timgiatrii(M))"
   ]
  },
  {
   "cell_type": "code",
   "execution_count": null,
   "id": "3e439e8d",
   "metadata": {},
   "outputs": [],
   "source": [
    "def xacdinhdkbai(a):\n",
    "    while a != 0:\n",
    "        chuso = a%10\n",
    "        a //= 10\n",
    "    if chuso % 2 != 0:\n",
    "        return True\n",
    "    return False\n",
    "\n",
    "def timgiatrii(M):\n",
    "    for i in M:\n",
    "        if xacdinhdkbai(i):\n",
    "            return i\n",
    "    return 0\n",
    "print(\"Giá trị i:\",timgiatrii(M))"
   ]
  },
  {
   "cell_type": "markdown",
   "id": "da270d1a",
   "metadata": {},
   "source": [
    "### Bài 7"
   ]
  },
  {
   "cell_type": "markdown",
   "id": "079fdafe",
   "metadata": {},
   "source": [
    "Viết hàm có giá trị đầu vào là một mảng. Hãy tìm giá trị đầu tiên trong mảng có dạng 2^k. Nếu mảng không tồn tại giá trị dạng 2^k thì hàm sẽ trả về giá trị 0."
   ]
  },
  {
   "cell_type": "code",
   "execution_count": 18,
   "id": "f9311f33",
   "metadata": {},
   "outputs": [
    {
     "name": "stdout",
     "output_type": "stream",
     "text": [
      "2\n"
     ]
    }
   ],
   "source": [
    "L = [-21,324,-5,2,8,4,-10]\n",
    "\n",
    "def kiemtra2k(a):\n",
    "    while a % 2 == 0:\n",
    "        a = a//2\n",
    "    if a == 1:\n",
    "        return True\n",
    "    return False\n",
    "\n",
    "def tim2k(L):\n",
    "    for i in L:\n",
    "        if kiemtra2k(i):\n",
    "            return i\n",
    "    return 0\n",
    "\n",
    "print(tim2k(L))"
   ]
  },
  {
   "cell_type": "code",
   "execution_count": null,
   "id": "6c1bc841",
   "metadata": {},
   "outputs": [],
   "source": [
    "def check2muk(a):\n",
    "    if a > 0:\n",
    "        while a != 1:\n",
    "            if (a % 2 == 0):\n",
    "                a = a // 2\n",
    "            else:\n",
    "                return False\n",
    "        return True\n",
    "    return False\n",
    "\n",
    "def main(a):\n",
    "    for i in a:\n",
    "        if (check2muk(i)):\n",
    "            return i\n",
    "    return 0\n",
    "\n",
    "a = []\n",
    "for i in range(30):\n",
    "    a.append(random.randint(0,20))\n",
    "print(a)\n",
    "print(main(a))"
   ]
  },
  {
   "cell_type": "code",
   "execution_count": null,
   "id": "9e17a3b7",
   "metadata": {},
   "outputs": [],
   "source": [
    "### 8 là dạng 2^k vì 8 là 2^3\n",
    "### 16 là dạng 2^k vì 16 là 2^4\n",
    "### 64 là dạng 2^k vì 64 là 2^6\n",
    "def xacdinhdang2muk(a):\n",
    "    if a == 1:\n",
    "        return True\n",
    "    elif a < 1:\n",
    "        a = a ** -1\n",
    "    while a%2 == 0:\n",
    "        a = a/2\n",
    "        if a == 1:\n",
    "            return True\n",
    "    return False\n",
    "\n",
    "def xacdinhdang2muk2(a):\n",
    "    p = 1\n",
    "    for k in range(int(a**0.5)):\n",
    "        p*=2\n",
    "        if a==p:\n",
    "            return True\n",
    "    return False\n",
    "\n",
    "xacdinhdang2muk2(1)\n",
    "L=[1/4,3,4,5,8,16]\n",
    "\n",
    "def main(L):\n",
    "    for i in L:\n",
    "        if xacdinhdang2muk(i):\n",
    "            return i\n",
    "    return 0\n",
    "main(L)"
   ]
  },
  {
   "cell_type": "markdown",
   "id": "80c8ab17",
   "metadata": {},
   "source": [
    "### Bài 8"
   ]
  },
  {
   "cell_type": "markdown",
   "id": "47c3a2e2",
   "metadata": {},
   "source": [
    "Viết hàm có giá trị đầu vào là một mảng. Hãy tìm giá trị thỏa điều kiện toàn chữ số lẻ và là giá trị lớn nhất thỏa điều kiện ấy trong mảng (nếu mảng không có giá trị thỏa điều kiện trên thì hàm trả về giá trị 0)"
   ]
  },
  {
   "cell_type": "code",
   "execution_count": null,
   "id": "f8740d98",
   "metadata": {},
   "outputs": [],
   "source": [
    "L = [21,324,55,2,8,753,333]\n",
    "\n",
    "def toanle(a):\n",
    "    a = str(a)\n",
    "    for i in a:\n",
    "        if int(i) % 2 == 0:\n",
    "            return False\n",
    "    return True\n",
    "\n",
    "def ham(L):\n",
    "    kq = 0\n",
    "    for i in L:\n",
    "        if toanle(i):\n",
    "            if i > kq:\n",
    "                kq = i\n",
    "    return kq            \n",
    "    \n",
    "print(ham(L))"
   ]
  },
  {
   "cell_type": "code",
   "execution_count": null,
   "id": "59d18269",
   "metadata": {},
   "outputs": [],
   "source": [
    "import random\n",
    "\n",
    "def checktoanchusole(a):\n",
    "    if a > 0:\n",
    "        while a != 0:\n",
    "            if ((a % 10) % 2 == 0):\n",
    "                return False\n",
    "            a = a // 10\n",
    "        return True\n",
    "    return False\n",
    "\n",
    "def max11(l):\n",
    "    max1 = l[0]\n",
    "    for i in range(1,len(l)):\n",
    "        if max1 <= l[i]:\n",
    "            max1 = l[i]\n",
    "    return max1\n",
    "\n",
    "def main(a):\n",
    "    b = []\n",
    "    for i in a:\n",
    "        if (checktoanchusole(i)):\n",
    "            b.append(i)\n",
    "    if len(b) == 0:\n",
    "        return 0\n",
    "    return max(b)\n",
    "\n",
    "a = []\n",
    "for i in range(30):\n",
    "    a.append(random.randint(1000,9999))\n",
    "print(a)\n",
    "print(main(a))"
   ]
  },
  {
   "cell_type": "code",
   "execution_count": null,
   "id": "26499418",
   "metadata": {},
   "outputs": [],
   "source": [
    "def kiemtratoanchusole(a):\n",
    "    while a != 0:\n",
    "        chuso = a % 10\n",
    "        if chuso % 2 == 0:\n",
    "            return False\n",
    "        a //= 10\n",
    "    return True\n",
    "\n",
    "def main(L):\n",
    "    Ma = None\n",
    "    for i in L:\n",
    "        if kiemtratoanchusole(i):\n",
    "            if Ma == None or Ma < i:\n",
    "                Ma = i\n",
    "    return Ma\n",
    "L=[23,22,13,61,4368,4520]\n",
    "main(L)"
   ]
  },
  {
   "cell_type": "code",
   "execution_count": null,
   "id": "957e020f",
   "metadata": {},
   "outputs": [],
   "source": [
    "M = [3,13,2,6,3,9,3]\n",
    "def timso(i):\n",
    "    a=i\n",
    "    dem=0\n",
    "    while i != 0:\n",
    "        if ((a//10)%2!=0):\n",
    "            dem+=1\n",
    "        i = i//10\n",
    "    if dem == len(str(a)):\n",
    "        return a\n",
    "print(timso(23))"
   ]
  },
  {
   "cell_type": "markdown",
   "id": "8a09bf26",
   "metadata": {},
   "source": [
    "### Bài 9"
   ]
  },
  {
   "cell_type": "markdown",
   "id": "09f9a4c6",
   "metadata": {},
   "source": [
    "Trong kỳ thi học sinh giỏi môn Tin học, một học sinh là người đạt giải đặc biệt. Ban tổ chức cho phép học sinh đó chọn các phần thưởng cho mình.\n",
    "\n",
    "Các phần thưởng xếp thành một dãy được đánh số từ 1 đến N (0 ≤ N ≤ 10000), phần thưởng thứ i có giá trị là Ai (1 ≤ Ai ≤ 100).\n",
    "\n",
    "Học sinh được phép chọn các phần thưởng cho mình theo nguyên tắc không chọn 3 phần thưởng liên tiếp nhau trong dãy.\n",
    "\n",
    "Viết chương trình để máy tính hướng dẫn học sinh đó chọn các phần thưởng sao cho tổng giá trị của các phần thưởng nhận được là lớn nhất.\n",
    "\n",
    "Nhập vào N, sau đó nhập n lần các giá trị Ai\n",
    "\n",
    "In ra giá trị lớn nhất học sinh được chọn, và các vị trí mà học sinh cần chọn để đạt được giá trị lớn nhất"
   ]
  },
  {
   "cell_type": "code",
   "execution_count": null,
   "id": "6fce5ca9",
   "metadata": {},
   "outputs": [],
   "source": []
  },
  {
   "cell_type": "code",
   "execution_count": null,
   "id": "c350a1e9",
   "metadata": {},
   "outputs": [],
   "source": [
    "#Chọn các số lớn nhất trong A[], nếu có 3 số lớn nhất liên tiếp chuyển số thứ 3 thành 0\n",
    "#Nhặt các số lớn nhất B[] và vị trí của nó C[]\n",
    "#Bỏ đi các số cạnh 2 số được chọn mà liên tiếp hoặc các số ở giữa 2 số được chọn\n",
    "#Bỏ đi các số lớn nhất trong A[] \n",
    "#Chọn các số lớn nhất tiếp theo A[]\n",
    "#Nhặt các số lớn nhất và vị trí của nó\n",
    "#Bỏ đi các số cạnh 2 số được chọn mà liên tiếp\n",
    "N=int(input('So luong giai thuong la:'))\n",
    "A=[]\n",
    "B=[]\n",
    "C=[]\n",
    "import random\n",
    "for i in range(N):\n",
    "    #Ai=int(input())\n",
    "    #A.append(Ai)\n",
    "    A.append(random.randint(1,5))\n",
    "print('A:',A)\n",
    "D=A.copy()\n",
    "F=A.copy()\n",
    "for j in range (0,len(A)):\n",
    "    maxx=A[0]\n",
    "    # Tìm số lớn nhất trong dãy\n",
    "    for i in range (0,len(A)):\n",
    "        if A[i]>=maxx:\n",
    "            maxx=A[i]\n",
    "    # Xử lý TH đặc biệt 3 số lớn nhất liên tiếp\n",
    "    for i in range (0,len(A)-2):\n",
    "        if A[i]==maxx and A[i+1]==maxx and A[i+2]==maxx:\n",
    "            A[i+2]=0     \n",
    "    #print('A 3 so lon nhat:',A)\n",
    "    \n",
    "        \n",
    "    # Đưa các vị trí maxx vào B và C  \n",
    "    for i in range (0,len(A)):\n",
    "        if A[i]==maxx and A[i]>0:   \n",
    "            A[i]=0\n",
    "            D[i]=-1\n",
    "            #Kiem tra A,D            \n",
    "            #TH đạc biệt đầu cuối\n",
    "            if D[0]==-1 and D[1]==-1:\n",
    "                A[2]=0\n",
    "            if D[len(D)-1]==-1 and D[len(D)-2]==-1:\n",
    "                A[len(D)-3]=0\n",
    "            for k in range (1,len(D)-2):\n",
    "                if D[k]==-1 and D[k+1]==-1:\n",
    "                    A[k+2]=0 \n",
    "                    A[k-1]=0\n",
    "            for k in range (0,len(D)-2):   \n",
    "                if D[k]==-1 and D[k+2]==-1:\n",
    "                    A[k+1]=0\n",
    "            #print('A kiem tra:',A)\n",
    "            #print('D kiem tra:',D)\n",
    "            B.append(maxx)\n",
    "            C.append(i+1)\n",
    "            #A.remove(maxx) \n",
    "    #print('B', B)\n",
    "    #print('C', C)                  \n",
    "def sapxep(l):\n",
    "    for i in range (1,len(l)):\n",
    "        for i in range (1,len(l)):\n",
    "            a=0\n",
    "            if l[i-1]>l[i]:\n",
    "                a=l[i-1]\n",
    "                l[i-1]=l[i]\n",
    "                l[i]=a       \n",
    "    return l\n",
    "#print('A ban dau:',F)\n",
    "#print('D:',D)\n",
    "#print('C:',C)\n",
    "print('B:',B)\n",
    "print('C:', sapxep(C))\n",
    "print(\"tổng:\",sum(B))"
   ]
  }
 ],
 "metadata": {
  "kernelspec": {
   "display_name": "Python 3 (ipykernel)",
   "language": "python",
   "name": "python3"
  },
  "language_info": {
   "codemirror_mode": {
    "name": "ipython",
    "version": 3
   },
   "file_extension": ".py",
   "mimetype": "text/x-python",
   "name": "python",
   "nbconvert_exporter": "python",
   "pygments_lexer": "ipython3",
   "version": "3.10.1"
  }
 },
 "nbformat": 4,
 "nbformat_minor": 5
}
