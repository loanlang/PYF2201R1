{
 "cells": [
  {
   "cell_type": "markdown",
   "id": "5761f2a7",
   "metadata": {},
   "source": [
    "Hãy kiểm tra mảng số nguyên có tồn tại hai giá trị không liên tiếp hay không ?"
   ]
  },
  {
   "cell_type": "code",
   "execution_count": null,
   "id": "dffa8fb2",
   "metadata": {},
   "outputs": [],
   "source": [
    "def giatrikhong(L):\n",
    "    for i in range(len(L) - 1):\n",
    "        if L[i] == L[i+1] == 0:\n",
    "            return True\n",
    "    return False\n",
    "L=[1,1,0,0,7,5,0]\n",
    "print(giatrikhong(L))"
   ]
  },
  {
   "cell_type": "code",
   "execution_count": 2,
   "id": "a0acf4b7",
   "metadata": {},
   "outputs": [
    {
     "name": "stdout",
     "output_type": "stream",
     "text": [
      "mảng tồn tại hai giá trị 0 liên tiếp\n"
     ]
    }
   ],
   "source": [
    "L=[1,1,1,3,0,0,0]\n",
    "def ktlientiep(L):\n",
    "    for i in range (len(L)-1):\n",
    "        if L[i]==L[i+1]==0:\n",
    "            return 1\n",
    "    return 0\n",
    "\n",
    "if ktlientiep(L)==1:\n",
    "    print (\"mảng tồn tại hai giá trị 0 liên tiếp\")\n",
    "elif ktlientiep(L)==0:\n",
    "    print (\"mảng không tồn tại hai giá trị 0 liên tiếp\")\n"
   ]
  },
  {
   "cell_type": "code",
   "execution_count": 3,
   "id": "ac82ec8e",
   "metadata": {},
   "outputs": [
    {
     "name": "stdout",
     "output_type": "stream",
     "text": [
      "[7, 5, 8, 2, 5]\n"
     ]
    }
   ],
   "source": [
    "L = [7,5,8,2]\n",
    "L.append(5)\n",
    "print(L)"
   ]
  },
  {
   "cell_type": "code",
   "execution_count": null,
   "id": "8d75115a",
   "metadata": {},
   "outputs": [],
   "source": []
  },
  {
   "cell_type": "markdown",
   "id": "ae867e74",
   "metadata": {},
   "source": [
    "Hãy kiểm tra mảng số nguyên có tồn tại giá trị chẵn hay không? Nếu không tồn tại giá trị chẵn trả về giá trị 0, hay ngược lại trả về 1."
   ]
  },
  {
   "cell_type": "code",
   "execution_count": null,
   "id": "86e4aeb3",
   "metadata": {},
   "outputs": [],
   "source": [
    "def giatrichan(L):\n",
    "    for i in L:\n",
    "        if i % 2 == 0:\n",
    "            return True\n",
    "    return False"
   ]
  },
  {
   "cell_type": "code",
   "execution_count": 4,
   "id": "1abdd057",
   "metadata": {},
   "outputs": [
    {
     "name": "stdout",
     "output_type": "stream",
     "text": [
      "0\n"
     ]
    }
   ],
   "source": [
    "L = [1,3,5,5,1]\n",
    "def ktchanle(L):\n",
    "    for i in L:\n",
    "        if i%2 == 0:\n",
    "            return 1\n",
    "    return 0\n",
    "print (ktchanle(L))\n",
    "    "
   ]
  },
  {
   "cell_type": "code",
   "execution_count": null,
   "id": "c49ad5aa",
   "metadata": {},
   "outputs": [],
   "source": []
  },
  {
   "cell_type": "code",
   "execution_count": null,
   "id": "16667c18",
   "metadata": {},
   "outputs": [],
   "source": []
  },
  {
   "cell_type": "code",
   "execution_count": null,
   "id": "f7db5061",
   "metadata": {},
   "outputs": [],
   "source": [
    "L=[1,2,5,5,1]\n",
    "def kiemtrachanle(L):\n",
    "    for i in L:\n",
    "        if i%2==0:\n",
    "            return 1\n",
    "    return 0\n",
    "print(kiemtrachanle(L))\n"
   ]
  },
  {
   "cell_type": "code",
   "execution_count": 5,
   "id": "ead7090f",
   "metadata": {},
   "outputs": [
    {
     "name": "stdout",
     "output_type": "stream",
     "text": [
      "True\n"
     ]
    }
   ],
   "source": [
    "L = [1,1,1,3,0,0,0]\n",
    "def ktra(L):\n",
    "    for i in L:\n",
    "        if i == i+1 == 0:\n",
    "            return False\n",
    "    return True\n",
    "print(ktra(L))\n"
   ]
  },
  {
   "cell_type": "markdown",
   "id": "5a49eda8",
   "metadata": {},
   "source": [
    "Hãy cho biết mảng các số nguyên có toàn số chẵn hay không? Nếu có tồn tại giá trị lẻ trả về giá trị 0, ngược lại trả về 1."
   ]
  },
  {
   "cell_type": "code",
   "execution_count": null,
   "id": "666c2321",
   "metadata": {},
   "outputs": [],
   "source": [
    "def toanbochan(L):\n",
    "    for i in L:\n",
    "        if i % 2 != 0:\n",
    "            return False\n",
    "    return True"
   ]
  },
  {
   "cell_type": "code",
   "execution_count": 6,
   "id": "9b4d2f7d",
   "metadata": {},
   "outputs": [
    {
     "name": "stdout",
     "output_type": "stream",
     "text": [
      "1\n"
     ]
    }
   ],
   "source": [
    "L = [2,2,2,4,4]\n",
    "def ktchanle(L):\n",
    "    for i in L:\n",
    "        if i%2 != 0:\n",
    "            return 0\n",
    "    return 1\n",
    "print(ktchanle(L))"
   ]
  },
  {
   "cell_type": "markdown",
   "id": "a736df1e",
   "metadata": {},
   "source": [
    "Hãy kiểm tra mảng một chiều các số thực có đối xứng hay không?"
   ]
  },
  {
   "cell_type": "code",
   "execution_count": null,
   "id": "53b16a82",
   "metadata": {},
   "outputs": [],
   "source": [
    "def doixung(L):\n",
    "    for i in range(len(L)//2):\n",
    "        if L[i] != L[len(L) - 1 - i]:\n",
    "            ## L[0] so sánh với l[len(L) - 1]\n",
    "            ## L[1] so sánh với l[len(L) - 2]\n",
    "            ## L[2] so sánh với l[len(L) - 3]\n",
    "            ## L[3] so sánh với l[len(L) - 4]\n",
    "            return False\n",
    "    return True"
   ]
  },
  {
   "cell_type": "code",
   "execution_count": null,
   "id": "49881630",
   "metadata": {},
   "outputs": [],
   "source": [
    "def doixung(L):\n",
    "    L0 = L[::-1]\n",
    "    if L0 == L:\n",
    "        return True\n",
    "    return False\n",
    "\n",
    "L = [1,2,3,2,1]\n",
    "print(doixung(L))"
   ]
  },
  {
   "cell_type": "code",
   "execution_count": 2,
   "id": "c360bf6e",
   "metadata": {},
   "outputs": [
    {
     "name": "stdout",
     "output_type": "stream",
     "text": [
      "mảng một chiều các số thực có đối xứng\n"
     ]
    }
   ],
   "source": [
    "L = [1,2,3,3,2,1]\n",
    "def ktmangdoixung(L):\n",
    "    for i in range (len(L)):\n",
    "        if L[i] != L[len(L) -1 -i]:\n",
    "            return 0\n",
    "    return 1\n",
    "\n",
    "if ktmangdoixung(L) == 1:\n",
    "    print(\"mảng một chiều các số thực có đối xứng\")\n",
    "elif ktmangdoixung(L)==0:\n",
    "    print (\"mảng một chiều các số thực không đối xứng\")\n"
   ]
  },
  {
   "cell_type": "code",
   "execution_count": 3,
   "id": "c233aa8d",
   "metadata": {},
   "outputs": [
    {
     "name": "stdout",
     "output_type": "stream",
     "text": [
      "mảng một chiều các số thực không đối xứng\n"
     ]
    }
   ],
   "source": [
    "L = [1,2,3,3,2,1]\n",
    "def ktmangdoixung(L):\n",
    "    for i in range (len(L)):\n",
    "        j=-1\n",
    "        if L[i] != L[j]:\n",
    "            return 0\n",
    "        j-=1\n",
    "    return 1\n",
    "\n",
    "if ktmangdoixung(L) == 1:\n",
    "    print(\"mảng một chiều các số thực có đối xứng\")\n",
    "elif ktmangdoixung(L)==0:\n",
    "    print (\"mảng một chiều các số thực không đối xứng\")\n"
   ]
  },
  {
   "cell_type": "markdown",
   "id": "975b9821",
   "metadata": {},
   "source": [
    "Ta định nghĩa một mảng có tính chẵn lẻ, khi tổng của hai phần tử liên tiếp trong mảng luôn luôn là số lẻ. Hãy viết hàm kiểm tra mảng a có tính chẵn lẻ hay không?"
   ]
  },
  {
   "cell_type": "code",
   "execution_count": null,
   "id": "8da067d8",
   "metadata": {},
   "outputs": [],
   "source": [
    "def chanle(L):\n",
    "    for i in range(len(L) - 1):\n",
    "        if (L[i] + L[i+1]) % 2 != 1:\n",
    "            return False\n",
    "    return True\n",
    "\n",
    "L = [1,2,4,2,1]\n",
    "print(chanle(L))"
   ]
  },
  {
   "cell_type": "code",
   "execution_count": 7,
   "id": "26b594e9",
   "metadata": {},
   "outputs": [
    {
     "name": "stdout",
     "output_type": "stream",
     "text": [
      "mảng không có tính chẵn lẻ\n"
     ]
    }
   ],
   "source": [
    "L = [1,2,3,4,2,0]\n",
    "def kttinhchanle(L):\n",
    "    j = 0\n",
    "    for i in range(len(L)-1):\n",
    "        if (L[i] + L[i+1]) % 2 != 0:\n",
    "            j += 1\n",
    "        return j\n",
    "   \n",
    "if kttinhchanle(L) == len(L) - 1:\n",
    "    print(\"mảng có tính chẵn lẻ\")\n",
    "else:\n",
    "    print(\"mảng không có tính chẵn lẻ\")"
   ]
  },
  {
   "cell_type": "code",
   "execution_count": 7,
   "id": "7ec6108e",
   "metadata": {},
   "outputs": [
    {
     "name": "stdout",
     "output_type": "stream",
     "text": [
      "mảng có tính chẵn lẻ\n"
     ]
    }
   ],
   "source": [
    "L = [1,2,3,4,1,0]\n",
    "def kttinhchanle(L):\n",
    "    for i in range(len(L)-1):\n",
    "        if (L[i] + L[i+1]) % 2 == 0:\n",
    "            return 1\n",
    "    return 0\n",
    "\n",
    "if kttinhchanle(L) == 0:\n",
    "    print(\"mảng có tính chẵn lẻ\")\n",
    "elif kttinhchanle(L) == 1:\n",
    "    peint(\"mảng không có tính chẵn lẻ\")"
   ]
  },
  {
   "cell_type": "code",
   "execution_count": null,
   "id": "2ffd7b0f",
   "metadata": {},
   "outputs": [],
   "source": [
    "L=[1,2,3,4,2,0]\n",
    "def kttinhchanle(L):\n",
    "    for i in range (len(L)-1):\n",
    "        if (L[i]+L[i+1])%2==0:\n",
    "            return 1\n",
    "    return 0\n",
    "\n",
    "if kttinhchanle(L)==0:\n",
    "    print (\"mảng có tính chẵn lẻ\")\n",
    "elif kttinhchanle(L)==1:\n",
    "    print (\"mảng không có tính chẵn lẻ\")\n"
   ]
  },
  {
   "cell_type": "markdown",
   "id": "434a04e0",
   "metadata": {},
   "source": [
    "Hãy kiểm tra mảng có tăng dần hay không?"
   ]
  },
  {
   "cell_type": "code",
   "execution_count": null,
   "id": "0f414c18",
   "metadata": {},
   "outputs": [],
   "source": [
    "def tangdan(L):\n",
    "    for i in range(len(L) - 1):\n",
    "        if L[i+1] < L[i]:\n",
    "            return False\n",
    "    return True\n",
    "\n",
    "L = [1,2,2,5,7]\n",
    "print(tangdan(L))"
   ]
  },
  {
   "cell_type": "code",
   "execution_count": 8,
   "id": "ba375910",
   "metadata": {},
   "outputs": [
    {
     "name": "stdout",
     "output_type": "stream",
     "text": [
      "mảng có tính tăng dần\n"
     ]
    }
   ],
   "source": [
    "L = [1,2,3,4,5,6]\n",
    "def ktmangtangdan(L):\n",
    "    for i in range (len(L)-1):\n",
    "        if L[i] >= L[i+1]:\n",
    "            return 1\n",
    "    return 0\n",
    "\n",
    "if ktmangtangdan(L) == 0:\n",
    "    print(\"mảng có tính tăng dần\")\n",
    "elif ktmangtangdan(L) == 1:\n",
    "    print(\"mảng không có tính tăng dần\")"
   ]
  },
  {
   "cell_type": "markdown",
   "id": "2dca9538",
   "metadata": {},
   "source": [
    "Hãy kiểm tra mảng có giảm dần hay không?"
   ]
  },
  {
   "cell_type": "code",
   "execution_count": null,
   "id": "a060134f",
   "metadata": {},
   "outputs": [],
   "source": [
    "def tangdan(L):\n",
    "    for i in range(len(L) - 1):\n",
    "        if L[i+1] > L[i]:\n",
    "            return False\n",
    "    return True\n",
    "\n",
    "L = [7,2,2,1,0]\n",
    "print(tangdan(L))"
   ]
  },
  {
   "cell_type": "code",
   "execution_count": 9,
   "id": "eb5154cc",
   "metadata": {},
   "outputs": [
    {
     "name": "stdout",
     "output_type": "stream",
     "text": [
      "mảng có tính giảm dần\n"
     ]
    }
   ],
   "source": [
    "L = [10,8,6,4,2,0]\n",
    "def ktmangtangdan(L):\n",
    "    for i in range (len(L)-1):\n",
    "        if L[i] <= L[i+1]:\n",
    "            return 1\n",
    "    return 0\n",
    "\n",
    "if ktmangtangdan(L) == 0:\n",
    "    print(\"mảng có tính giảm dần\")\n",
    "elif ktmangtangdan(L) == 1:\n",
    "    print(\"mảng không có tính giảm dần\")"
   ]
  },
  {
   "cell_type": "markdown",
   "id": "24dd211d",
   "metadata": {},
   "source": [
    "Hãy cho biết các phần tử trong mảng có lập thành cấp số cộng không? Nếu có hãy chỉ ra công sai d"
   ]
  },
  {
   "cell_type": "code",
   "execution_count": null,
   "id": "bedd973f",
   "metadata": {},
   "outputs": [],
   "source": [
    "def capsocong(L):\n",
    "    for i in range(len(L) - 2):\n",
    "        if L[i+2] - L[i+1] != L[i+1] - L[i]:\n",
    "            return False\n",
    "    print(\"Công sai d:\",L[1] - L[0])\n",
    "    return True\n",
    "\n",
    "L = [0,2,4,6,8]\n",
    "print(capsocong(L))"
   ]
  },
  {
   "cell_type": "code",
   "execution_count": 24,
   "id": "e9dda389",
   "metadata": {},
   "outputs": [
    {
     "name": "stdout",
     "output_type": "stream",
     "text": [
      "mảng có lập thành cấp số cộng công sai d: 2\n"
     ]
    }
   ],
   "source": [
    "L = L=[1,3,5,7,9,11]\n",
    "\n",
    "def ktmangcapsocong(L):\n",
    "    \n",
    "    if len(L) < 3:\n",
    "        return 1,0\n",
    "    for i in range (len(L)-2):\n",
    "        if L[i+1] - L[i] != L[i+2] - L[i+1]:\n",
    "            return 1,0\n",
    "    d = L[1] - L[0]\n",
    "    return 0,d\n",
    "kq, congsai = ktmangcapsocong(L)\n",
    "\n",
    "if kq == 0:\n",
    "    print(\"mảng có lập thành cấp số cộng\",\"công sai d:\",congsai)\n",
    "elif kq==1:\n",
    "    print(\"mảng không lập thành cấp số cộng\")\n"
   ]
  },
  {
   "cell_type": "code",
   "execution_count": 25,
   "id": "25d384cd",
   "metadata": {},
   "outputs": [
    {
     "name": "stdout",
     "output_type": "stream",
     "text": [
      "mảng có lập thành cấp số cộng công sai d: 2\n"
     ]
    }
   ],
   "source": [
    "L=[1,3,5,7,9,11]\n",
    "def ktmangcapsocong(L):\n",
    "    if len(L)<3:\n",
    "        return 1\n",
    "    for i in range (len(L)-2):\n",
    "        if L[i+1]-L[i]!=L[i+2]-L[i+1]:\n",
    "            return 1\n",
    "    d=L[1]-L[0]\n",
    "    return 0,d\n",
    "\n",
    "if ktmangcapsocong(L)[0]==0:\n",
    "    print (\"mảng có lập thành cấp số cộng\",\"công sai d:\",ktmangcapsocong(L)[1])\n",
    "elif ktmangcapsocong(L)==1:\n",
    "    print (\"mảng không lập thành cấp số cộng\")\n"
   ]
  },
  {
   "cell_type": "code",
   "execution_count": null,
   "id": "b8e0c43a",
   "metadata": {},
   "outputs": [],
   "source": [
    "if ktmangcapsocong(L)[0] == 0:\n",
    "    print(\"mảng có lập thành cấp số cộng\",\"công sai d:\",ktmangcapsocong(L)[0])\n",
    "elif ktmangcapsocong(L)==1:\n",
    "    print(\"mảng không lập thành cấp số cộng\")"
   ]
  },
  {
   "cell_type": "code",
   "execution_count": null,
   "id": "85581f2a",
   "metadata": {},
   "outputs": [],
   "source": [
    "if ktmangcapsocong(L) == 0:\n",
    "    print(\"mảng có lập thành cấp số cộng\",\"công sai d là:\",L[1]-L[0])\n",
    "elif ktmangcapsocong(L)==1:\n",
    "    print(\"mảng không lập thành cấp số cộng\")"
   ]
  },
  {
   "cell_type": "markdown",
   "id": "19be5057",
   "metadata": {},
   "source": [
    "Hãy cho biết các phần tử trong mảng có bằng nhau không?"
   ]
  },
  {
   "cell_type": "code",
   "execution_count": null,
   "id": "eca298be",
   "metadata": {},
   "outputs": [],
   "source": [
    "def bangnhau(L):\n",
    "    for i in range(1,len(L)):\n",
    "        if L[i] != L[0]:\n",
    "            return False\n",
    "    return True\n",
    "\n",
    "L = [5,5,4,5,5,5]\n",
    "print(bangnhau(L))"
   ]
  },
  {
   "cell_type": "code",
   "execution_count": 18,
   "id": "5bb29beb",
   "metadata": {},
   "outputs": [
    {
     "name": "stdout",
     "output_type": "stream",
     "text": [
      "mảng không bằng nhau\n"
     ]
    }
   ],
   "source": [
    "L = [3,3,3,3,3,4,3]\n",
    "def ktmangbangnhau(L):\n",
    "    for i in L:\n",
    "        if i != L[0]:\n",
    "            return False\n",
    "    return True\n",
    "\n",
    "if ktmangbangnhau(L) == True:\n",
    "    print(\"mảng có bằng nhau\")\n",
    "    \n",
    "elif ktmangbangnhau(L) == False:\n",
    "    print(\"mảng không bằng nhau\")"
   ]
  },
  {
   "cell_type": "markdown",
   "id": "58268599",
   "metadata": {},
   "source": [
    "Người ta định nghĩa một mảng được gọi là “dạng sóng” khi phần tử có giá trị số I lớn hơn hoặc nhỏ hơn hai phần tử xung quanh nó. Hãy viết hàm kiểm tra trong a sóng hay không?"
   ]
  },
  {
   "cell_type": "code",
   "execution_count": null,
   "id": "c060f696",
   "metadata": {},
   "outputs": [],
   "source": [
    "def dangsong(L):\n",
    "    for i in range(len(L) - 2):\n",
    "        if not (L[i] < L[i+1] > L[i+2] or L[i] > L[i+1] < L[i+2]):\n",
    "            return False\n",
    "    return True\n",
    "\n",
    "L = [0,7,5,6,2,1]\n",
    "print(dangsong(L))"
   ]
  },
  {
   "cell_type": "code",
   "execution_count": 23,
   "id": "1572fb15",
   "metadata": {},
   "outputs": [
    {
     "name": "stdout",
     "output_type": "stream",
     "text": [
      "mảng có dạng sóng\n"
     ]
    }
   ],
   "source": [
    "L=[4,2,7,5,6,2]\n",
    "\n",
    "def ktmangdangsong(L):\n",
    "    for i in range (len(L)-2):\n",
    "        if not (L[i] > L[i+1] < L[i+2] or L[i] < L[i+1] > L[i+2]):\n",
    "            return False\n",
    "        return True\n",
    "#print (ktmangdangsong(L))\n",
    "\n",
    "if ktmangdangsong(L)==True:\n",
    "    print (\"mảng có dạng sóng\")\n",
    "    \n",
    "elif ktmangdangsong(L) == False:\n",
    "    print(\"mảng không dạng sóng\")"
   ]
  },
  {
   "cell_type": "markdown",
   "id": "3a06a75d",
   "metadata": {},
   "source": [
    "Hãy đếm số lượng giá trị trong mảng thỏa tính chất: “lớn hơn tất cả các giá trị đứng đằng trước nó”"
   ]
  },
  {
   "cell_type": "code",
   "execution_count": null,
   "id": "96fd1ef1",
   "metadata": {},
   "outputs": [],
   "source": [
    "def tinhchatA(L_dangtruoca,a): ## hàm kiểm tra tính chất\n",
    "    for i in L_dangtruoca:\n",
    "        if a <= i:\n",
    "            return False\n",
    "    return True\n",
    "\n",
    "def demtinhchatA(L): ## Hàm yêu cầu của đề\n",
    "    dem = 0\n",
    "    for i in range(len(L)):\n",
    "        print(L[:i],L[i])\n",
    "        if tinhchatA(L[:i],L[i]):\n",
    "            dem += 1\n",
    "    return dem\n",
    "\n",
    "L = [3,7,5,2,8]\n",
    "demtinhchatA(L)"
   ]
  },
  {
   "cell_type": "code",
   "execution_count": 1,
   "id": "0035318a",
   "metadata": {},
   "outputs": [
    {
     "name": "stdout",
     "output_type": "stream",
     "text": [
      "[] 3\n",
      "[3] 7\n",
      "[3, 7] 5\n",
      "[3, 7, 5] 2\n",
      "[3, 7, 5, 2] 8\n"
     ]
    },
    {
     "data": {
      "text/plain": [
       "3"
      ]
     },
     "execution_count": 1,
     "metadata": {},
     "output_type": "execute_result"
    }
   ],
   "source": [
    "def tinhchatA(L_dangtruoca,a):\n",
    "    for i in L_dangtruoca:\n",
    "        if a <= i:\n",
    "            return False\n",
    "    return True\n",
    "\n",
    "def demtinhchatA(L):\n",
    "    dem = 0\n",
    "    for i in range(len(L)):\n",
    "        print(L[:i],L[i])\n",
    "        if tinhchatA(L[:i],L[i]):\n",
    "            dem += 1\n",
    "    return dem\n",
    "\n",
    "L = [3,7,5,2,8]\n",
    "demtinhchatA(L)\n"
   ]
  },
  {
   "cell_type": "code",
   "execution_count": null,
   "id": "33f9e4a3",
   "metadata": {},
   "outputs": [],
   "source": [
    "L = [1,2,3,4,1,5]\n",
    "def ktgiatri(L):\n",
    "    \n",
    "def demso(L):\n",
    "    for i in L:\n",
    "        if ktgiatri(L) == True: \n",
    "            \n",
    "    "
   ]
  },
  {
   "cell_type": "markdown",
   "id": "09720f79",
   "metadata": {},
   "source": [
    "Hãy trộn hai mảng tăng dần lại thành 1 mảng được sắp thứ tự tăng dần"
   ]
  },
  {
   "cell_type": "code",
   "execution_count": null,
   "id": "686d6d6f",
   "metadata": {},
   "outputs": [],
   "source": [
    "L1 = [1,3,6,7]\n",
    "L2 = [2,5,7,8]\n",
    "## ~~> L = [1,2,3,5,6,7,7,8]\n",
    "def tronmang(L1,L2):\n",
    "    L_kq = []\n",
    "    while len(L1) != 0 or len(L2) != 0:\n",
    "        if len(L2) == 0 or (len(L1) != 0 and L1[0] < L2[0]):\n",
    "            L_kq.append(L1[0])\n",
    "            L1.pop(0)\n",
    "        else:\n",
    "            L_kq.append(L2[0])\n",
    "            L2.pop(0)\n",
    "    return L_kq\n",
    "print(tronmang(L1,L2))"
   ]
  },
  {
   "cell_type": "code",
   "execution_count": 2,
   "id": "d91a0d7c",
   "metadata": {},
   "outputs": [
    {
     "name": "stdout",
     "output_type": "stream",
     "text": [
      "[1, 2, 3, 5, 6, 7, 7, 8]\n"
     ]
    }
   ],
   "source": [
    "L1 = [1,3,6,7]\n",
    "L2 = [2,5,7,8]\n",
    "## ~~> L = [1,2,3,5,6,7,7,8]\n",
    "def tronmang(L1,L2):\n",
    "    L_kq = []\n",
    "    while len(L1) != 0 or len(L2) != 0:\n",
    "        if len(L2) == 0 or (len(L1) != 0 and L1[0] < L2[0]):\n",
    "            L_kq.append(L1[0])\n",
    "            L1.pop(0)\n",
    "        else:\n",
    "            L_kq.append(L2[0])\n",
    "            L2.pop(0)\n",
    "    return L_kq\n",
    "print(tronmang(L1,L2))"
   ]
  },
  {
   "cell_type": "markdown",
   "id": "c2a03df7",
   "metadata": {},
   "source": [
    "Hãy đưa các số chẵn trong mảng về đầu mảng, số lẻ về cuối mảng và các phần tử 0 năm ở giữa"
   ]
  },
  {
   "cell_type": "code",
   "execution_count": null,
   "id": "1182f5da",
   "metadata": {},
   "outputs": [],
   "source": [
    "def sapxep(L):\n",
    "    L_chan = []\n",
    "    L_le = []\n",
    "    L_khong = []\n",
    "    for i in L:\n",
    "        if i == 0:\n",
    "            L_khong.append(i)\n",
    "        elif i % 2 == 0:\n",
    "            L_chan.append(i)\n",
    "        else:\n",
    "            L_le.append(i)\n",
    "    L_kq = L_chan + L_khong + L_le\n",
    "    return L_kq\n",
    "L = [1,2,3,5,6,7,7,8,0,0]\n",
    "print(sapxep(L))"
   ]
  },
  {
   "cell_type": "code",
   "execution_count": 3,
   "id": "2595ba23",
   "metadata": {},
   "outputs": [
    {
     "name": "stdout",
     "output_type": "stream",
     "text": [
      "[2, 6, 8, 0, 0, 1, 3, 5, 7, 7]\n"
     ]
    }
   ],
   "source": [
    "def sapxep(L):\n",
    "    L_chan = []\n",
    "    L_le = []\n",
    "    L_khong = []\n",
    "    for i in L:\n",
    "        if i == 0:\n",
    "            L_khong.append(i)\n",
    "        elif i % 2 == 0:\n",
    "            L_chan.append(i)\n",
    "        else:\n",
    "            L_le.append(i)\n",
    "    L_kq = L_chan + L_khong + L_le\n",
    "    return L_kq\n",
    "L = [1,2,3,5,6,7,7,8,0,0]\n",
    "print(sapxep(L))"
   ]
  },
  {
   "cell_type": "markdown",
   "id": "88a5356c",
   "metadata": {},
   "source": [
    "Hãy đưa các số chia hết cho 3 về đầu mảng"
   ]
  },
  {
   "cell_type": "code",
   "execution_count": null,
   "id": "2015e143",
   "metadata": {},
   "outputs": [],
   "source": []
  },
  {
   "cell_type": "markdown",
   "id": "873d2a46",
   "metadata": {},
   "source": [
    "Hãy xuất mảng theo yêu cầu: các phần tử chẵn nằm trên một hàng, các phần tử lẻ nằm ở hàng tiếp theo"
   ]
  },
  {
   "cell_type": "code",
   "execution_count": null,
   "id": "99109b77",
   "metadata": {},
   "outputs": [],
   "source": []
  },
  {
   "cell_type": "markdown",
   "id": "5e2c226d",
   "metadata": {},
   "source": [
    "Hãy biến đổi mảng bằng cách thay các giá trị lớn nhất bằng giá trị nhỏ nhất và ngược lại"
   ]
  },
  {
   "cell_type": "code",
   "execution_count": null,
   "id": "62eefa1a",
   "metadata": {},
   "outputs": [],
   "source": []
  },
  {
   "cell_type": "markdown",
   "id": "4c5e92fa",
   "metadata": {},
   "source": [
    "Hãy đảo ngược thứ tự các số chẵn và các số lẻ trong mảng mà vẫn giữ nguyên vị trí tương đối của chúng"
   ]
  },
  {
   "cell_type": "code",
   "execution_count": null,
   "id": "0d6ba5f3",
   "metadata": {},
   "outputs": [],
   "source": [
    "[2,5,7,14] ~~> [5,2,14,7]\n",
    "## List phải có số lượng số lẻ bằng với số lượng số chẳn"
   ]
  }
 ],
 "metadata": {
  "kernelspec": {
   "display_name": "Python 3 (ipykernel)",
   "language": "python",
   "name": "python3"
  },
  "language_info": {
   "codemirror_mode": {
    "name": "ipython",
    "version": 3
   },
   "file_extension": ".py",
   "mimetype": "text/x-python",
   "name": "python",
   "nbconvert_exporter": "python",
   "pygments_lexer": "ipython3",
   "version": "3.10.1"
  }
 },
 "nbformat": 4,
 "nbformat_minor": 5
}
