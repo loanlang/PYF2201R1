{
 "cells": [
  {
   "cell_type": "markdown",
   "id": "fad0ff18",
   "metadata": {},
   "source": [
    "# List\n",
    "\n",
    "### Đặt vấn đề\n",
    "\n",
    "Nếu như ta có một lượng dữ liệu không biết trước được số lượng cần lưu vào biến, ta không thể lưu bằng cách thông thường\n",
    "\n",
    "Lấy ví dụ:\n",
    "\n",
    "Nhập vào số n, sau đó nhập tiếp n số và lưu trữ n số đó vào biến\n",
    "\n",
    "Vậy ta hoàn toàn không biết được người dùng sẽ nhập bao nhiêu số để lưu trữ\n",
    "\n",
    "Lúc này ta cần đến List\n",
    "\n",
    "List giúp chúng ta lưu nhiều giá trị cùng 1 lúc, nhưng chỉ cần đặt tên cho nó lần\n",
    "\n",
    "##### Tài liệu tham khảo: https://www.w3schools.com/python/python_lists.asp"
   ]
  },
  {
   "cell_type": "markdown",
   "id": "4ca9e91e",
   "metadata": {},
   "source": [
    "### Cách thức khai báo List\n",
    "\n",
    "Cú pháp:\n",
    "\n",
    "`<tên list> = []`\n",
    "\n",
    "##### List được khai báo bằng 2 dấu ngoặc vuông\n",
    "\n",
    "<b> Ví dụ 1: </b>\n",
    "\n",
    "`a = []`\n",
    "\n",
    "a là một list, không có bất kỳ phần tử nào trong đó\n",
    "\n",
    "<b> Ví dụ 2: </b>\n",
    "\n",
    "`b = [1,2,3]`\n",
    "\n",
    "##### Các phần tử trong list được khai báo, mỗi phần tử cách nhau một dấu phẩy\n",
    "\n",
    "b là một list có 3 phần tử\n",
    "\n",
    "<b> Ví dụ 3: </b>\n",
    "\n",
    "`c = [\"abc\",5,1.5]`\n",
    "\n",
    "##### Các phần tử trong list có thể có những kiểu dữ liệu khác nhau\n",
    "\n",
    "c là một list có 3 phần tử, phần tử thứ nhất có kiểu dữ liệu là chuỗi, phần tử thứ hai có kiểu dữ liệu là số nguyên và phần tử cuối cùng có kiểu dữ liệu là số thực\n",
    "\n",
    "<b> Hãy khai báo một list xong rồi in list đó lên màn hình </b>"
   ]
  },
  {
   "cell_type": "code",
   "execution_count": 1,
   "id": "97a67ccc",
   "metadata": {},
   "outputs": [
    {
     "name": "stdout",
     "output_type": "stream",
     "text": [
      "[5, 7, 8, 5, 1, 'hello']\n"
     ]
    }
   ],
   "source": [
    "L = [5,7,8,5,1,\"hello\"]\n",
    "print(L)"
   ]
  },
  {
   "cell_type": "code",
   "execution_count": 4,
   "id": "819edbe7",
   "metadata": {},
   "outputs": [
    {
     "name": "stdout",
     "output_type": "stream",
     "text": [
      "e\n"
     ]
    }
   ],
   "source": [
    "a = [1,4,\"hello\",5]\n",
    "b = a[2][1]\n",
    "print(b)"
   ]
  },
  {
   "cell_type": "code",
   "execution_count": null,
   "id": "c2f37351",
   "metadata": {},
   "outputs": [],
   "source": [
    "a = [1,\"abc\"]\n",
    "print(a)"
   ]
  },
  {
   "cell_type": "code",
   "execution_count": null,
   "id": "bd693205",
   "metadata": {},
   "outputs": [],
   "source": [
    "a = [5,6,7]\n",
    "print(a)"
   ]
  },
  {
   "cell_type": "markdown",
   "id": "be8e19b0",
   "metadata": {},
   "source": [
    "### Truy xuất phần tử trong List\n",
    "\n",
    "Giống như chuỗi, các phần tử trong list được truy xuất theo cú pháp:\n",
    "\n",
    "`<tên list>[<vị trí của phần tử>]`\n",
    "\n",
    "<b> Ví dụ 1: </b>\n",
    "\n",
    "`a = [1,4,6]\n",
    "print(a[1])`\n",
    "\n",
    "Màn hình sẽ in ra 4\n",
    "\n",
    "<b> Hãy khai báo một list có một chuỗi và một số rồi in chuỗi trong list đó ra màn hình </b>"
   ]
  },
  {
   "cell_type": "code",
   "execution_count": null,
   "id": "c591a7aa",
   "metadata": {},
   "outputs": [],
   "source": []
  },
  {
   "cell_type": "code",
   "execution_count": 3,
   "id": "245c671c",
   "metadata": {},
   "outputs": [
    {
     "name": "stdout",
     "output_type": "stream",
     "text": [
      "e\n"
     ]
    }
   ],
   "source": []
  },
  {
   "cell_type": "code",
   "execution_count": null,
   "id": "bb3f9141",
   "metadata": {},
   "outputs": [],
   "source": [
    "L=[\"Hello\",2,1.5]\n",
    "b = L[0]\n",
    "print(b[2])"
   ]
  },
  {
   "cell_type": "code",
   "execution_count": null,
   "id": "76f19945",
   "metadata": {},
   "outputs": [],
   "source": [
    "a = [4,\"hello\",6]\n",
    "print(a[1][0])"
   ]
  },
  {
   "cell_type": "markdown",
   "id": "ad61e236",
   "metadata": {},
   "source": [
    "### Thêm phần tử vào List\n",
    "\n",
    "Cú pháp:\n",
    "\n",
    "`<tên list>.append()`\n",
    "\n",
    "<b>Ví dụ:</b>\n",
    "\n",
    "`a = []\n",
    "a.append(5)`\n",
    "\n",
    "a sẽ có 1 phần tử là 5\n",
    "\n",
    "<b> Hãy khai báo một list rỗng, rồi thêm 2 phần tử bất kỳ vào list đó, sau đó in list đó ra</b>"
   ]
  },
  {
   "cell_type": "code",
   "execution_count": null,
   "id": "2f385f30",
   "metadata": {},
   "outputs": [],
   "source": [
    "a = []\n",
    "a.append(5)\n",
    "a.append(6)\n",
    "print(a)"
   ]
  },
  {
   "cell_type": "code",
   "execution_count": null,
   "id": "5823ddca",
   "metadata": {},
   "outputs": [],
   "source": [
    "a = []\n",
    "a.append(5)\n",
    "a.append(\"ABC\")\n",
    "print(a)\n",
    "print(a[len(a)-1])"
   ]
  },
  {
   "cell_type": "code",
   "execution_count": null,
   "id": "700c6eb5",
   "metadata": {},
   "outputs": [],
   "source": [
    "a = [4,5,7,]\n",
    "a.append(5)\n",
    "a.append(\"hello\")\n",
    "print(a)"
   ]
  },
  {
   "cell_type": "markdown",
   "id": "8c92d3d3",
   "metadata": {},
   "source": [
    "### Thay đổi giá trị của List\n",
    "\n",
    "Cú pháp:\n",
    "\n",
    "`<tên list>[<vị trí của phần tử>] = <giá trị mới>`\n",
    "\n",
    "<b> Hãy khai báo một list bất kỳ, rồi thay đổi 1 phần tử trong nó, sau đó in list đó ra</b>"
   ]
  },
  {
   "cell_type": "code",
   "execution_count": 5,
   "id": "a0a3dca9",
   "metadata": {},
   "outputs": [
    {
     "name": "stdout",
     "output_type": "stream",
     "text": [
      "[7, 8, 23]\n"
     ]
    }
   ],
   "source": [
    "a = [7,5,23]\n",
    "a[1] = 8\n",
    "print(a)"
   ]
  },
  {
   "cell_type": "code",
   "execution_count": null,
   "id": "e3510507",
   "metadata": {},
   "outputs": [],
   "source": [
    "a = \"xin chao\"\n",
    "a = a[:2] + \"a\" + a[3:]\n",
    "print(a)"
   ]
  },
  {
   "cell_type": "code",
   "execution_count": null,
   "id": "722f1a8d",
   "metadata": {},
   "outputs": [],
   "source": [
    "a = [7,\"hello\",23]\n",
    "a[1] ="
   ]
  },
  {
   "cell_type": "code",
   "execution_count": null,
   "id": "13c61075",
   "metadata": {},
   "outputs": [],
   "source": [
    "a = [12]\n",
    "a.append(5)\n",
    "a.append(\"ABC\")\n",
    "print(a)\n",
    "a.insert(1,15)\n",
    "print(a)"
   ]
  },
  {
   "cell_type": "code",
   "execution_count": null,
   "id": "1ce47f3c",
   "metadata": {},
   "outputs": [],
   "source": [
    "chuoi = \"ABCDEFGH\"\n",
    "chuoi = chuoi[:3] + \"Z\" + chuoi[3+1:]\n",
    "print(chuoi)"
   ]
  },
  {
   "cell_type": "code",
   "execution_count": null,
   "id": "a8d6d82d",
   "metadata": {},
   "outputs": [],
   "source": [
    "a = [4,5,7]\n",
    "a[0] = 1\n",
    "print(a)"
   ]
  },
  {
   "cell_type": "markdown",
   "id": "ce14eefe",
   "metadata": {},
   "source": [
    "### Xóa 1 phần tử trong list\n",
    "\n",
    "#### Lệnh remove()\n",
    "\n",
    "Cú pháp:\n",
    "\n",
    "`<tên list>.remove(<giá trị cần xóa>)`\n",
    "\n",
    "<b>Ví dụ:</b>\n",
    "\n",
    "`a = [\"hi\",3,\"hello\",4]\n",
    "a.remove(\"hi\")`\n",
    "\n",
    "Sau khi thực hiện lệnh trên, a chỉ còn [3,\"hello\",4]\n",
    "\n",
    "<b> Hãy khai báo một list bất kỳ, rồi xóa 1 phần tử trong nó bằng lệnh remove(), sau đó in list đó ra</b>"
   ]
  },
  {
   "cell_type": "code",
   "execution_count": 8,
   "id": "f6b877db",
   "metadata": {},
   "outputs": [
    {
     "name": "stdout",
     "output_type": "stream",
     "text": [
      "[3, 'hello', 4, 'hi']\n"
     ]
    }
   ],
   "source": [
    "a = [\"hi\",3,\"hello\",4,\"hi\"]\n",
    "a.remove(\"hi\")\n",
    "a.remove(\"hi\")\n",
    "print(a)"
   ]
  },
  {
   "cell_type": "code",
   "execution_count": null,
   "id": "f79402ad",
   "metadata": {},
   "outputs": [],
   "source": [
    "a = [5,3,\"hi\",\"hello\",\"hi\",4]\n",
    "a.remove(\"hi\")\n",
    "print(a)"
   ]
  },
  {
   "cell_type": "code",
   "execution_count": null,
   "id": "6b9eab9d",
   "metadata": {},
   "outputs": [],
   "source": [
    "a = [3,4,5,3]\n",
    "a.remove(3)\n",
    "print(a)"
   ]
  },
  {
   "cell_type": "markdown",
   "id": "ec66c5cc",
   "metadata": {},
   "source": [
    "#### Lệnh pop()\n",
    "\n",
    "Cú pháp:\n",
    "\n",
    "`<tên list>.pop(<vị trí cần xóa>)`\n",
    "\n",
    "<b>Ví dụ:</b>\n",
    "\n",
    "`a = [\"hi\",3,\"hello\",4]\n",
    "a.pop(3)`\n",
    "\n",
    "Sau khi thực hiện lệnh trên, a chỉ còn [\"hi\",3,\"hello\"]\n",
    "\n",
    "<b> Hãy khai báo một list bất kỳ, rồi xóa 1 phần tử trong nó bằng lệnh pop(), sau đó in list đó ra</b>"
   ]
  },
  {
   "cell_type": "code",
   "execution_count": 11,
   "id": "5550e42c",
   "metadata": {},
   "outputs": [
    {
     "name": "stdout",
     "output_type": "stream",
     "text": [
      "['hi', 4]\n"
     ]
    }
   ],
   "source": [
    "a = [\"hi\",3,\"hello\",4]\n",
    "a.pop(1)\n",
    "a.pop(1)\n",
    "print(a)"
   ]
  },
  {
   "cell_type": "code",
   "execution_count": 9,
   "id": "eeaa0766",
   "metadata": {},
   "outputs": [
    {
     "name": "stdout",
     "output_type": "stream",
     "text": [
      "['hi', 3, 'hello']\n"
     ]
    }
   ],
   "source": [
    "a = [\"hi\",3,\"hello\",4]\n",
    "a.pop(3)\n",
    "print(a)"
   ]
  },
  {
   "cell_type": "code",
   "execution_count": null,
   "id": "86c1b2f0",
   "metadata": {},
   "outputs": [],
   "source": [
    "a = [3,4,5,3]\n",
    "a.pop(0)\n",
    "print(a[0])"
   ]
  },
  {
   "cell_type": "markdown",
   "id": "96daac1c",
   "metadata": {},
   "source": [
    "### Sao chép list\n",
    "\n",
    "###### Lưu ý: Nếu ta có list a, ta thực hiện lệnh b = a, list b sẽ bị ảnh hưởng khi list a có sự thay đổi\n",
    "\n",
    "<b> Ví dụ: </b>\n",
    "\n",
    "`a = [5,7,1]\n",
    "b = a\n",
    "a.remove(5)`\n",
    "\n",
    "Khi thực hiện 3 lệnh trên, b sẽ bằng [7,1], dù cho ta thực hiện lệnh `b = a` trước `a.remove(5)`\n",
    "\n",
    "<b> Kiểm chứng sự ảnh hưởng khi gán list </b>"
   ]
  },
  {
   "cell_type": "code",
   "execution_count": 12,
   "id": "55c47c9b",
   "metadata": {},
   "outputs": [
    {
     "name": "stdout",
     "output_type": "stream",
     "text": [
      "[5, 7, 1, 10]\n"
     ]
    }
   ],
   "source": [
    "a = [5,7,1]\n",
    "b = a\n",
    "a.append(10) # chi co trong python, khong co trong nhung ngon ngu khac\n",
    "print(b)"
   ]
  },
  {
   "cell_type": "code",
   "execution_count": 13,
   "id": "1dbdf54b",
   "metadata": {},
   "outputs": [
    {
     "name": "stdout",
     "output_type": "stream",
     "text": [
      "a = [7, 1]\n",
      "b = [7, 1]\n"
     ]
    }
   ],
   "source": [
    "a = [5,7,1]\n",
    "b = a\n",
    "a.remove(5)\n",
    "print(\"a =\",a)\n",
    "print(\"b =\",b)"
   ]
  },
  {
   "cell_type": "code",
   "execution_count": 16,
   "id": "d463eb8b",
   "metadata": {},
   "outputs": [
    {
     "name": "stdout",
     "output_type": "stream",
     "text": [
      "[7, 1]\n",
      "[5, 7, 1]\n"
     ]
    }
   ],
   "source": [
    "a = [5,7,1]\n",
    "b = a[:]\n",
    "a.remove(5)  # TG Code + TG chay nen dung python cham hon C++\n",
    "print(a)\n",
    "print(b)"
   ]
  },
  {
   "cell_type": "code",
   "execution_count": null,
   "id": "8d549bc3",
   "metadata": {},
   "outputs": [],
   "source": [
    "a = 5\n",
    "b = a\n",
    "a = 3\n",
    "print(\"a =\",a)\n",
    "print(\"b =\",b)"
   ]
  },
  {
   "cell_type": "code",
   "execution_count": 14,
   "id": "d71cdc68",
   "metadata": {},
   "outputs": [
    {
     "name": "stdout",
     "output_type": "stream",
     "text": [
      "a = [7, 1, 7]\n",
      "b = [7, 1, 7]\n"
     ]
    }
   ],
   "source": [
    "a = [5,7,1]\n",
    "b = a\n",
    "a.remove(5)\n",
    "b.append(7)\n",
    "print(\"a =\",a)\n",
    "print(\"b =\",b)"
   ]
  },
  {
   "cell_type": "markdown",
   "id": "c9c51aad",
   "metadata": {},
   "source": [
    "### Lệnh copy()\n",
    "\n",
    "Cú pháp:\n",
    "\n",
    "`<tên list>.copy()`\n",
    "\n",
    "##### Dùng lệnh copy sẽ khắc phục được vấn đề gán list a cho b\n",
    "\n",
    "<b> Ví dụ: </b>\n",
    "\n",
    "`a = [5,7,1]\n",
    "b = a.copy()\n",
    "a.remove(5)`\n",
    "\n",
    "Khi thực hiện 3 lệnh trên, b vẫn sẽ bằng [5,7,1]\n",
    "\n",
    "Lúc này, b sẽ là một list mới độc lập hoàn toàn với a\n",
    "\n",
    "<b> Khai báo list a, dùng lệnh copy cho list b, rồi thêm phần tử vào list a, sau đó in cả 2 list lên màn hình</b>"
   ]
  },
  {
   "cell_type": "code",
   "execution_count": null,
   "id": "543b78e8",
   "metadata": {},
   "outputs": [],
   "source": [
    "a = [5,7,1]\n",
    "b = a.copy()\n",
    "a.remove(5)\n"
   ]
  },
  {
   "cell_type": "code",
   "execution_count": 15,
   "id": "46759662",
   "metadata": {},
   "outputs": [
    {
     "name": "stdout",
     "output_type": "stream",
     "text": [
      "a = [7, 1]\n",
      "b = [5, 7, 1]\n"
     ]
    }
   ],
   "source": [
    "a = [5,7,1]\n",
    "b = a.copy()\n",
    "a.remove(5)\n",
    "print(\"a =\",a)\n",
    "print(\"b =\",b)"
   ]
  },
  {
   "cell_type": "code",
   "execution_count": null,
   "id": "3770e51a",
   "metadata": {},
   "outputs": [],
   "source": [
    "a=[\"hi\",\"hello\",\"h\"]\n",
    "a[1] = \"Xin chào\"\n",
    "print(a)\n",
    "#a.remove[\"h\"]\n",
    "#print(a)\n",
    "#print(b)"
   ]
  },
  {
   "cell_type": "code",
   "execution_count": null,
   "id": "b2ffe15b",
   "metadata": {},
   "outputs": [],
   "source": [
    "chuoi = \"Xin chào mọi người\"\n",
    "chuoi = chuoi[1:]\n",
    "print(chuoi)"
   ]
  },
  {
   "cell_type": "code",
   "execution_count": null,
   "id": "825680d7",
   "metadata": {},
   "outputs": [],
   "source": [
    "a = [5,7,1]\n",
    "b = a.copy()\n",
    "a.remove(5)\n",
    "print(\"a =\",a)\n",
    "print(\"b =\",b)"
   ]
  },
  {
   "cell_type": "markdown",
   "id": "d8f470e0",
   "metadata": {},
   "source": [
    "### Lệnh len()\n",
    "\n",
    "Tương tự như chuỗi, ta có thể dùng lệnh len cho list để trả về số lượng của list\n",
    "\n",
    "<b> Ví dụ:</b>\n",
    "\n",
    "`a = [3,\"Hello\",5,\"hi\"]\n",
    "b = len(a)`\n",
    "\n",
    "Giá trị của b là 4\n",
    "\n",
    "<b> Khai báo list a, in lên độ dài của list a </b>"
   ]
  },
  {
   "cell_type": "code",
   "execution_count": 19,
   "id": "4136efa4",
   "metadata": {},
   "outputs": [
    {
     "name": "stdout",
     "output_type": "stream",
     "text": [
      "4\n"
     ]
    }
   ],
   "source": [
    "a = [3,\"Hello\",5,\"hi\"]\n",
    "b = len(a)\n",
    "print(b)"
   ]
  },
  {
   "cell_type": "code",
   "execution_count": null,
   "id": "dfbcf0db",
   "metadata": {},
   "outputs": [],
   "source": [
    "a = [\"xin chào\",\"hello\",\"bonjour\"]\n",
    "b = len(a)\n",
    "print(b)"
   ]
  },
  {
   "cell_type": "code",
   "execution_count": null,
   "id": "8e78b3bd",
   "metadata": {},
   "outputs": [],
   "source": [
    "a = [1,\"HEELO\",3,4]\n",
    "print(len(a[1]))"
   ]
  },
  {
   "cell_type": "markdown",
   "id": "8ac29b78",
   "metadata": {},
   "source": [
    "### Duyệt list bằng lệnh for\n",
    "\n",
    "<b> Duyệt list với vị trí </b>"
   ]
  },
  {
   "cell_type": "code",
   "execution_count": 20,
   "id": "c33e6902",
   "metadata": {},
   "outputs": [
    {
     "name": "stdout",
     "output_type": "stream",
     "text": [
      "5\n",
      "7\n",
      "hello\n",
      "xin chao\n"
     ]
    }
   ],
   "source": [
    "L = [5,7,\"hello\",\"xin chao\"]\n",
    "for i in range(len(L)):#~~> tập lặp là range = (0,1,2,3,...,len(a)-1)\n",
    "    print(L[i])"
   ]
  },
  {
   "cell_type": "code",
   "execution_count": null,
   "id": "1be33622",
   "metadata": {},
   "outputs": [],
   "source": [
    "a = [\"xin chào\",\"hello\",\"bonjour\"]\n",
    "for i in range(len(a)): #~~> tập lặp là range = (0,1,2,3,...,len(a)-1)\n",
    "    a[i] = a[i].upper()\n",
    "print(a)"
   ]
  },
  {
   "cell_type": "code",
   "execution_count": null,
   "id": "29da0e42",
   "metadata": {},
   "outputs": [],
   "source": [
    "a = [\"xin chào\",\"hello\",\"bonjour\"]\n",
    "for i in range(3,7): #~~> tập lặp là range = (3,4,5,6)\n",
    "    a[i] = a[i].upper()\n",
    "print(a)"
   ]
  },
  {
   "cell_type": "code",
   "execution_count": null,
   "id": "3eae866a",
   "metadata": {},
   "outputs": [],
   "source": [
    "a = [1,\"heelo\",6]\n",
    "for i in range(len(a)):\n",
    "    print(a[i])"
   ]
  },
  {
   "cell_type": "markdown",
   "id": "53b6e6eb",
   "metadata": {},
   "source": [
    "<b> Duyệt list với giá trị từng phần tử</b>"
   ]
  },
  {
   "cell_type": "code",
   "execution_count": 21,
   "id": "b81b9923",
   "metadata": {},
   "outputs": [
    {
     "name": "stdout",
     "output_type": "stream",
     "text": [
      "5\n",
      "7\n",
      "hello\n",
      "xin chao\n"
     ]
    }
   ],
   "source": [
    "L = [5,7,\"hello\",\"xin chao\"]\n",
    "for i in L: #~~> tập lặp là L\n",
    "    print(i)"
   ]
  },
  {
   "cell_type": "code",
   "execution_count": 23,
   "id": "f6c01b07",
   "metadata": {},
   "outputs": [
    {
     "name": "stdout",
     "output_type": "stream",
     "text": [
      "[1, 1, 1, 1]\n"
     ]
    }
   ],
   "source": [
    "L = [5,7,\"hello\",\"xin chào\"]\n",
    "## Hãy chuyển toàn bộ giá trị trong list thành 1\n",
    "for i in range(len(L)):\n",
    "    L[i] = 1\n",
    "print(L)"
   ]
  },
  {
   "cell_type": "code",
   "execution_count": null,
   "id": "259e0b2d",
   "metadata": {},
   "outputs": [],
   "source": []
  },
  {
   "cell_type": "code",
   "execution_count": null,
   "id": "cdf22aa3",
   "metadata": {},
   "outputs": [],
   "source": [
    "a = [\"xin chào\",\"5\",\"bonjour\"]\n",
    "for i in a: #~~> Không có range tập lặp: [\"xin chào\",\"5\",\"bonjour\"]\n",
    "    i = i.upper()\n",
    "    print(i)\n",
    "#print(a)"
   ]
  },
  {
   "cell_type": "code",
   "execution_count": 22,
   "id": "24e14f25",
   "metadata": {},
   "outputs": [
    {
     "name": "stdout",
     "output_type": "stream",
     "text": [
      "1\n",
      "heelo\n",
      "6\n"
     ]
    }
   ],
   "source": [
    "a = [1,\"heelo\",6]\n",
    "for i in a:\n",
    "    print(i)"
   ]
  },
  {
   "cell_type": "markdown",
   "id": "3fcda853",
   "metadata": {},
   "source": [
    "### Bài tập"
   ]
  },
  {
   "cell_type": "markdown",
   "id": "72d9a5fa",
   "metadata": {},
   "source": [
    "Nhập vào một dãy số nguyên dương (ngưng nhập nếu người dùng nhập -1)\n",
    "\n",
    "Sau khi nhập hãy:\n",
    "- In ra số lớn nhất trong dãy\n",
    "- In ra số bé nhất trong dãy\n",
    "- In ra dãy số nguyên tố tìm được trong dãy vừa nhập"
   ]
  },
  {
   "cell_type": "code",
   "execution_count": 1,
   "id": "3e4e85e3",
   "metadata": {},
   "outputs": [
    {
     "name": "stdout",
     "output_type": "stream",
     "text": [
      "Nhập vào a:12\n",
      "Nhập vào a:13\n",
      "Nhập vào a:7\n",
      "Nhập vào a:8\n",
      "Nhập vào a:10\n",
      "Nhập vào a:-1\n",
      "[12, 13, 7, 8, 10]\n"
     ]
    }
   ],
   "source": [
    "a = int(input(\"Nhập vào a:\"))\n",
    "L = []\n",
    "while a != -1:\n",
    "    L.append(a)\n",
    "    a = int(input(\"Nhập vào a:\"))\n",
    "    \n",
    "print(L)\n",
    "\n",
    "max = L[0]\n",
    "min = L[0]\n",
    "for i in L:\n",
    "    if i > max:\n",
    "        max = i\n",
    "    if i < min:\n",
    "        min = i\n",
    "print(max)\n",
    "print(min)\n",
    "\n",
    "def snt(a):\n",
    "    for i in range(2,a):\n",
    "        if a % i == 0:\n",
    "            return False\n",
    "    if a<2:\n",
    "        return False\n",
    "    return True\n",
    "\n",
    "print(\"Dãy số nguyên tố tìm được trong L là:\")\n",
    "for i in L:\n",
    "    if snt(i):\n",
    "        print(i)"
   ]
  },
  {
   "cell_type": "code",
   "execution_count": null,
   "id": "19dfddd9",
   "metadata": {},
   "outputs": [],
   "source": [
    "def songuyento(a):\n",
    "    for i in range(2,int(a**0.5)+1):\n",
    "        if a%i==0:\n",
    "            return False\n",
    "    return True\n",
    "\n",
    "L = []\n",
    "so = int(input(\"Nhập số:\"))\n",
    "while so != -1:\n",
    "    L.append(so)\n",
    "    so = int(input(\"Nhập số:\"))\n",
    "print(L)\n",
    "\n",
    "maxx = L[0]\n",
    "for i in L:\n",
    "    if i > maxx:\n",
    "        maxx = i\n",
    "print(maxx)\n",
    "print(\"Số lớn nhất trong list là:\",maxx)\n",
    "\n",
    "#Tìm số nhỏ nhất\n",
    "min = L[0]\n",
    "for i in range(len(L)):\n",
    "    if L[i] < min:\n",
    "        min = L[i]\n",
    "print(\"Số bé nhất trong list là:\",min)\n",
    "\n",
    "snt = []\n",
    "for i in L:\n",
    "    if songuyento(i):\n",
    "        snt.append(i)\n",
    "print(\"Số nguyên tố:\",snt)"
   ]
  },
  {
   "cell_type": "code",
   "execution_count": 1,
   "id": "a6925bae",
   "metadata": {},
   "outputs": [
    {
     "name": "stdout",
     "output_type": "stream",
     "text": [
      "Nhập số: 6\n",
      "Nhập số: 9\n",
      "Nhập số: 2\n",
      "Nhập số: -1\n",
      "[6, 9, 2]\n",
      "9\n",
      "2\n",
      "Dãy nguyên tố: [2]\n"
     ]
    }
   ],
   "source": [
    "### Nhập từng số đưa vào list, khi nào nhập -1 thì ngưng\n",
    "a = []\n",
    "num = int(input(\"Nhập số: \"))\n",
    "while (num != -1):\n",
    "    a.append(num)\n",
    "    num = int(input(\"Nhập số: \"))\n",
    "print(a)\n",
    "    \n",
    "maxx = a[0]\n",
    "minn = a[0]\n",
    "for i in a:\n",
    "    if i > maxx:\n",
    "        maxx = i\n",
    "    if i < minn:\n",
    "        minn = i\n",
    "print(maxx)\n",
    "print(minn)\n",
    "\n",
    "def songuyento(a):\n",
    "    if a < 1:\n",
    "        return False\n",
    "    elif a == 2:\n",
    "        return True\n",
    "    elif a > 2:\n",
    "        for i in range(2,a):\n",
    "            if a % i == 0:\n",
    "                return False\n",
    "        return True\n",
    "b = []\n",
    "for i in a:\n",
    "    if (songuyento(i)):\n",
    "        b.append(i)\n",
    "print(\"Dãy nguyên tố:\",b)"
   ]
  },
  {
   "cell_type": "code",
   "execution_count": 1,
   "id": "f38a6323",
   "metadata": {},
   "outputs": [
    {
     "ename": "NameError",
     "evalue": "name 'L' is not defined",
     "output_type": "error",
     "traceback": [
      "\u001b[1;31m---------------------------------------------------------------------------\u001b[0m",
      "\u001b[1;31mNameError\u001b[0m                                 Traceback (most recent call last)",
      "\u001b[1;32m~\\AppData\\Local\\Temp/ipykernel_9020/3584267274.py\u001b[0m in \u001b[0;36m<module>\u001b[1;34m\u001b[0m\n\u001b[0;32m      4\u001b[0m             \u001b[1;32mreturn\u001b[0m \u001b[1;32mFalse\u001b[0m\u001b[1;33m\u001b[0m\u001b[1;33m\u001b[0m\u001b[0m\n\u001b[0;32m      5\u001b[0m     \u001b[1;32mreturn\u001b[0m \u001b[1;32mTrue\u001b[0m\u001b[1;33m\u001b[0m\u001b[1;33m\u001b[0m\u001b[0m\n\u001b[1;32m----> 6\u001b[1;33m \u001b[1;32mfor\u001b[0m \u001b[0mj\u001b[0m \u001b[1;32min\u001b[0m \u001b[0mL\u001b[0m\u001b[1;33m:\u001b[0m\u001b[1;33m\u001b[0m\u001b[1;33m\u001b[0m\u001b[0m\n\u001b[0m\u001b[0;32m      7\u001b[0m     \u001b[1;32mif\u001b[0m\u001b[1;33m(\u001b[0m\u001b[0msonguyento\u001b[0m\u001b[1;33m(\u001b[0m\u001b[0mj\u001b[0m\u001b[1;33m)\u001b[0m\u001b[1;33m)\u001b[0m\u001b[1;33m:\u001b[0m\u001b[1;33m\u001b[0m\u001b[1;33m\u001b[0m\u001b[0m\n\u001b[0;32m      8\u001b[0m         \u001b[0mprint\u001b[0m\u001b[1;33m(\u001b[0m\u001b[0mj\u001b[0m\u001b[1;33m)\u001b[0m\u001b[1;33m\u001b[0m\u001b[1;33m\u001b[0m\u001b[0m\n",
      "\u001b[1;31mNameError\u001b[0m: name 'L' is not defined"
     ]
    }
   ],
   "source": [
    "def songuyento(a):\n",
    "    for i in range(2,a):\n",
    "        if a%i==0:\n",
    "            return False\n",
    "    return True\n",
    "for j in L:\n",
    "    if(songuyento(j)):\n",
    "        print(j)"
   ]
  },
  {
   "cell_type": "code",
   "execution_count": null,
   "id": "3b513798",
   "metadata": {},
   "outputs": [],
   "source": [
    "a=int(input(\"Nhập vào 1 số:\"))\n",
    "b=[]\n",
    "b.append(a)\n",
    "print(b)\n",
    "while a!=-1:\n",
    "    a=int(input(\"Nhập vào 1 số:\"))\n",
    "    b[0]=a\n",
    "    print(b)"
   ]
  },
  {
   "cell_type": "markdown",
   "id": "f493bb3e",
   "metadata": {},
   "source": [
    "Viết hàm với dữ liệu đầu vào bao gồm 3 tham số: list, a, b. Hàm này có công dụng tìm số lớn nhất trong đoạn từ vị trí a đến vị trí b trong list."
   ]
  },
  {
   "cell_type": "code",
   "execution_count": null,
   "id": "9763bdb1",
   "metadata": {},
   "outputs": [],
   "source": [
    "L = [5,7,6,5,4]\n",
    "\n",
    "def ham(L,a,b):\n",
    "    sln = L[a]\n",
    "    for i in range(a+1,b+1):\n",
    "        if L[i] > sln:\n",
    "            sln = L[i]\n",
    "    return sln\n",
    "\n",
    "ketqua = ham(L,2,4)\n",
    "print(ketqua)"
   ]
  },
  {
   "cell_type": "code",
   "execution_count": 2,
   "id": "5c4c3ff8",
   "metadata": {},
   "outputs": [
    {
     "name": "stdout",
     "output_type": "stream",
     "text": [
      "6\n"
     ]
    }
   ],
   "source": [
    "def timlonnhat(l,a,b):\n",
    "    maxx=l[a]\n",
    "    for i in range (a,b+1):\n",
    "        if maxx<l[i]:\n",
    "            maxx=l[i]\n",
    "    return maxx\n",
    "l = [1,2,3,5,6,7]\n",
    "print(timlonnhat(l,2,4))"
   ]
  },
  {
   "cell_type": "code",
   "execution_count": null,
   "id": "a730c2f8",
   "metadata": {},
   "outputs": [],
   "source": [
    "L = [5,7,9,12,15,4,6,-7]\n",
    "a = 3\n",
    "b = 6\n",
    "def Timsolonnhat(L,a,b):\n",
    "    print(L[a:b+1])\n",
    "    return max(L[a:b+1])\n",
    "\n",
    "Timsolonnhat(L,a,b)"
   ]
  },
  {
   "cell_type": "code",
   "execution_count": null,
   "id": "6e6382bd",
   "metadata": {},
   "outputs": [],
   "source": [
    "L = [-5,-7,-9,-12,-15,-4,-6,-7]\n",
    "a = 3\n",
    "b = 6\n",
    "\n",
    "def timsolonnhat(L,a,b):\n",
    "    maxx = L[a]\n",
    "    for i in range(a,b+1): #i sẽ chạy từ 3 ~~> 6\n",
    "        if maxx < L[i]: #so sánh từ L[3] ~~> L[6]\n",
    "            maxx = L[i]\n",
    "    return maxx\n",
    "\n",
    "print(timsolonnhat(L,a,b))"
   ]
  },
  {
   "cell_type": "code",
   "execution_count": null,
   "id": "d94ef664",
   "metadata": {},
   "outputs": [],
   "source": [
    "L = [-5,-7,-9,-12,-15,-4,-6,-7]\n",
    "a = 3\n",
    "b = 6\n",
    "def findmax(lis,a,b):\n",
    "    maxx = lis[a]\n",
    "    liscat = lis[a:b+1]\n",
    "    print(liscat)\n",
    "    for i in liscat:\n",
    "        if i > maxx:\n",
    "            maxx = i\n",
    "    return(maxx)\n",
    "\n",
    "print(findmax(L,a,b))"
   ]
  },
  {
   "cell_type": "markdown",
   "id": "87acccb8",
   "metadata": {},
   "source": [
    "Viết hàm có tham số đầu vào là list, giá trị trả về là số lượng số nguyên tố bé hơn 100 trong list"
   ]
  },
  {
   "cell_type": "code",
   "execution_count": null,
   "id": "c605991d",
   "metadata": {},
   "outputs": [],
   "source": [
    "def snt(a):\n",
    "    for i in range(2,a):\n",
    "        if a % i == 0:\n",
    "            return False\n",
    "    if a<2:\n",
    "        return False\n",
    "    return True\n",
    "\n",
    "def demsnt(L):\n",
    "    dem = 0\n",
    "    for i in L:\n",
    "        if snt(i) and i < 100:\n",
    "            dem += 1\n",
    "    return dem\n",
    "\n",
    "L = [5,7,15,18,20,2,3,101]\n",
    "ketqua = demsnt(L)\n",
    "print(ketqua)"
   ]
  },
  {
   "cell_type": "code",
   "execution_count": null,
   "id": "c011c2ea",
   "metadata": {},
   "outputs": [],
   "source": [
    "def songuyento(a):\n",
    "    if a < 1:\n",
    "        return False\n",
    "    elif a == 2:\n",
    "        return True\n",
    "    elif a > 2:\n",
    "        for i in range(2,a):\n",
    "            if a % i == 0:\n",
    "                return False\n",
    "        return True\n",
    "\n",
    "def demsoluong(l):\n",
    "    dem = 0\n",
    "    for i in range(len(l)):\n",
    "        if songuyento(l[i]) and l[i] < 100:\n",
    "            dem += 1\n",
    "    l = dem\n",
    "    return l\n",
    "\n",
    "print(demsoluong([1,2,3,4,5,6]))"
   ]
  },
  {
   "cell_type": "code",
   "execution_count": null,
   "id": "b02ce5ad",
   "metadata": {},
   "outputs": [],
   "source": [
    "list1 =[10,7,107,56,343,71,232,35434,45]\n",
    "\n",
    "def timsonguyento(list1):\n",
    "    dem = 0\n",
    "    for i in list1:\n",
    "        SNT = True\n",
    "        if i<100:\n",
    "            for x in range(2,int((i)/2)):\n",
    "                if i%x==0:\n",
    "                    SNT = False #SNT sẽ bằng False khi chạy tới số 56\n",
    "            if SNT == True:\n",
    "                dem +=1\n",
    "    return dem\n",
    "\n",
    "timsonguyento(list1)"
   ]
  },
  {
   "cell_type": "code",
   "execution_count": null,
   "id": "474667ff",
   "metadata": {},
   "outputs": [],
   "source": [
    "L = [10,7,107,56,343,71,232,35434,45]\n",
    "def songuyento(a):\n",
    "    for i in range(2,a):\n",
    "        if a % i == 0:\n",
    "            return False\n",
    "    return True\n",
    "def demsonguyento(L):\n",
    "    dem = 0\n",
    "    for i in L:\n",
    "        if songuyento(i) and i < 100:\n",
    "            dem += 1\n",
    "    return dem\n",
    "demsonguyento(L)"
   ]
  },
  {
   "cell_type": "code",
   "execution_count": null,
   "id": "40baebf6",
   "metadata": {},
   "outputs": [],
   "source": [
    "L = [1,12,15,6,2]\n",
    "def songuyento(a):\n",
    "    for i in range(2,int(a**0.5)+1):\n",
    "        if a % i == 0:\n",
    "            return False\n",
    "    return True\n",
    "\n",
    "dem = 0\n",
    "for i in L:\n",
    "    if songuyento(i) and i < 100:\n",
    "        dem +=1\n",
    "print(dem)"
   ]
  },
  {
   "cell_type": "code",
   "execution_count": null,
   "id": "4169921c",
   "metadata": {},
   "outputs": [],
   "source": [
    "dem = 0\n",
    "L = [10,7,107,56,343,71,232,35434,45]\n",
    "def ktsonguyento(n):\n",
    "    for i in range(2,int(n**0.5)+1):\n",
    "        if n%i == 0:\n",
    "            return False \n",
    "    return True\n",
    "\n",
    "def soluongsonguyento(danhsach):\n",
    "    dem = 0\n",
    "    for i in danhsach:\n",
    "        if i < 100 and ktsonguyento(i):\n",
    "            dem += 1\n",
    "    return(dem)\n",
    "print(soluongsonguyento(L))"
   ]
  },
  {
   "cell_type": "markdown",
   "id": "13840ec8",
   "metadata": {},
   "source": [
    "Viết hàm tìm giá trị dương đầu tiên của list, nếu không có giá trị dương trả về -1"
   ]
  },
  {
   "cell_type": "code",
   "execution_count": 2,
   "id": "d7ffb2b7",
   "metadata": {},
   "outputs": [
    {
     "name": "stdout",
     "output_type": "stream",
     "text": [
      "-1\n"
     ]
    }
   ],
   "source": [
    "L = [-7,-7,-8,0]\n",
    "def duong(L):\n",
    "    for i in L:\n",
    "        if i > 0:\n",
    "            return i\n",
    "    return -1\n",
    "\n",
    "print(duong(L))"
   ]
  },
  {
   "cell_type": "code",
   "execution_count": null,
   "id": "29c808a3",
   "metadata": {},
   "outputs": [],
   "source": [
    "def timgiatriduong(l):\n",
    "    for i in l:\n",
    "        if i > 0:\n",
    "            return i\n",
    "    return -1\n",
    "print(timgiatriduong([1,2,3,4,5]))"
   ]
  },
  {
   "cell_type": "code",
   "execution_count": null,
   "id": "5e605532",
   "metadata": {},
   "outputs": [],
   "source": [
    "L = [10,7,-5,56,343,71,232,35434,45] ## Cần thay đổi nội dung list hoặc cần tìm vị trí ~~> duyệt với vị trí\n",
    "def timduong(L):\n",
    "    for i in L:\n",
    "        if i > 0:\n",
    "            return i\n",
    "    return -1\n",
    "\n",
    "print(timduong(L))"
   ]
  },
  {
   "cell_type": "markdown",
   "id": "0f71c71e",
   "metadata": {},
   "source": [
    "Viết hàm có 2 giá trị đầu vào là list và x. Tìm giá trị trong list xa x nhất"
   ]
  },
  {
   "cell_type": "code",
   "execution_count": 8,
   "id": "b31d190f",
   "metadata": {},
   "outputs": [
    {
     "name": "stdout",
     "output_type": "stream",
     "text": [
      "0\n"
     ]
    }
   ],
   "source": [
    "L = [-7,-7,-8,0]\n",
    "x = 7\n",
    "\n",
    "def xanhat(L,x):\n",
    "    max = abs(L[0] - x)\n",
    "    kq = L[0]\n",
    "    for i in L:\n",
    "        if abs(i - x) > max:\n",
    "            max = abs(i - x)\n",
    "            kq = i\n",
    "    return kq\n",
    "\n",
    "def xanhat2(L,x):\n",
    "    kq = L[0]\n",
    "    for i in L:\n",
    "        if abs(i - x) > abs(kq - x):\n",
    "            kq = i\n",
    "    return kq\n",
    "\n",
    "print(xanhat(L,-7))"
   ]
  },
  {
   "cell_type": "code",
   "execution_count": 9,
   "id": "c2b44d3c",
   "metadata": {},
   "outputs": [
    {
     "name": "stdout",
     "output_type": "stream",
     "text": [
      "-8\n"
     ]
    }
   ],
   "source": [
    "L = [-7,-7,-8,0]\n",
    "x = 7\n",
    "\n",
    "def xanhat2(L,x):\n",
    "    kq = L[0]\n",
    "    for i in L:\n",
    "        if abs(i - x) > abs(kq - x):\n",
    "            kq = i\n",
    "    return kq\n",
    "\n",
    "print(xanhat(L,x))"
   ]
  },
  {
   "cell_type": "code",
   "execution_count": 2,
   "id": "03ef7d4c",
   "metadata": {},
   "outputs": [
    {
     "name": "stdout",
     "output_type": "stream",
     "text": [
      "9\n"
     ]
    }
   ],
   "source": [
    "def timgiatrixanhat(l,x):\n",
    "    maxx = 0\n",
    "    for i in l:\n",
    "        if abs(i - x) > maxx:\n",
    "            maxx = abs(i - x)\n",
    "    return maxx\n",
    "la = [4,5,8,9,1]\n",
    "x = 0\n",
    "print(timgiatrixanhat(la,x))"
   ]
  },
  {
   "cell_type": "code",
   "execution_count": null,
   "id": "24fcb505",
   "metadata": {},
   "outputs": [],
   "source": [
    "def giatrixanhat(a,b):\n",
    "    if abs(max(a)-b)>abs(min(a)-b):\n",
    "        return max(a)\n",
    "    elif abs(max(a)-b)<abs(min(a)-b):\n",
    "        return min(a)\n",
    "    else:\n",
    "        return (\"cả 2 giá trị đều cách x xa nhất là:\",min(a),\";\",max(a),\"và cách nhau 1 khoảng không đổi:\",abs(min(a)-b))\n",
    "print(giatrixanhat(L,x))"
   ]
  },
  {
   "cell_type": "code",
   "execution_count": null,
   "id": "117db899",
   "metadata": {},
   "outputs": [],
   "source": [
    "list1 = [-3,5,-7,-10]\n",
    "list2 = [-3,10,-7,-10]\n",
    "def timphantu(list1,x):\n",
    "    KCLN = abs(x-list1[0])\n",
    "    for i in list1:\n",
    "        if abs(i-x)> KCLN:\n",
    "            KCLN = abs(i-x)\n",
    "            a = i #list1.index(i)\n",
    "    return a #(list1[a])\n",
    "print(timphantu(list2,3))"
   ]
  },
  {
   "cell_type": "markdown",
   "id": "3b634d0f",
   "metadata": {},
   "source": [
    "Một người dùng số tiền là U đô-la và V Euro để mua một loại nguyên liệu sản xuất. \n",
    "\n",
    "Có N công ty nước ngoài bán nguyên liệu trên được đánh số từ 1 đến N. Công ty thứ i có giá bán Ai đô la/1 kg nguyên liệu và Bi Euro/1 kg nguyên liệu. \n",
    "\n",
    "Tuy nhiên, tại mỗi công ty chỉ bán nguyên liệu cho một khách hàng hoặc theo đô-la, hoặc theo Euro. \n",
    "\n",
    "Hãy giúp người đó tìm cách chọn ra 2 công ty để mua hàng sao cho số lượng nguyên liệu sản xuất có thể mua được là nhiều nhất.\n",
    "\n",
    "Nhập vào: Từ bàn phím 3 số theo thứ tự : N U V (1 ≤ N ≤ 20; 1 ≤ U, V ≤ 1000) và N cặp số nguyên Ai, Bi (1 < Ai, Bi < 1000) (nhập lần lượng A1, B1 rồi A2, B2)\n",
    "\n",
    "In ra : Số lượng nguyên liệu S(kg) người đó mua được với 2 chữ số thập phân."
   ]
  },
  {
   "cell_type": "code",
   "execution_count": 3,
   "id": "677abefe",
   "metadata": {},
   "outputs": [
    {
     "name": "stdout",
     "output_type": "stream",
     "text": [
      "5.25\n"
     ]
    }
   ],
   "source": [
    "U = 1\n",
    "V = 5\n",
    "Dola = [5,4,2,7]\n",
    "Euro = [3,4,1,2]\n",
    "\n",
    "def timvitrimin(L):\n",
    "    kq = 0\n",
    "    for i in range(1,len(L)):\n",
    "        if L[i] < L[kq]:\n",
    "            kq = i\n",
    "    return kq\n",
    "\n",
    "def timvitriminthu2(L):\n",
    "    vtmin = timvitrimin(L)\n",
    "    if vtmin != 0:\n",
    "        kq = 0\n",
    "    else:\n",
    "        kq = 1\n",
    "    for i in range(1,len(L)):\n",
    "        if i != vtmin and L[i] < L[kq]:\n",
    "            kq = i\n",
    "    return kq\n",
    "\n",
    "vtmin_dola = timvitrimin(Dola)\n",
    "vtmin_euro = timvitrimin(Euro)\n",
    "\n",
    "if vtmin_dola != vtmin_euro:\n",
    "    S = U/Dola[vtmin_dola] + V/Euro[vtmin_euro]\n",
    "    print(S)\n",
    "else:\n",
    "    vtmin2_dola = timvitriminthu2(Dola)\n",
    "    vtmin2_euro = timvitriminthu2(Euro)\n",
    "    S1 = U/Dola[vtmin_dola] + V/Euro[vtmin2_euro]\n",
    "    S2 = U/Dola[vtmin2_dola] + V/Euro[vtmin_euro]\n",
    "    if S1 > S2:\n",
    "        print(S1)\n",
    "    else:\n",
    "        print(S2)"
   ]
  },
  {
   "cell_type": "code",
   "execution_count": null,
   "id": "993ca744",
   "metadata": {},
   "outputs": [],
   "source": [
    "N = int(input(\"Nhập vào N:\"))\n",
    "U = int(input(\"Nhập vào U:\"))\n",
    "V = int(input(\"Nhập vào V:\"))\n",
    "A = []\n",
    "B = []\n",
    "for i in range(N):\n",
    "    A.append(float(input(\"Nhập vào A\" + str(i) + \":\")))\n",
    "    B.append(float(input(\"Nhập vào B\" + str(i) + \":\")))\n",
    "\n",
    "def timvitrimin(l):\n",
    "    min = l[0]\n",
    "    kq = 0\n",
    "    for i in range(len(l)):\n",
    "        if min > l[i]:\n",
    "            min = l[i]\n",
    "            kq = i\n",
    "    return i\n",
    "\n",
    "vitria = timvitrimin(A)\n",
    "vitrib = timvitrimin(B)\n",
    "\n",
    "if vitria != vitrib:\n",
    "    print(U/A[vitria] + V/B[vitrib])\n",
    "else:\n",
    "    At = A.copy()\n",
    "    At[vitria] = 1000\n",
    "    vitrianhi = timvitrimin(At)\n",
    "    Bt = B.copy()\n",
    "    Bt[vitrib] = 1000\n",
    "    vitribnhi = timvitrimin(Bt)\n",
    "    S1 = U/A[vitria] + V/B[vitribnhi]\n",
    "    S2 = U/A[vitrianhi] + V/B[vitrib]\n",
    "    if S1 > s2:\n",
    "        print(S1)\n",
    "    else:\n",
    "        print(S2)"
   ]
  },
  {
   "cell_type": "code",
   "execution_count": null,
   "id": "5445d70d",
   "metadata": {},
   "outputs": [],
   "source": [
    "N=int(input('N:'))\n",
    "U=int(input('U:'))\n",
    "V=int(input('V:'))\n",
    "A=[]\n",
    "B=[]\n",
    "for i in range (0,N):\n",
    "    print('cap ai,bi thu',i+1,'la:')\n",
    "    ai=input()\n",
    "    A.append(ai)\n",
    "    bi=input()\n",
    "    B.append(bi)\n",
    "mina=int(A[0])\n",
    "minb=int(B[0])\n",
    "n=1\n",
    "m=1\n",
    "for i in range (0,N):\n",
    "    if int(A[i])<mina:\n",
    "        mina=int(A[i])\n",
    "        #print ('giá trị mina:', mina)\n",
    "        n=i+1\n",
    "for i in range (0,N):\n",
    "    if int(B[i])<minb:\n",
    "        minb=int(B[i])\n",
    "        #print ('giá trị minb:', minb)\n",
    "        m=i+1\n",
    "Sa=U/mina\n",
    "Sb=V/minb\n",
    "S=Sa+Sb\n",
    "#print(A,B) \n",
    "print('Mua',Sa,'kg nguyen lieu o cong ty thu',n,'voi gia',mina,'USD/1kg')\n",
    "print('Mua',Sb,'kg nguyen lieu o cong ty thu',m,'voi gia',minb,'Euro/1kg')\n",
    "print('Tong mua duoc',S,'kg nguyen lieu')"
   ]
  },
  {
   "cell_type": "code",
   "execution_count": null,
   "id": "90401e4e",
   "metadata": {},
   "outputs": [],
   "source": [
    "Euro = [5,10,7,12,2]\n",
    "Dola = [4,1.1,4,10,1]\n",
    "U = 10\n",
    "V = 9\n",
    "\n",
    "### Viết hàm tìm vị trí chứa giá trị min trong list\n",
    "def timvitrimin(L): #Tìm vị tri\n",
    "    vtmin = 0\n",
    "    for i in range(len(L)):\n",
    "        if L[vtmin] > L[i]:\n",
    "            vtmin = i\n",
    "    return vtmin\n",
    "\n",
    "# print(\"Công ty min Euro:\",timvitrimin(Euro))\n",
    "# print(\"Công ty min Dola:\",timvitrimin(Dola))\n",
    "\n",
    "### Viết hàm tìm vị trí chứa giá trị min thứ hai trong list\n",
    "def timvitriminthu2(L):\n",
    "    vtminthunhat = timvitrimin(L)\n",
    "    if vtminthunhat != 0:\n",
    "        vtmin = 0\n",
    "    else:\n",
    "        vtmin = 1\n",
    "    for i in range(len(L)):\n",
    "        if i != vtminthunhat:\n",
    "            if L[vtmin] > L[i]:\n",
    "                vtmin = i\n",
    "    return vtmin\n",
    "\n",
    "# print(\"Công ty min Euro:\",timvitriminthu2(Euro))\n",
    "# print(\"Công ty min Dola:\",timvitriminthu2(Dola))\n",
    "\n",
    "vtmin_euro = timvitrimin(Euro)\n",
    "vtmin_dola = timvitrimin(Dola)\n",
    "\n",
    "if vtmin_euro != vtmin_dola:\n",
    "    S = U/Dola[vtmin_dola] + V/Euro[vtmin_euro]\n",
    "else:\n",
    "    vtmin2_euro = timvitriminthu2(Euro)\n",
    "    vtmin2_dola = timvitriminthu2(Dola)\n",
    "    S1 = U/Dola[vtmin_dola] + V/Euro[vtmin2_euro]\n",
    "    S2 = U/Dola[vtmin2_dola] + V/Euro[vtmin_euro]\n",
    "    if S1 > S2:\n",
    "        S = S1\n",
    "    else:\n",
    "        S = S2\n",
    "print(round(S,2))"
   ]
  },
  {
   "cell_type": "code",
   "execution_count": null,
   "id": "f62dadb3",
   "metadata": {},
   "outputs": [],
   "source": [
    "def secondmin(L):\n",
    "    L1=L.copy()\n",
    "    min1=min(L)\n",
    "    L.remove(min1)\n",
    "    min2=min(L)\n",
    "    for i in range(len(L1)):\n",
    "        if L[i]==min2:\n",
    "            return i\n",
    "        \n",
    "print(secondmin(Dola))"
   ]
  }
 ],
 "metadata": {
  "kernelspec": {
   "display_name": "Python 3 (ipykernel)",
   "language": "python",
   "name": "python3"
  },
  "language_info": {
   "codemirror_mode": {
    "name": "ipython",
    "version": 3
   },
   "file_extension": ".py",
   "mimetype": "text/x-python",
   "name": "python",
   "nbconvert_exporter": "python",
   "pygments_lexer": "ipython3",
   "version": "3.10.1"
  }
 },
 "nbformat": 4,
 "nbformat_minor": 5
}
