{
 "cells": [
  {
   "cell_type": "markdown",
   "id": "1c805421",
   "metadata": {},
   "source": [
    "# Lớp và đối tượng\n",
    "\n",
    "### Lớp (class) là gì?\n",
    "\n",
    "Lớp (Class) là tập hợp tất cả các đối tượng có chung các thuộc tính và hành vi."
   ]
  },
  {
   "cell_type": "markdown",
   "id": "812bf15e",
   "metadata": {},
   "source": [
    "### Khai báo lớp\n",
    "\n",
    "`class <tên lớp>:\n",
    "    <khai báo biến>\n",
    "    <khai báo hàm>`\n",
    "    \n",
    "Ví dụ:\n",
    "\n",
    "`class giangvien:\n",
    "    ten = \"Nguyễn Tâm Điền\"\n",
    "    mon = \"Python căn bản\"\n",
    "    def inten(self):\n",
    "        print(self.ten)        \n",
    "dien = giangvien()\n",
    "print(dien.mon)\n",
    "dien.inten()`\n",
    "\n",
    "##### Lưu ý:\n",
    "\n",
    "- giangvien là 1 lớp\n",
    "- dien là 1 đối tượng có tất cả thuộc tính (có biến ten, mon và hàm inten) của lớp giangvien\n",
    "- inten là 1 hàm trong lớp giangvien\n",
    "- dien.mon là 1 biến trong đối tượng dien\n",
    "- dien.inten() là cách để gọi hàm inten trong đối tượng dien\n",
    "\n",
    "\n",
    "<b> Hãy chạy thử đoạn lệnh ở ví dụ: </b>"
   ]
  },
  {
   "cell_type": "code",
   "execution_count": null,
   "id": "40598ff8",
   "metadata": {},
   "outputs": [],
   "source": []
  },
  {
   "cell_type": "code",
   "execution_count": 2,
   "id": "f8d3befc",
   "metadata": {},
   "outputs": [
    {
     "name": "stdout",
     "output_type": "stream",
     "text": [
      "Python căn bản\n",
      "Nguyễn Tâm Điền\n",
      "Lâm Đức Long\n",
      "Lâm Đức Long\n"
     ]
    }
   ],
   "source": [
    "class giangvien:\n",
    "    ten = \"Nguyễn Tâm Điền\"\n",
    "    mon = \"Python căn bản\"\n",
    "    def inten(self):\n",
    "        print(self.ten)    \n",
    "        \n",
    "dien = giangvien()\n",
    "print(dien.mon)\n",
    "dien.inten()\n",
    "\n",
    "long = giangvien()\n",
    "long.ten = \"Lâm Đức Long\"\n",
    "long.inten()\n",
    "print(long.ten)"
   ]
  },
  {
   "cell_type": "code",
   "execution_count": 11,
   "id": "ed15e951",
   "metadata": {},
   "outputs": [
    {
     "ename": "AttributeError",
     "evalue": "'giangvien' object has no attribute 'm'",
     "output_type": "error",
     "traceback": [
      "\u001b[1;31m---------------------------------------------------------------------------\u001b[0m",
      "\u001b[1;31mAttributeError\u001b[0m                            Traceback (most recent call last)",
      "\u001b[1;32m~\\AppData\\Local\\Temp/ipykernel_20708/2228025810.py\u001b[0m in \u001b[0;36m<module>\u001b[1;34m\u001b[0m\n\u001b[0;32m     11\u001b[0m \u001b[1;33m\u001b[0m\u001b[0m\n\u001b[0;32m     12\u001b[0m \u001b[0mkhang\u001b[0m\u001b[1;33m.\u001b[0m\u001b[0mten\u001b[0m \u001b[1;33m=\u001b[0m \u001b[1;34m\"Vũ Thành Khang\"\u001b[0m\u001b[1;33m\u001b[0m\u001b[1;33m\u001b[0m\u001b[0m\n\u001b[1;32m---> 13\u001b[1;33m \u001b[0mkhang\u001b[0m\u001b[1;33m.\u001b[0m\u001b[0mm\u001b[0m\u001b[1;33m.\u001b[0m\u001b[0mappend\u001b[0m\u001b[1;33m(\u001b[0m\u001b[1;33m)\u001b[0m\u001b[1;33m\u001b[0m\u001b[1;33m\u001b[0m\u001b[0m\n\u001b[0m\u001b[0;32m     14\u001b[0m \u001b[0mprint\u001b[0m\u001b[1;33m(\u001b[0m\u001b[0mkhang\u001b[0m\u001b[1;33m.\u001b[0m\u001b[0mm\u001b[0m\u001b[1;33m)\u001b[0m\u001b[1;33m\u001b[0m\u001b[1;33m\u001b[0m\u001b[0m\n\u001b[0;32m     15\u001b[0m \u001b[0mprint\u001b[0m\u001b[1;33m(\u001b[0m\u001b[0mdien\u001b[0m\u001b[1;33m.\u001b[0m\u001b[0mm\u001b[0m\u001b[1;33m)\u001b[0m\u001b[1;33m\u001b[0m\u001b[1;33m\u001b[0m\u001b[0m\n",
      "\u001b[1;31mAttributeError\u001b[0m: 'giangvien' object has no attribute 'm'"
     ]
    }
   ],
   "source": [
    "class giangvien:\n",
    "    ten = \"Nguyễn Tâm Điền\"\n",
    "    mon = \"Python căn bản\"\n",
    "    def inten(self):\n",
    "        print(self.ten) \n",
    "        \n",
    "dien = giangvien()\n",
    "khang = giangvien()\n",
    "\n",
    "## dien.ten, dien.mon, khang.ten, khang.mon, dien.m và khang.m\n",
    "\n",
    "khang.ten = \"Vũ Thành Khang\"\n",
    "khang.m.append(5)\n",
    "print(khang.m)\n",
    "print(dien.m)"
   ]
  },
  {
   "cell_type": "markdown",
   "id": "6c4daedf",
   "metadata": {},
   "source": [
    "<b> Hãy tạo 1 class hocvien với 1 biến và 1 def giúp in giá trị biến đó ra màn hình </b>"
   ]
  },
  {
   "cell_type": "code",
   "execution_count": null,
   "id": "5358318d",
   "metadata": {},
   "outputs": [],
   "source": []
  },
  {
   "cell_type": "code",
   "execution_count": 5,
   "id": "51a60ce1",
   "metadata": {},
   "outputs": [
    {
     "name": "stdout",
     "output_type": "stream",
     "text": [
      "Python siêu cấp vip pro\n"
     ]
    }
   ],
   "source": [
    "class hocvien:\n",
    "    mon = \"Python\"\n",
    "    def inbien(self):\n",
    "        print(self.mon)\n",
    "\n",
    "duy = hocvien()\n",
    "huy = hocvien()\n",
    "duy.mon = \"Python siêu cấp\"\n",
    "huy.mon = \"Python siêu cấp vip pro\"\n",
    "huy.inbien()"
   ]
  },
  {
   "cell_type": "code",
   "execution_count": 14,
   "id": "82d27830",
   "metadata": {},
   "outputs": [
    {
     "name": "stdout",
     "output_type": "stream",
     "text": [
      "Phan Thế Đạt\n"
     ]
    },
    {
     "ename": "TypeError",
     "evalue": "'str' object is not callable",
     "output_type": "error",
     "traceback": [
      "\u001b[1;31m---------------------------------------------------------------------------\u001b[0m",
      "\u001b[1;31mTypeError\u001b[0m                                 Traceback (most recent call last)",
      "\u001b[1;32m~\\AppData\\Local\\Temp/ipykernel_20708/2393659324.py\u001b[0m in \u001b[0;36m<module>\u001b[1;34m\u001b[0m\n\u001b[0;32m      6\u001b[0m \u001b[0mhv1\u001b[0m\u001b[1;33m.\u001b[0m\u001b[0minten\u001b[0m\u001b[1;33m(\u001b[0m\u001b[1;33m)\u001b[0m\u001b[1;33m\u001b[0m\u001b[1;33m\u001b[0m\u001b[0m\n\u001b[0;32m      7\u001b[0m \u001b[0mhv2\u001b[0m \u001b[1;33m=\u001b[0m \u001b[0mhocvien\u001b[0m\u001b[1;33m(\u001b[0m\u001b[1;33m)\u001b[0m\u001b[1;33m\u001b[0m\u001b[1;33m\u001b[0m\u001b[0m\n\u001b[1;32m----> 8\u001b[1;33m \u001b[0mhv2\u001b[0m\u001b[1;33m.\u001b[0m\u001b[0mten\u001b[0m\u001b[1;33m(\u001b[0m\u001b[1;34m\"\"\u001b[0m\u001b[1;33m)\u001b[0m\u001b[1;33m\u001b[0m\u001b[1;33m\u001b[0m\u001b[0m\n\u001b[0m",
      "\u001b[1;31mTypeError\u001b[0m: 'str' object is not callable"
     ]
    }
   ],
   "source": [
    "class hocvien:\n",
    "    ten = 'Phan Thế Đạt'\n",
    "    def inten(self):\n",
    "        print(self.ten)\n",
    "hv1 = hocvien()\n",
    "hv1.inten()\n",
    "hv2 = hocvien()\n",
    "hv2.ten(\"\")"
   ]
  },
  {
   "cell_type": "code",
   "execution_count": 6,
   "id": "7b21c9a3",
   "metadata": {},
   "outputs": [
    {
     "name": "stdout",
     "output_type": "stream",
     "text": [
      "Python siêu pro vip\n"
     ]
    }
   ],
   "source": [
    "class hocvien:\n",
    "    def inbien(self):\n",
    "        print(self.mon)\n",
    "\n",
    "a = hocvien()\n",
    "a.mon = \"Python siêu pro vip\" ##Chỉ làm được trong python thôi nhé\n",
    "a.inbien()"
   ]
  },
  {
   "cell_type": "code",
   "execution_count": 7,
   "id": "f5020229",
   "metadata": {},
   "outputs": [
    {
     "name": "stdout",
     "output_type": "stream",
     "text": [
      "Phan Thế Đạt\n"
     ]
    }
   ],
   "source": []
  },
  {
   "cell_type": "markdown",
   "id": "b2481280",
   "metadata": {},
   "source": [
    "### Tham số self\n",
    "\n",
    "Tham số self là tham số được sử dụng khi khai báo các hàm trong lớp\n",
    "\n",
    "Tham số self miêu tả chính lớp ta đang xây dựng, giúp chúng ta sử dụng được những biến và hàm của lớp đó\n",
    "\n",
    "Ví dụ:\n",
    "\n",
    "`class giangvien:\n",
    "    ten = \"Nguyễn Tâm Điền\"\n",
    "    mon = \"Python căn bản\"\n",
    "    def doiten(self,ten):\n",
    "        self.ten = ten\n",
    "    def inten(self):\n",
    "        print(self.ten)        \n",
    "dien = giangvien()\n",
    "dien.doiten(\"NTD\")\n",
    "dien.inten()`\n",
    "\n",
    "Sau khi thực hiện đoạn code trên, giá trị của biến ten trong đối tượng dien đã bị thay đổi thành \"NTD\"\n",
    "\n",
    "<b> Hãy chạy thử đoạn lệnh ở ví dụ: </b>"
   ]
  },
  {
   "cell_type": "code",
   "execution_count": null,
   "id": "fd2f5d7c",
   "metadata": {},
   "outputs": [],
   "source": []
  },
  {
   "cell_type": "code",
   "execution_count": 13,
   "id": "646d17fe",
   "metadata": {},
   "outputs": [
    {
     "name": "stdout",
     "output_type": "stream",
     "text": [
      "NTD\n",
      "Mai Phương\n",
      "<__main__.giangvien object at 0x000001E0D0238E20>\n",
      "Độc thân\n"
     ]
    }
   ],
   "source": [
    "class giangvien:\n",
    "    ten = \"Nguyễn Tâm Điền\"\n",
    "    mon = \"Python căn bản\"\n",
    "    def doiten(self,ten):\n",
    "        self.ten = ten\n",
    "        self.inten()\n",
    "    def inten(self):\n",
    "        print(self.ten)   \n",
    "    def themtinhtrang(self,tinhtrang):\n",
    "        self.tinhtrang = tinhtrang\n",
    "        \n",
    "dien = giangvien()\n",
    "dien.doiten(\"NTD\")\n",
    "dien.themtinhtrang(\"Độc thân\")\n",
    "\n",
    "phuong = giangvien()\n",
    "phuong.doiten(\"Mai Phương\")\n",
    "print(phuong)\n",
    "\n",
    "print(dien.tinhtrang)"
   ]
  },
  {
   "cell_type": "code",
   "execution_count": null,
   "id": "1aaac6fa",
   "metadata": {},
   "outputs": [],
   "source": [
    "class giangvien:\n",
    "    ten = \"Nguyễn Tâm Điền\"\n",
    "    mon = \"Python căn bản\"\n",
    "    def doiten(self,ten):\n",
    "        self.ten = ten\n",
    "    def inten(self):\n",
    "        print(self.ten)       \n",
    "dien = giangvien()\n",
    "dien.doiten(\"NTD\") ## dien.ten = \"NTD\"\n",
    "dien.inten() ## print(dien.ten)"
   ]
  },
  {
   "cell_type": "markdown",
   "id": "4dfd8d1d",
   "metadata": {},
   "source": [
    "<b> Hãy thêm 1 def vào class hocvien giúp thay đổi giá trị biến bất kỳ trong class </b>"
   ]
  },
  {
   "cell_type": "code",
   "execution_count": null,
   "id": "98d911c0",
   "metadata": {},
   "outputs": [],
   "source": []
  },
  {
   "cell_type": "code",
   "execution_count": null,
   "id": "8597b436",
   "metadata": {},
   "outputs": [],
   "source": [
    "class hocvien:\n",
    "    mon = \"Python\"\n",
    "    def __init__(self,mon):\n",
    "        self.mon = mon\n",
    "    def doimon(self,a):\n",
    "        self.mon = a\n",
    "    def inbien(self):\n",
    "        print(self.mon)\n",
    "\n",
    "duy = hocvien()\n",
    "huy = hocvien()\n",
    "duy.mon = \"Python siêu cấp\"\n",
    "huy.mon = \"Python siêu cấp vip pro\"\n",
    "huy.doimon(\"ML\")\n",
    "huy.inbien()"
   ]
  },
  {
   "cell_type": "code",
   "execution_count": null,
   "id": "9dc577b8",
   "metadata": {},
   "outputs": [],
   "source": [
    "class giangvien:\n",
    "    ten = \"Nguyễn Tâm Điền\"\n",
    "    mon = \"Python căn bản\"\n",
    "    def doiten(self,ten):\n",
    "        self.ten = ten\n",
    "    def inten(self):\n",
    "        print(self.ten)       \n",
    "dien = giangvien()\n",
    "dien.doiten(\"NTD\") ## dien.ten = \"NTD\"\n",
    "dien.inten() ## print(dien.ten)"
   ]
  },
  {
   "cell_type": "markdown",
   "id": "b2909dd4",
   "metadata": {},
   "source": [
    "### Hàm \\_\\_init__\n",
    "\n",
    "Hàm \\_\\_init__ là hàm khởi tạo\n",
    "\n",
    "Ví dụ:\n",
    "\n",
    "`class giangvien:\n",
    "    def __init__(self,ten,mon):\n",
    "        self.ten = ten\n",
    "        self.mon = mon\n",
    "    def doiten(self,ten):\n",
    "        self.ten = ten\n",
    "    def inten(self):\n",
    "        print(self.ten)   \n",
    "dien = giangvien(\"Điền\",\"Python căn bản\")\n",
    "thang = giangvien(\"Thắng\",\"Python siêu cấp\")\n",
    "dien.inten()\n",
    "thang.inten()`\n",
    "\n",
    "<b> Hãy chạy thử đoạn lệnh ở ví dụ: </b>"
   ]
  },
  {
   "cell_type": "code",
   "execution_count": null,
   "id": "f15266fb",
   "metadata": {},
   "outputs": [],
   "source": []
  },
  {
   "cell_type": "code",
   "execution_count": 1,
   "id": "eea166bf",
   "metadata": {},
   "outputs": [
    {
     "name": "stdout",
     "output_type": "stream",
     "text": [
      "Điền\n",
      "Thắng\n",
      "Đức Anh\n",
      "Nam\n"
     ]
    }
   ],
   "source": [
    "class giangvien:\n",
    "    def __init__(self,ten,mon): ## Hàm init sẽ chạy khi ta khởi tạo một đối tượng\n",
    "        self.ten = ten\n",
    "        self.mon = mon\n",
    "    def doiten(self,ten):\n",
    "        self.ten = ten\n",
    "    def inten(self):\n",
    "        print(self.ten)   \n",
    "        \n",
    "dien = giangvien(\"Điền\",\"Python căn bản\")\n",
    "thang = giangvien(\"Thắng\",\"Python siêu cấp\")\n",
    "dien.inten()\n",
    "thang.inten()\n",
    "\n",
    "# ducanh = giangvien(input(\"Mời nhập tên\"), input (\"Mời nhập môn\"))\n",
    "ducanh = giangvien(\"Đức Anh\",\"Python căn bản\")\n",
    "ducanh.gioitinh = \"Nam\"\n",
    "ducanh.inten()\n",
    "print(ducanh.gioitinh)"
   ]
  },
  {
   "cell_type": "code",
   "execution_count": null,
   "id": "c96f4966",
   "metadata": {},
   "outputs": [],
   "source": [
    "class giangvien:\n",
    "    def __init__(self,ten,mon): ### HÀM NÀY SẼ CHẠY KHI TA KHỞI TẠO ĐỐI TƯỢNG\n",
    "        self.ten = ten\n",
    "        self.mon = mon\n",
    "        self.m = []\n",
    "    def doiten(self,ten):\n",
    "        self.ten = ten\n",
    "    def inten(self):\n",
    "        print(self.ten)\n",
    "dien = giangvien(\"Điền\",\"Python căn bản\")\n",
    "thang = giangvien(\"Thắng\",\"Python siêu cấp\")\n",
    "dien.m.append(1)\n",
    "print(dien.m)\n",
    "print(thang.m)"
   ]
  },
  {
   "cell_type": "markdown",
   "id": "9064cc0a",
   "metadata": {},
   "source": [
    "<b> Hãy thêm 1 def \\_\\_init__ vào class hocvien để khởi tạo tên và tuổi của học viên </b>"
   ]
  },
  {
   "cell_type": "code",
   "execution_count": null,
   "id": "3e6a0dae",
   "metadata": {},
   "outputs": [],
   "source": []
  },
  {
   "cell_type": "code",
   "execution_count": 4,
   "id": "7a2f2f53",
   "metadata": {},
   "outputs": [
    {
     "name": "stdout",
     "output_type": "stream",
     "text": [
      "Loan\n",
      "Lớp Python 1\n",
      "Năm 2022\n"
     ]
    }
   ],
   "source": [
    "class hocvien:\n",
    "\n",
    "    def __init__(self,ten,mon,namhoc):\n",
    "        self.ten = ten\n",
    "        self.mon = mon  \n",
    "        self.namhoc = namhoc\n",
    "        \n",
    "    def inten(self):\n",
    "        print(self.ten)\n",
    "    \n",
    "    def inmon(self):\n",
    "        print(self.mon)\n",
    "        \n",
    "    def innam(self):\n",
    "        print(self.namhoc)\n",
    "        \n",
    "loan = hocvien('Loan','Lớp Python 1','Năm 2022')\n",
    "loan.inten()\n",
    "loan.inmon()\n",
    "loan.innam()"
   ]
  },
  {
   "cell_type": "code",
   "execution_count": 6,
   "id": "77b7eb56",
   "metadata": {},
   "outputs": [
    {
     "name": "stdout",
     "output_type": "stream",
     "text": [
      "loan\n",
      "60\n"
     ]
    }
   ],
   "source": [
    "class hocvien:\n",
    "    def __init__(self,ten_la,tuoi_la):\n",
    "        self.ten = ten_la\n",
    "        self.tuoi = tuoi_la\n",
    "    def in_ten(self):\n",
    "        print(self.ten)\n",
    "    def in_tuoi(self):\n",
    "        print(self.tuoi)\n",
    "        \n",
    "a = hocvien(\"loan\",60)\n",
    "a.in_ten()\n",
    "a.in_tuoi()"
   ]
  },
  {
   "cell_type": "code",
   "execution_count": 7,
   "id": "75dfd8e5",
   "metadata": {},
   "outputs": [
    {
     "name": "stdout",
     "output_type": "stream",
     "text": [
      "Dat Green\n",
      "Pascal\n",
      "Dat 09\n",
      "Python\n"
     ]
    }
   ],
   "source": [
    "class hocvien:\n",
    "    def __init__(self,ten,lop):\n",
    "        self.ten = ten\n",
    "        self.lop = lop\n",
    "    def inten(self):\n",
    "        print(self.ten)\n",
    "    def doiten(self,tenmoi):\n",
    "        self.ten = tenmoi\n",
    "    def them(self,gioitinh):\n",
    "        self.gioitinh = gioitinh\n",
    "hv1 = hocvien('Dat Green','Pascal')\n",
    "print(hv1.ten)\n",
    "print(hv1.lop)\n",
    "hv2 = hocvien('Dat 09','Python')\n",
    "print(hv2.ten)\n",
    "print(hv2.lop)"
   ]
  },
  {
   "cell_type": "markdown",
   "id": "d137f2f5",
   "metadata": {},
   "source": [
    "### Bài tập"
   ]
  },
  {
   "cell_type": "markdown",
   "id": "d243726c",
   "metadata": {},
   "source": [
    "Hãy xây dựng 1 class hình tròn có các thuộc tính sau:\n",
    "\n",
    "- biến x và y chứa tọa độ tâm đường tròn\n",
    "- biến r chứa bán kính đường chọn\n",
    "- hàm draw: để vẽ đường tròn"
   ]
  },
  {
   "cell_type": "code",
   "execution_count": 1,
   "id": "4121525f",
   "metadata": {},
   "outputs": [],
   "source": [
    "import turtle\n",
    "t = turtle.Turtle()\n",
    "\n",
    "class hinhtron:\n",
    "    def __init__():\n",
    "        pass\n",
    "    def draw():\n",
    "        pass"
   ]
  },
  {
   "cell_type": "code",
   "execution_count": 3,
   "id": "5e4a38d5",
   "metadata": {},
   "outputs": [],
   "source": [
    "import turtle\n",
    "t = turtle.Turtle()\n",
    "\n",
    "class hinhtron:\n",
    "    def __init__(self,x,y,r,color):\n",
    "        self.x = x\n",
    "        self.y = y\n",
    "        self.r = r\n",
    "        self.color = color\n",
    "    def draw(self):\n",
    "        t.penup()\n",
    "        t.goto(self.x,self.y-self.r)\n",
    "        t.pendown()\n",
    "        t.color(self.color)\n",
    "        t.circle(self.r)\n",
    "        \n",
    "ht1 = hinhtron(1,1,50,\"red\")\n",
    "ht2 = hinhtron(10,20,100,\"green\")\n",
    "ht1.draw()\n",
    "ht2.draw()"
   ]
  },
  {
   "cell_type": "code",
   "execution_count": 5,
   "id": "38711e59",
   "metadata": {},
   "outputs": [],
   "source": [
    "import turtle\n",
    "t = turtle.Turtle()\n",
    "\n",
    "class hinhtron:\n",
    "    def __init__(self,x,y,r,color):\n",
    "        self.x = x\n",
    "        self.y = y\n",
    "        self.r = r\n",
    "        self.color = color\n",
    "    def draw(self):\n",
    "        t.penup()\n",
    "        t.goto(self.x,self.y-self.r)\n",
    "        t.pendown()\n",
    "        t.color(self.color)\n",
    "        t.circle(self.r)\n",
    "        \n",
    "ht1 = hinhtron(0,0,50,\"red\")\n",
    "ht2 = hinhtron(10,20,100,\"yellow\")\n",
    "ht1.draw()\n",
    "ht2.draw()"
   ]
  },
  {
   "cell_type": "code",
   "execution_count": 8,
   "id": "cc3f8180",
   "metadata": {},
   "outputs": [],
   "source": [
    "import turtle\n",
    "\n",
    "t = turtle.Turtle()\n",
    "\n",
    "class hinhtron:\n",
    "    def __init__(self,x,y,r):\n",
    "        self.x=x\n",
    "        self.y=y\n",
    "        self.r=r\n",
    "    def draw(self):\n",
    "        t.penup()\n",
    "        t.goto(self.x,self.y-self.r)\n",
    "        t.pendown()\n",
    "        t.circle(self.r)\n",
    "\n",
    "baitap=hinhtron(0,0,40)\n",
    "baitap.draw()"
   ]
  },
  {
   "cell_type": "code",
   "execution_count": null,
   "id": "43fb22f0",
   "metadata": {},
   "outputs": [],
   "source": [
    "import turtle as t\n",
    "\n",
    "class hinhtron:\n",
    "    def __init__(self,x,y,r):\n",
    "        self.x = x\n",
    "        self.y = y\n",
    "        self.r = r\n",
    "    def draw(self):\n",
    "        t.penup()\n",
    "        t.goto(self.x,self.y-self.r)\n",
    "        t.pendown()\n",
    "        t.circle(self.r)\n",
    "ve = hinhtron(0,0,100)\n",
    "ve.draw()"
   ]
  },
  {
   "cell_type": "markdown",
   "id": "9017050f",
   "metadata": {},
   "source": [
    "Tạo một lớp phân số có các thuộc tính:\n",
    "\n",
    "- biến tử số và mẫu số\n",
    "- hàm cong: để cộng với một đối tượng khác có lớp phân số rồi trả về dối tượng có phân số mới\n",
    "- hàm tru: để trừ với một đối tượng khác có lớp phân số rồi trả về dối tượng có phân số mới\n",
    "- hàm nhan: để nhân với một đối tượng khác có lớp phân số rồi trả về dối tượng có phân số mới\n",
    "- hàm chia: để chia với một đối tượng khác có lớp phân số rồi trả về dối tượng có phân số mới\n",
    "- hàm toigian: để tối giản phân số rồi trả về dối tượng có phân số mới"
   ]
  },
  {
   "cell_type": "code",
   "execution_count": null,
   "id": "2ae72d93",
   "metadata": {},
   "outputs": [],
   "source": [
    "def UCLN(a,b):\n",
    "    while a != b:\n",
    "        if a > b:\n",
    "            a -= b\n",
    "        else:\n",
    "            b -= a\n",
    "    return a\n",
    "\n",
    "class phanso():\n",
    "    def __init__(self,tuso,mauso):\n",
    "        self.tuso = tuso\n",
    "        self.mauso = mauso\n",
    "    def inra(self):\n",
    "        print(self.tuso,\"/\",self.mauso,sep = \"\")\n",
    "    def cong(self,a):\n",
    "        tusomoi = self.tuso*a.mauso + self.mauso*a.tuso\n",
    "        mausomoi = self.mauso*a.mauso\n",
    "        return phanso(tusomoi,mausomoi)\n",
    "    def tru(self,a):\n",
    "        tusomoi = (self.mauso)*(a.tuso) - (self.tuso)*(a.mauso)\n",
    "        mausomoi =(self.mauso)*(a.mauso)\n",
    "        return phanso(tusomoi,mausomoi)\n",
    "    def nhan(self,a):\n",
    "        tusomoi = (self.tuso)*(a.tuso)\n",
    "        mausomoi = (self.mauso)*(a.mauso)\n",
    "        return phanso(tusomoi,mausomoi)\n",
    "    def chia(self,a):\n",
    "        tusomoi = self.tuso * a.mauso\n",
    "        mausomoi = self.mauso * a.tuso\n",
    "        return phanso(tusomoi,mausomoi)\n",
    "    def toigian(self):\n",
    "        a = UCLN(self.tuso,self.mauso)\n",
    "        tusomoi = self.tuso//a\n",
    "        mausomoi = self.mauso//a\n",
    "        return phanso(tusomoi,mausomoi)\n",
    "    \n",
    "    \n",
    "ps1 = phanso(2,5)\n",
    "ps2 = phanso(3,7)\n",
    "ps3 = ps1.cong(ps2)\n",
    "ps4 = ps1.toigian()\n",
    "ps4.inra()"
   ]
  },
  {
   "cell_type": "code",
   "execution_count": null,
   "id": "b98c627e",
   "metadata": {},
   "outputs": [],
   "source": [
    "def UCLN(a,b):\n",
    "    while a != b:\n",
    "        c = abs(a - b)\n",
    "        if a > b:\n",
    "            a = c\n",
    "        else:\n",
    "            b = c\n",
    "    return a\n",
    "\n",
    "class phanso():\n",
    "    def __init__(self,tuso,mauso):\n",
    "        self.tuso = tuso\n",
    "        self.mauso = mauso\n",
    "    def inra(self):\n",
    "        print(self.tuso,\"/\",self.mauso,sep = \"\")\n",
    "    def cong(self,a):\n",
    "        tuso = (self.mauso)*(a.tuso) + (self.tuso)*(a.mauso)\n",
    "        mauso = (self.mauso)*(a.mauso)\n",
    "        return phanso(tuso,mauso)\n",
    "    def tru(self,a):\n",
    "        tuso = (self.mauso)*(a.tuso) - (self.tuso)*(a.mauso)\n",
    "        mauso = (self.mauso)*(a.mauso)\n",
    "        return phanso(tuso,mauso)\n",
    "    def nhan(self,a):\n",
    "        tuso = (self.tuso)*(a.tuso)\n",
    "        mauso = (self.mauso)*(a.mauso)\n",
    "        return phanso(tuso,mauso)\n",
    "    def chia(self,a):\n",
    "        tuso = self.tuso * a.mauso\n",
    "        mauso = self.mauso * a.tuso\n",
    "        return phanso(tuso,mauso)\n",
    "    def toigian(self):\n",
    "        uoc = UCLN(self.tuso,self.mauso)\n",
    "        self.tuso = self.tuso//uoc\n",
    "        self.mauso = self.mauso//uoc\n",
    "\n",
    "phanso1 = phanso(3,4)\n",
    "phanso2 = phanso(16,20)\n",
    "phanso3 = phanso1.nhan(phanso2)\n",
    "phanso2.toigian()\n",
    "phanso2.inra()"
   ]
  },
  {
   "cell_type": "code",
   "execution_count": 1,
   "id": "12df3dcb",
   "metadata": {},
   "outputs": [
    {
     "name": "stdout",
     "output_type": "stream",
     "text": [
      "10/8\n",
      "5/4\n"
     ]
    }
   ],
   "source": [
    "def uocchunglonnhat(a,b):\n",
    "    while a!=b:\n",
    "        if a>b:\n",
    "            a=a-b\n",
    "        else:\n",
    "            b=b-a\n",
    "    return a       \n",
    "        \n",
    "\n",
    "class phanso:\n",
    "    def __init__(self,tuso,mauso):\n",
    "        self.tuso = tuso\n",
    "        self.mauso = mauso\n",
    "    def inra(self):\n",
    "        print(self.tuso,\"/\",self.mauso,sep = \"\")\n",
    "    def cong(self,a):\n",
    "        tuso = self.tuso*a.mauso + self.mauso*a.tuso ### tuso = phanso1.tuso*phanso2.mauso + phanso1.mauso*phanso2.tuso\n",
    "        mauso = self.mauso*a.mauso\n",
    "        return phanso(tuso,mauso)\n",
    "    def tru(self,psk):\n",
    "        phantu=(self.tuso*psk.mauso)-(self.mauso*psk.tuso)\n",
    "        phanmau=self.mauso*psk.mauso\n",
    "        return phannso(tuso,mauso)\n",
    "    def nhan(self,a):\n",
    "        tuso = self.tuso*a.tuso\n",
    "        mauso = self.mauso*a.mauso\n",
    "        return phanso(tuso,mauso)\n",
    "    def nhan(self,a):\n",
    "        tuso = self.tuso*a.mauso\n",
    "        mauso = self.mauso*a.tuso\n",
    "        return phanso(tuso,mauso)\n",
    "    def toigian(self):\n",
    "        UCLN = uocchunglonnhat(self.tuso,self.mauso)\n",
    "        self.tuso = self.tuso//UCLN\n",
    "        self.mauso = self.mauso//UCLN\n",
    "    \n",
    "phanso1 = phanso(3,4)\n",
    "phanso2 = phanso(1,2)\n",
    "phanso3 = phanso1.cong(phanso2)\n",
    "phanso3.inra()\n",
    "phanso3.toigian()\n",
    "phanso3.inra()"
   ]
  },
  {
   "cell_type": "markdown",
   "id": "39a8cb80",
   "metadata": {},
   "source": [
    "Viết class NhanVien gồm các thuộc tính:\n",
    "\n",
    "<b> Các biến </b>\n",
    "\n",
    "- Tên\n",
    "- Tuổi\n",
    "- Địa chỉ\n",
    "- Tiền lương\n",
    "- Tổng số giờ làm\n",
    "\n",
    "<b> Các hàm </b>\n",
    "\n",
    "- nhap : Nhập các thông tin cho nhân viên từ bàn phím\n",
    "- in : In ra tất cả các thông tin của nhân viên\n",
    "- thuong: Tính toán và trả về số tiền thưởng của nhân viên theo công thức sau:\n",
    "\n",
    "    Nếu tổng số giờ làm của nhân viên >=200 thì thưởng = lương * 20%\n",
    "    \n",
    "    Nếu tổng số giờ làm của nhân viên <200 và >=100 thì thưởng = lương * 10%\n",
    "    \n",
    "    Nếu tổng số giờ làm của nhân viên <100 thì thưởng = 0"
   ]
  },
  {
   "cell_type": "code",
   "execution_count": null,
   "id": "26d12a44",
   "metadata": {},
   "outputs": [],
   "source": [
    "class nhanvien:\n",
    "#     def nhaplieu(self):\n",
    "#         self.ten = input(\"Nhập tên nhân viên: \")\n",
    "#         self.tuoi = input(\"Nhập tuổi nhân viên: \")\n",
    "#         self.diachi = input(\"Nhập địa chỉ nhân viên: \")\n",
    "#         self.luong = input(\"Nhập tiền lương nhân viên: \")\n",
    "#         self.sogiolam= input(\"Nhập số giờ làm nhân viên: \") \n",
    "#     def inra(self):\n",
    "#         print(\"Tên nhân viên là:\",self.ten)\n",
    "#         print(\"Tuổi nhân viên là:\",self.tuoi)\n",
    "#         print(\"Địa chỉ nhân viên là:\",self.diachi)\n",
    "#         print(\"Lương nhân viên là:\",self.luong)\n",
    "#         print(\"Số giờ làm nhân viên là:\",self.sogiolam)\n",
    "    def nhaplieu(self):\n",
    "        self.dulieu = {\"Tên\":\"\",\"Tuổi\":\"\",\"Địa chỉ\":\"\",\"Tiền lương\":0,\"Số giờ làm\":0}\n",
    "        for i in self.dulieu:\n",
    "            self.dulieu[i] = input(\"Nhập vào \" + i.lower() + \" của nhân viên:\")\n",
    "        self.dulieu[\"Tiền lương\"] = int(self.dulieu[\"Tiền lương\"])\n",
    "        self.dulieu[\"Số giờ làm\"] = int(self.dulieu[\"Số giờ làm\"])\n",
    "    def inra(self):\n",
    "        for i in self.dulieu:\n",
    "            print(i,\"của nhân viên là:\",self.dulieu[i])\n",
    "    def thuong(self):\n",
    "        sgl = self.dulieu[\"Số giờ làm\"]\n",
    "        lg = self.dulieu[\"Tiền lương\"]\n",
    "        if sgl >= 200:\n",
    "            return lg*0.2\n",
    "        if sgl >= 100:\n",
    "            return lg*0.1\n",
    "        return 0\n",
    "\n",
    "nv1 = nhanvien()\n",
    "nv1.nhaplieu()\n",
    "nv1.inra()\n",
    "print(\"Thưởng của nhân viên\",nv1.dulieu[\"Tên\"],\"là:\",nv1.thuong())"
   ]
  },
  {
   "cell_type": "code",
   "execution_count": null,
   "id": "47f7e1b3",
   "metadata": {},
   "outputs": [],
   "source": [
    "class NhanVien:\n",
    "    def __init__(self,ten,tuoi,diachi,tienluong,tongsogiolam):\n",
    "        self.ten = ten\n",
    "        self.tuoi = tuoi\n",
    "        self.diachi = diachi\n",
    "        self.tienluong = tienluong\n",
    "        self.tongsogiolam = tongsogiolam\n",
    "    def suathongtin(self,ten,tuoi,diachi,tienluong,tongsogiolam):\n",
    "        self.ten = ten\n",
    "        self.tuoi = tuoi\n",
    "        self.diachi = diachi\n",
    "        self.tienluong = tienluong\n",
    "        self.tongsogiolam = tongsogiolam\n",
    "    def inthongtin(self):\n",
    "        print(\"Tên:\",self.ten)\n",
    "        print(\"Tuổi:\",self.tuoi)\n",
    "        print(\"Địa chỉ:\",self.diachi)\n",
    "        print(\"Tiền lương:\",self.tienluong)\n",
    "        print(\"Tổng số giờ làm:\",self.tongsogiolam)\n",
    "    def thuong(self):\n",
    "        if self.tongsogiolam >= 200:\n",
    "            return int(self.tienluong*0.2)\n",
    "        if self.tongsogiolam >= 100:\n",
    "            return int(self.tienluong*0.1)\n",
    "        return 0\n",
    "    \n",
    "nhanvienA = NhanVien(\"Nguyễn Văn A\",25,\"TP. Hồ Chí Minh\",20000000,250)\n",
    "nhanvienA.inthongtin()\n",
    "print(\"Tiền thưởng của anh A là:\",nhanvienA.thuong())"
   ]
  },
  {
   "cell_type": "code",
   "execution_count": null,
   "id": "ee51ce5d",
   "metadata": {},
   "outputs": [],
   "source": [
    "class NhanVien:\n",
    "    def __init__(self,ten,tuoi,diachi,tienluong,tongsogiolam):\n",
    "        self.thongtin = {}\n",
    "        self.thongtin[\"Tên\"] = ten\n",
    "        self.thongtin[\"Tuổi\"] = tuoi\n",
    "        self.thongtin[\"Địa chỉ\"] = diachi\n",
    "        self.thongtin[\"Tiền lương\"] = tienluong\n",
    "        self.thongtin[\"Tổng số giờ làm\"] = tongsogiolam\n",
    "    def suathongtin(self,*thongtin):\n",
    "        vitri = 0\n",
    "        for i in self.thongtin:\n",
    "            self.thongtin[i] = thongtin[vitri]\n",
    "            vitri += 1\n",
    "    def inthongtin(self):\n",
    "        for i in self.thongtin:\n",
    "            print(i,\": \",self.thongtin[i],sep = \"\")\n",
    "    def thuong(self):\n",
    "        tongsogiolam = thongtin[\"Tổng số giờ làm\"]\n",
    "        if tongsogiolam >= 200:\n",
    "            return int(self.tienluong*0.2)\n",
    "        if tongsogiolam >= 100:\n",
    "            return int(self.tienluong*0.1)\n",
    "        return 0\n",
    "    \n",
    "nhanvienA = NhanVien(\"Nguyễn Văn A\",25,\"TP. Hồ Chí Minh\",20000000,250)\n",
    "nhanvienA.suathongtin(\"Trần Văn A\",27,\"TP. Hồ Chí Minh\",18000000,150)\n",
    "nhanvienA.inthongtin()"
   ]
  },
  {
   "cell_type": "code",
   "execution_count": null,
   "id": "1ef17757",
   "metadata": {},
   "outputs": [],
   "source": [
    "class NhanVien():\n",
    "    thongtin = {\n",
    "        \"Tên\" : \"Vũ Thành Khang\",\n",
    "        \"Tuổi\" : 18,\n",
    "        \"Địa chỉ\" : \"123 Ở đâu đó\",\n",
    "        \"Tiền lương\" : 30000000,\n",
    "        \"Tổng số giờ làm\" : 44\n",
    "    }\n",
    "    def nhap(self):\n",
    "        for i in self.thongtin:\n",
    "            self.thongtin[i] = input(\"Mời nhập \" + i.lower() + \":\")\n",
    "    def inra(self):\n",
    "        for i in self.thongtin:\n",
    "            print(i,\": \",self.thongtin[i],sep = \"\")\n",
    "    def thuong(self):\n",
    "        sgl = self.thongtin[\"Tổng số giờ làm\"]\n",
    "        sal = self.thongtin[\"Tiền lương\"]\n",
    "        if sgl >= 200:\n",
    "            return 0.2*sal\n",
    "        elif sgl >= 100:\n",
    "            return 0.1*sal\n",
    "        else:\n",
    "            return 0\n",
    "\n",
    "nhanvienA = NhanVien()\n",
    "nhanvienA.inra()\n",
    "print(\"Tiền thưởng:\",nhanvienA.thuong())"
   ]
  }
 ],
 "metadata": {
  "kernelspec": {
   "display_name": "Python 3 (ipykernel)",
   "language": "python",
   "name": "python3"
  },
  "language_info": {
   "codemirror_mode": {
    "name": "ipython",
    "version": 3
   },
   "file_extension": ".py",
   "mimetype": "text/x-python",
   "name": "python",
   "nbconvert_exporter": "python",
   "pygments_lexer": "ipython3",
   "version": "3.10.1"
  }
 },
 "nbformat": 4,
 "nbformat_minor": 5
}
