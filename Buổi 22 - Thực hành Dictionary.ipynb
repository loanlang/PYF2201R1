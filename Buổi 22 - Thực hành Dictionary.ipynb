{
 "cells": [
  {
   "cell_type": "markdown",
   "id": "636d6b20",
   "metadata": {},
   "source": [
    "# Thực hành Dictionary"
   ]
  },
  {
   "cell_type": "markdown",
   "id": "4a1577c4",
   "metadata": {},
   "source": [
    "### Bài 1"
   ]
  },
  {
   "cell_type": "markdown",
   "id": "57583ad7",
   "metadata": {},
   "source": [
    "Cho list a và list b là 2 dãy số bất kỳ\n",
    "\n",
    "Hãy tìm những phần tử trong 2 list trùng nhau và in toàn bộ ra màn hình\n",
    "\n",
    "Ví dụ:\n",
    "\n",
    "a = [2,4,5,7,9]\n",
    "\n",
    "b = [2,5,10,12,45,65]\n",
    "\n",
    "in ra: 2, 5"
   ]
  },
  {
   "cell_type": "markdown",
   "id": "3bf52ad2",
   "metadata": {},
   "source": [
    "#### Khai báo list"
   ]
  },
  {
   "cell_type": "code",
   "execution_count": null,
   "id": "ddb922a1",
   "metadata": {},
   "outputs": [],
   "source": []
  },
  {
   "cell_type": "code",
   "execution_count": null,
   "id": "ff4b8cef",
   "metadata": {},
   "outputs": [],
   "source": [
    "a = [2,4,5,7,9]\n",
    "\n",
    "b = [2,5,10,12,45,65]"
   ]
  },
  {
   "cell_type": "code",
   "execution_count": null,
   "id": "c2ad2920",
   "metadata": {},
   "outputs": [],
   "source": []
  },
  {
   "cell_type": "markdown",
   "id": "f7b1767c",
   "metadata": {},
   "source": [
    "#### Code"
   ]
  },
  {
   "cell_type": "code",
   "execution_count": 20,
   "id": "8d0bc5c0",
   "metadata": {},
   "outputs": [
    {
     "name": "stdout",
     "output_type": "stream",
     "text": [
      "[2, 5]\n"
     ]
    }
   ],
   "source": [
    "a = [2,4,5,7,9]\n",
    "\n",
    "b = [2,5,10,12,45,65]\n",
    "\n",
    "c = []\n",
    "for i in a:\n",
    "    for j in b:\n",
    "        if (i == j):\n",
    "            c.append(i)\n",
    "print(c)"
   ]
  },
  {
   "cell_type": "code",
   "execution_count": 21,
   "id": "c7e84953",
   "metadata": {},
   "outputs": [
    {
     "name": "stdout",
     "output_type": "stream",
     "text": [
      "[2, 5]\n"
     ]
    }
   ],
   "source": [
    "c = []\n",
    "for i in a:\n",
    "    if i in b and i not in c:\n",
    "        c.append(i)\n",
    "print(c)"
   ]
  },
  {
   "cell_type": "code",
   "execution_count": 3,
   "id": "a47a0bd7",
   "metadata": {},
   "outputs": [
    {
     "name": "stdout",
     "output_type": "stream",
     "text": [
      "[2, 5]\n"
     ]
    }
   ],
   "source": [
    "a = [2,4,5,7,9]\n",
    "\n",
    "b = [2,5,10,12,45,65]\n",
    "\n",
    "D = []\n",
    "for i in a:\n",
    "    for j in b:\n",
    "        if (i == j):\n",
    "            D.append(i)\n",
    "print(D)"
   ]
  },
  {
   "cell_type": "code",
   "execution_count": 2,
   "id": "b08fcfe9",
   "metadata": {},
   "outputs": [
    {
     "name": "stdout",
     "output_type": "stream",
     "text": [
      "[2, 2, 10, 5]\n"
     ]
    }
   ],
   "source": [
    "a = [2,2,2,10,4,5,7,9]\n",
    "\n",
    "b = [2,2,5,10,12,45,65]\n",
    "D=[]\n",
    "for i in a:\n",
    "    if i in b:\n",
    "        b.remove(i)\n",
    "        D.append(i)\n",
    "print(D)"
   ]
  },
  {
   "cell_type": "markdown",
   "id": "2646ccba",
   "metadata": {},
   "source": [
    "### Bài 2"
   ]
  },
  {
   "cell_type": "markdown",
   "id": "6cc6dc38",
   "metadata": {},
   "source": [
    "Cho một dictonary có các giá trị là các số nguyên\n",
    "\n",
    "Hãy viết hàm tìm key có giá trị lớn nhất"
   ]
  },
  {
   "cell_type": "markdown",
   "id": "7b92f0ce",
   "metadata": {},
   "source": [
    "#### Khai báo dictionary"
   ]
  },
  {
   "cell_type": "code",
   "execution_count": null,
   "id": "3ec8ec73",
   "metadata": {},
   "outputs": [],
   "source": [
    "D = {\"1\":8,\"2\":12,\"3\":6}"
   ]
  },
  {
   "cell_type": "code",
   "execution_count": null,
   "id": "ee1c52e7",
   "metadata": {},
   "outputs": [],
   "source": [
    "dictt = {\"black\":-5,\"red\":-3,\"green\":-11}"
   ]
  },
  {
   "cell_type": "markdown",
   "id": "65018ab5",
   "metadata": {},
   "source": [
    "#### Code"
   ]
  },
  {
   "cell_type": "code",
   "execution_count": 22,
   "id": "e7a165eb",
   "metadata": {},
   "outputs": [
    {
     "name": "stdout",
     "output_type": "stream",
     "text": [
      "2\n"
     ]
    }
   ],
   "source": [
    "D = {\"1\":8, \"2\":12, \"3\":6}\n",
    "def key_max(D):\n",
    "    max=None\n",
    "    key_kq = None\n",
    "    for i in D:\n",
    "        if max==None or max<D[i]:\n",
    "            max=D[i]\n",
    "            key_kq = i\n",
    "    return key_kq\n",
    "print(key_max(D))\n",
    "        "
   ]
  },
  {
   "cell_type": "code",
   "execution_count": 23,
   "id": "f9dbd8eb",
   "metadata": {},
   "outputs": [
    {
     "name": "stdout",
     "output_type": "stream",
     "text": [
      "6\n"
     ]
    }
   ],
   "source": [
    "a = {\"1\": 12,\"2\": 23,\"3\": 65,\"4\": 21,\"5\": 66,\"6\": 89}\n",
    "max = None\n",
    "\n",
    "for i in a:\n",
    "    if max == None or a[i] > a[max]:\n",
    "        max = i\n",
    "print(max)"
   ]
  },
  {
   "cell_type": "code",
   "execution_count": 6,
   "id": "3b85bd4b",
   "metadata": {},
   "outputs": [
    {
     "name": "stdout",
     "output_type": "stream",
     "text": [
      "red\n"
     ]
    }
   ],
   "source": [
    "D = {\"black\":-5,\"red\":-3,\"green\":-11}\n",
    "\n",
    "def tim_key_max(D):\n",
    "    max = None\n",
    "    for i in D:\n",
    "        if max == None or max < D[i]:\n",
    "            max = D[i]\n",
    "            key = i\n",
    "    return key\n",
    "print(tim_key_max(D))"
   ]
  },
  {
   "cell_type": "markdown",
   "id": "c562bc84",
   "metadata": {},
   "source": [
    "### Bài 3"
   ]
  },
  {
   "cell_type": "markdown",
   "id": "945e8929",
   "metadata": {},
   "source": [
    "Cho một dictonary có các key đều là chuỗi\n",
    "\n",
    "Hãy viết hàm trả về giá trị của key có độ dài chuỗi là lớn nhất"
   ]
  },
  {
   "cell_type": "markdown",
   "id": "1855bc8c",
   "metadata": {},
   "source": [
    "#### Khai báo dictionary"
   ]
  },
  {
   "cell_type": "code",
   "execution_count": null,
   "id": "5ff9a0e5",
   "metadata": {},
   "outputs": [],
   "source": [
    "a={\"Chuoi abcdefg\":1,\"Chuoi abcd\":2,\"Chuoi abcde\":3}"
   ]
  },
  {
   "cell_type": "code",
   "execution_count": null,
   "id": "87739b8a",
   "metadata": {},
   "outputs": [],
   "source": [
    "dictt = {\"black\":-5,\"red\":-3,\"green\":-11}"
   ]
  },
  {
   "cell_type": "markdown",
   "id": "21fae59d",
   "metadata": {},
   "source": [
    "#### Code"
   ]
  },
  {
   "cell_type": "code",
   "execution_count": 24,
   "id": "b3c2194d",
   "metadata": {},
   "outputs": [
    {
     "name": "stdout",
     "output_type": "stream",
     "text": [
      "1\n"
     ]
    }
   ],
   "source": [
    "a={\"Chuoi abcdefg\":1,\"Chuoi abcd\":2,\"Chuoi abcde\":3}\n",
    "def timgiatri(D):\n",
    "    max = None\n",
    "    for i in D:\n",
    "        if max == None or max < len(i):\n",
    "            max = len(i)\n",
    "            ketqua = D[i]\n",
    "    return ketqua\n",
    "\n",
    "print(timgiatri(a))"
   ]
  },
  {
   "cell_type": "code",
   "execution_count": 11,
   "id": "ebbd29f6",
   "metadata": {},
   "outputs": [
    {
     "name": "stdout",
     "output_type": "stream",
     "text": [
      "-5\n"
     ]
    }
   ],
   "source": [
    "dictt = {\"black\":-5,\"red\":-3,\"green\":-11}\n",
    "\n",
    "def tim_value_chuoi_max(d):\n",
    "    max = None\n",
    "    for i in d:\n",
    "        if max == None or max < len(i):\n",
    "            max = len(i)\n",
    "            value = d[i]\n",
    "    return value\n",
    "print(tim_value_chuoi_max(dictt))"
   ]
  },
  {
   "cell_type": "code",
   "execution_count": 19,
   "id": "c57d4edd",
   "metadata": {},
   "outputs": [
    {
     "name": "stdout",
     "output_type": "stream",
     "text": [
      "Chuoi abcdef\n",
      "Chuoi abcd\n",
      "Chuoi abcde\n"
     ]
    },
    {
     "data": {
      "text/plain": [
       "1"
      ]
     },
     "execution_count": 19,
     "metadata": {},
     "output_type": "execute_result"
    }
   ],
   "source": [
    "a={\"Chuoi abcdef\":1,\"Chuoi abcd\":2,\"Chuoi abcde\":3}\n",
    "def getLenmax():\n",
    "    lenmax=0\n",
    "    keymax=0\n",
    "    for key in a:\n",
    "        print(key)\n",
    "        if lenmax<=len(key):\n",
    "            keymax=key\n",
    "            lenmax=len(key)\n",
    "    return a[keymax]\n",
    "getLenmax()\n"
   ]
  },
  {
   "cell_type": "markdown",
   "id": "205c6ef4",
   "metadata": {},
   "source": [
    "### Bài 4"
   ]
  },
  {
   "cell_type": "markdown",
   "id": "bd7ee674",
   "metadata": {},
   "source": [
    "Cho một list là một tập các chuỗi\n",
    "\n",
    "Hãy mã hóa list trên theo nguyên tắc sau:\n",
    "\n",
    "Mỗi một phần tử, ta mã hóa thành những con số theo thứ tự tăng dần\n",
    "\n",
    "Ví dụ:\n",
    "\n",
    "List = [\"đen\",\"vàng\",\"xanh\",\"vàng\",\"xanh\",\"đỏ\",\"hồng\"]\n",
    "\n",
    "List mã hóa = [0,1,2,1,2,3,4]\n",
    "\n",
    "- \"đen\" mã hóa thành 0\n",
    "- \"vàng\" mã hóa thành 1\n",
    "- \"xanh\" mã hóa thành 2\n",
    "- \"đỏ\" mã hòa thánh 3\n",
    "- \"hồng\" mã hòa thành 4"
   ]
  },
  {
   "cell_type": "markdown",
   "id": "e7ed3048",
   "metadata": {},
   "source": [
    "#### Khai báo"
   ]
  },
  {
   "cell_type": "code",
   "execution_count": null,
   "id": "bc75fc8d",
   "metadata": {},
   "outputs": [],
   "source": [
    "L = [\"đen\",\"vàng\",\"xanh\",\"vàng\",\"xanh\",\"đỏ\",\"hồng\"]"
   ]
  },
  {
   "cell_type": "markdown",
   "id": "9c61e63b",
   "metadata": {},
   "source": [
    "#### Code"
   ]
  },
  {
   "cell_type": "code",
   "execution_count": null,
   "id": "a2165a43",
   "metadata": {},
   "outputs": [],
   "source": [
    "D_mahoa = {}\n",
    "giatri = 0\n",
    "\n",
    "## Bước để tạo Dictionary mã hóa\n",
    "\n",
    "for i in List:\n",
    "    if i not in D_mahoa:\n",
    "        D_mahoa[i] = giatri\n",
    "        giatri += 1\n",
    "\n",
    "print(D_mahoa)\n",
    "\n",
    "## Bước để mã hóa\n",
    "\n",
    "L_mahoa = []\n",
    "for i in List:\n",
    "    L_mahoa.append(D_mahoa[i])\n",
    "    \n",
    "print(L_mahoa)"
   ]
  },
  {
   "cell_type": "code",
   "execution_count": 25,
   "id": "3e3cdf86",
   "metadata": {},
   "outputs": [
    {
     "name": "stdout",
     "output_type": "stream",
     "text": [
      "[0, 1, 2, 1, 2, 3, 4]\n"
     ]
    }
   ],
   "source": [
    "List = [\"đen\",\"vàng\",\"xanh\",\"vàng\",\"xanh\",\"đỏ\",\"hồng\"]\n",
    "D={}\n",
    "D_mahoa=[]\n",
    "a=0\n",
    "for i in List:\n",
    "    if i not in D:\n",
    "        D[i] = a\n",
    "        a += 1\n",
    "    D_mahoa.append(D[i])\n",
    "print(D_mahoa)"
   ]
  },
  {
   "cell_type": "code",
   "execution_count": null,
   "id": "a0a40b17",
   "metadata": {},
   "outputs": [],
   "source": [
    "a = [\"đen\",\"vàng\",\"xanh\",\"vàng\",\"xanh\",\"đỏ\",\"hồng\"]\n",
    "\n",
    "b = {}\n",
    "kq = []\n",
    "so = 0\n",
    "for i in a:\n",
    "   \n",
    "    if i not in b:\n",
    "        b[i] = so\n",
    "        kq.append(so)\n",
    "        so += 1\n",
    "    else:\n",
    "        kq.append(b[i])\n",
    "print(kq)"
   ]
  },
  {
   "cell_type": "code",
   "execution_count": 13,
   "id": "deb3932f",
   "metadata": {},
   "outputs": [
    {
     "name": "stdout",
     "output_type": "stream",
     "text": [
      "[0, 1, 2, 1, 2, 3, 4]\n"
     ]
    }
   ],
   "source": [
    "L = [\"đen\",\"vàng\",\"xanh\",\"vàng\",\"xanh\",\"đỏ\",\"hồng\"]\n",
    "\n",
    "d = {}\n",
    "L_mh = []\n",
    "dem = 0\n",
    "for i in L:\n",
    "    if i not in d:\n",
    "        d[i] = dem\n",
    "        dem += 1\n",
    "    L_mh.append(d[i])\n",
    "print(L_mh)"
   ]
  },
  {
   "cell_type": "code",
   "execution_count": 14,
   "id": "9f62e302",
   "metadata": {},
   "outputs": [
    {
     "name": "stdout",
     "output_type": "stream",
     "text": [
      "[0, 1, 2, 1, 2, 3, 4]\n"
     ]
    }
   ],
   "source": [
    "L1 = [\"đen\",\"vàng\",\"xanh\",\"vàng\",\"xanh\",\"đỏ\",\"hồng\",\"xám\"]\n",
    "L2=[]\n",
    "D={}\n",
    "dem=0\n",
    "for i in L1:\n",
    "    if i not in D.values():\n",
    "        D[dem]=i\n",
    "        dem+=1\n",
    "for i in L1:\n",
    "    for a in D:\n",
    "        if i==D[a]:\n",
    "            L2.append(a)\n",
    "print(L2)"
   ]
  },
  {
   "cell_type": "code",
   "execution_count": 15,
   "id": "bb619fc7",
   "metadata": {},
   "outputs": [
    {
     "name": "stdout",
     "output_type": "stream",
     "text": [
      "[0, 1, 2, 1, 2, 3, 4]\n"
     ]
    }
   ],
   "source": [
    "L = [\"đen\",\"vàng\",\"xanh\",\"vàng\",\"xanh\",\"đỏ\",\"hồng\"]\n",
    "\n",
    "def mahoa(a):\n",
    "    D={}\n",
    "    L=[]\n",
    "    dem=0\n",
    "    for i in a:\n",
    "        if i not in D:\n",
    "            D[i]=dem\n",
    "            dem +=1\n",
    "        L.append(D[i])\n",
    "    return L\n",
    "print(mahoa(L))"
   ]
  },
  {
   "cell_type": "code",
   "execution_count": 16,
   "id": "e55efa2f",
   "metadata": {},
   "outputs": [
    {
     "name": "stdout",
     "output_type": "stream",
     "text": [
      "0\n",
      "1\n",
      "2\n",
      "1\n",
      "2\n",
      "3\n",
      "4\n"
     ]
    }
   ],
   "source": [
    "List = [\"đen\",\"vàng\",\"xanh\",\"vàng\",\"xanh\",\"đỏ\",\"hồng\"]\n",
    "Dict = {}\n",
    "Listmahoa=[]\n",
    "dem=0\n",
    "for i in List:\n",
    "    if i not in Dict:\n",
    "        Dict[i]=dem\n",
    "        dem=dem+1\n",
    "    print(Dict[i])"
   ]
  },
  {
   "cell_type": "code",
   "execution_count": 17,
   "id": "6f1af324",
   "metadata": {},
   "outputs": [
    {
     "name": "stdout",
     "output_type": "stream",
     "text": [
      "{'đen': 0, 'vàng': 1, 'xanh': 2, 'đỏ': 3, 'hồng': 4}\n",
      "[0, 1, 2, 1, 2, 3, 4]\n"
     ]
    }
   ],
   "source": [
    "List = [\"đen\",\"vàng\",\"xanh\",\"vàng\",\"xanh\",\"đỏ\",\"hồng\"]\n",
    "Dict = {}\n",
    "Listmahoa=[]\n",
    "dem = 0\n",
    "for i in List:\n",
    "    if i not in Dict:\n",
    "        Dict[i] = dem\n",
    "        dem = dem + 1\n",
    "    Listmahoa.append(Dict[i])\n",
    "print(Dict)\n",
    "print(Listmahoa)"
   ]
  },
  {
   "cell_type": "markdown",
   "id": "8de66962",
   "metadata": {},
   "source": [
    "### Bài 5"
   ]
  },
  {
   "cell_type": "markdown",
   "id": "1e5c416d",
   "metadata": {},
   "source": [
    "Hãy viết hàm từ một list mã hóa, trả về list gốc của bài 4"
   ]
  },
  {
   "cell_type": "markdown",
   "id": "4881b7b0",
   "metadata": {},
   "source": [
    "#### Khai báo"
   ]
  },
  {
   "cell_type": "code",
   "execution_count": null,
   "id": "602c7b70",
   "metadata": {},
   "outputs": [],
   "source": [
    "L_mahoa = [0,1,2,1,2,3,4]\n",
    "D_mahoa = {\"đen\":0,\"vàng\":1,\"xanh\":2,\"đỏ\":3,\"hồng\":4}"
   ]
  },
  {
   "cell_type": "code",
   "execution_count": 4,
   "id": "16097b95",
   "metadata": {},
   "outputs": [
    {
     "name": "stdout",
     "output_type": "stream",
     "text": [
      "{0: 'đen', 1: 'vàng', 2: 'xanh', 3: 'đỏ', 4: 'hồng'}\n",
      "['đen', 'vàng', 'xanh', 'vàng', 'xanh', 'đỏ', 'hồng']\n"
     ]
    }
   ],
   "source": [
    "L_mahoa = [0,1,2,1,2,3,4]\n",
    "D_mahoa = {\"đen\":0,\"vàng\":1,\"xanh\":2,\"đỏ\":3,\"hồng\":4}\n",
    "\n",
    "## Chuyển đổi dictionary mã hóa\n",
    "\n",
    "D_mahoa_nguoc = {}\n",
    "\n",
    "for i in D_mahoa:\n",
    "    giatri = D_mahoa[i]\n",
    "    key = i\n",
    "    D_mahoa_nguoc[giatri] = key\n",
    "print(D_mahoa_nguoc)\n",
    "\n",
    "## Mã hóa ngược\n",
    "\n",
    "L_mahoa_nguoc = []\n",
    "\n",
    "for i in L_mahoa:\n",
    "    L_mahoa_nguoc.append(D_mahoa_nguoc[i])\n",
    "    \n",
    "print(L_mahoa_nguoc)"
   ]
  },
  {
   "cell_type": "code",
   "execution_count": 26,
   "id": "f8632a6d",
   "metadata": {},
   "outputs": [
    {
     "name": "stdout",
     "output_type": "stream",
     "text": [
      "['đen', 'vàng', 'xanh', 'vàng', 'xanh', 'đỏ', 'hồng']\n"
     ]
    }
   ],
   "source": [
    "L = []\n",
    "\n",
    "def doinguocdict(d):\n",
    "    kq = {}\n",
    "    for i in d:\n",
    "        kq[d[i]] = i\n",
    "    return kq\n",
    "d = doinguocdict(d)\n",
    "#print(d)\n",
    "for i in L_mh:\n",
    "    L.append(d[i])\n",
    "print(L)"
   ]
  },
  {
   "cell_type": "code",
   "execution_count": 27,
   "id": "34ea7080",
   "metadata": {},
   "outputs": [
    {
     "name": "stdout",
     "output_type": "stream",
     "text": [
      "['đen', 'vàng', 'xanh', 'vàng', 'xanh', 'đỏ', 'hồng']\n"
     ]
    }
   ],
   "source": [
    "L = [0, 1, 2, 1, 2, 3, 4]\n",
    "Dict = {'đen': 0, 'vàng': 1, 'xanh': 2, 'đỏ': 3, 'hồng': 4}\n",
    "\n",
    "def giatrigoc(Dict,Listmahoa):\n",
    "    Listmoi =[]\n",
    "    Listgoc =[]\n",
    "    for i in Dict:\n",
    "        Listmoi.append(i)\n",
    "    for x in Listmahoa:\n",
    "        Listgoc.append(Listmoi[x])\n",
    "    return Listgoc\n",
    "print(giatrigoc(Dict,L))"
   ]
  },
  {
   "cell_type": "code",
   "execution_count": 28,
   "id": "e02590d3",
   "metadata": {},
   "outputs": [
    {
     "name": "stdout",
     "output_type": "stream",
     "text": [
      "(0, [])\n"
     ]
    }
   ],
   "source": [
    "def travelistgoc(a,b):\n",
    "    L=[]\n",
    "    for i in a:\n",
    "        if i in b:\n",
    "            L.append(b[i])\n",
    "    return len(L),L\n",
    "print(travelistgoc(L,Dict))"
   ]
  },
  {
   "cell_type": "code",
   "execution_count": 29,
   "id": "77bd272a",
   "metadata": {},
   "outputs": [
    {
     "name": "stdout",
     "output_type": "stream",
     "text": [
      "['đen', 'vàng', 'xanh', 'đỏ', 'hồng']\n",
      "['đen', 'vàng', 'xanh', 'vàng', 'xanh', 'đỏ', 'hồng']\n"
     ]
    }
   ],
   "source": [
    "List_ma_hoa= [0,1,2,1,2,3,4]\n",
    "Dict = {'đen': 0, 'vàng': 1, 'xanh': 2, 'đỏ': 3, 'hồng': 4}\n",
    "ListdoituDict = list(Dict.keys()) ## Trả về dạng LIST (LIST không có khái niệm KEY)\n",
    "List_ma_hoa_nguoc = []\n",
    "print(ListdoituDict)\n",
    "for i in List_ma_hoa:\n",
    "    List_ma_hoa_nguoc.append(ListdoituDict[i])\n",
    "print(List_ma_hoa_nguoc)"
   ]
  },
  {
   "cell_type": "code",
   "execution_count": 30,
   "id": "b609594b",
   "metadata": {},
   "outputs": [
    {
     "name": "stdout",
     "output_type": "stream",
     "text": [
      "['Xin chào', 'Hello', 'Bonjour']\n"
     ]
    }
   ],
   "source": [
    "Dict = {\"Tiếng Việt\":\"Xin chào\",\"Tiếng Anh\":\"Hello\",\"Tiếng Pháp\":\"Bonjour\"}\n",
    "ngonngu = list(Dict.keys())\n",
    "giatri = list(Dict.values())\n",
    "print(giatri)"
   ]
  },
  {
   "cell_type": "markdown",
   "id": "9a738638",
   "metadata": {},
   "source": [
    "#### Code"
   ]
  },
  {
   "cell_type": "code",
   "execution_count": 5,
   "id": "df4fb3a1",
   "metadata": {},
   "outputs": [
    {
     "name": "stdout",
     "output_type": "stream",
     "text": [
      "{0: 'đen', 1: 'vàng', 2: 'xanh', 3: 'đỏ', 4: 'hồng'}\n",
      "['đen', 'vàng', 'xanh', 'vàng', 'xanh', 'đỏ', 'hồng']\n"
     ]
    }
   ],
   "source": [
    "L_mahoa = [0,1,2,1,2,3,4]\n",
    "D_mahoa = {\"đen\":0,\"vàng\":1,\"xanh\":2,\"đỏ\":3,\"hồng\":4}\n",
    "\n",
    "## Chuyển đổi dictionary mã hóa\n",
    "\n",
    "D_mahoa_nguoc = {}\n",
    "\n",
    "for i in D_mahoa:\n",
    "    giatri = D_mahoa[i]\n",
    "    key = i\n",
    "    D_mahoa_nguoc[giatri] = key\n",
    "print(D_mahoa_nguoc)\n",
    "\n",
    "## Mã hóa ngược\n",
    "\n",
    "L_mahoa_nguoc = []\n",
    "\n",
    "for i in L_mahoa:\n",
    "    L_mahoa_nguoc.append(D_mahoa_nguoc[i])\n",
    "    \n",
    "print(L_mahoa_nguoc)"
   ]
  },
  {
   "cell_type": "markdown",
   "id": "1a982dc5",
   "metadata": {},
   "source": [
    "### Bài 6"
   ]
  },
  {
   "cell_type": "markdown",
   "id": "726f6302",
   "metadata": {},
   "source": [
    "Một khách sạn có N phòng đôi được đánh số từ 1 đến N và M đoàn khách.\n",
    "\n",
    "Với mỗi đoàn khách, ta xếp mỗi cặp khách của đoàn vào một phòng trống theo thứ tự phòng tăng dần.\n",
    "\n",
    "Nếu đoàn khách có số người lẻ thì người khách cuối cùng được xếp vào một phòng trống tiếp theo.\n",
    "\n",
    "Nếu đã hết phòng còn trống thì ta sẽ xếp khách vào những phòng mới chỉ có 1 khách theo thứ tự phòng tăng dần.\n",
    "\n",
    "In ra số khách của mỗi phòng sau khi xếp\n",
    "\n",
    "Giả sử không có 2 đoàn khách nào đến cùng một lúc.\n",
    "\n",
    "#### Ví dụ 1:\n",
    "\n",
    "N = 7, M = 3\n",
    "\n",
    "doankhach = [3,7,3]\n",
    "\n",
    "Ta in: 2, 2, 2, 2, 2, 1, 2\n",
    "\n",
    "#### Ví dụ 2:\n",
    "\n",
    "N = 5, M = 3\n",
    "\n",
    "doankhach = [2,3,2]\n",
    "\n",
    "Ta in: 2, 2, 1, 2, 0"
   ]
  },
  {
   "cell_type": "markdown",
   "id": "e3346872",
   "metadata": {},
   "source": [
    "#### Khai báo"
   ]
  },
  {
   "cell_type": "code",
   "execution_count": 16,
   "id": "7e1ac374",
   "metadata": {},
   "outputs": [
    {
     "name": "stdout",
     "output_type": "stream",
     "text": [
      "[0, 0, 0, 0, 0, 0, 0]\n",
      "[2, 2, 2, 2, 2, 1, 2]\n"
     ]
    }
   ],
   "source": [
    "N = 7\n",
    "M = 3\n",
    "doankhach = [3,7,3]\n",
    "L_phong = [0]*N\n",
    "print(phong)\n",
    "\n",
    "def tim(socantim):\n",
    "    for i in range(len(L_phong)):\n",
    "        if L_phong[i] == socantim:\n",
    "            return i\n",
    "    return -1\n",
    "\n",
    "def xepkhach(a):\n",
    "    while a != 0:\n",
    "        tim0 = tim(0)\n",
    "        if tim0 != -1:\n",
    "            L_phong[tim0] = 2\n",
    "            a -= 2\n",
    "            if a < 0: ## Trường hợp chỉ có 1 người nên ta cần phải thay đổi, cho phòng đang xếp chỉ có 1 người, và cần cho a = 0\n",
    "                L_phong[tim0] = 1\n",
    "                a = 0\n",
    "        else:\n",
    "            tim1 = tim(1)\n",
    "            L_phong[tim1] = 2\n",
    "            a -= 1\n",
    "\n",
    "for i in doankhach:\n",
    "    xepkhach(i)\n",
    "print(L_phong)"
   ]
  },
  {
   "cell_type": "markdown",
   "id": "8f3d747c",
   "metadata": {},
   "source": [
    "#### Code"
   ]
  },
  {
   "cell_type": "code",
   "execution_count": null,
   "id": "b19e56c9",
   "metadata": {},
   "outputs": [],
   "source": []
  },
  {
   "cell_type": "code",
   "execution_count": 18,
   "id": "63696376",
   "metadata": {},
   "outputs": [
    {
     "name": "stdout",
     "output_type": "stream",
     "text": [
      "[2, 2, 2, 2, 2, 1, 2]\n"
     ]
    }
   ],
   "source": [
    "sophong = 1\n",
    "N = 7\n",
    "M = 3\n",
    "doankhach = [3,7,3]\n",
    "\n",
    "D = {}\n",
    "\n",
    "for i in doankhach:\n",
    "    for u in range(i//2):\n",
    "        if sophong <= N:\n",
    "            D[sophong] = 2\n",
    "            sophong += 1\n",
    "    if i%2 == 1:\n",
    "        if sophong <= N:\n",
    "            D[sophong] = 1\n",
    "            sophong += 1\n",
    "        elif sophong > N:\n",
    "            for i in D:\n",
    "                if D[i] == 1:\n",
    "                    D[i] += 1\n",
    "print(L_phong)                  "
   ]
  },
  {
   "cell_type": "code",
   "execution_count": 19,
   "id": "09d57399",
   "metadata": {},
   "outputs": [
    {
     "name": "stdout",
     "output_type": "stream",
     "text": [
      "[2, 2, 2, 2, 2, 1, 2]\n"
     ]
    }
   ],
   "source": [
    "sophong = 0\n",
    "N = 7\n",
    "M = 3\n",
    "D = [0]*N\n",
    "doankhach = [3,7,3]\n",
    "for i in doankhach:\n",
    "    for u in range(i//2):\n",
    "        if sophong < N:\n",
    "            D[sophong] = 2\n",
    "            sophong += 1\n",
    "    if i%2 == 1:\n",
    "        if sophong < N:\n",
    "            D[sophong] = 1\n",
    "            sophong += 1\n",
    "        else:\n",
    "            for i in D:\n",
    "                if D[i] == 1:\n",
    "                    D[i] += 1\n",
    "print(D)"
   ]
  },
  {
   "cell_type": "code",
   "execution_count": 8,
   "id": "83adcbc2",
   "metadata": {},
   "outputs": [
    {
     "data": {
      "text/plain": [
       "[2, 2, 2, 2, 2, 1, 2]"
      ]
     },
     "execution_count": 8,
     "metadata": {},
     "output_type": "execute_result"
    }
   ],
   "source": [
    "N = 7\n",
    "M = 3\n",
    "doankhach = [3,7,3]\n",
    "\n",
    "def main(N,doankhach):\n",
    "    phong = -1\n",
    "    kq = [2]*N\n",
    "    if 2*N <= sum(doankhach):\n",
    "        return kq\n",
    "    for i in doankhach:\n",
    "        phong += 1\n",
    "        for j in range(i):\n",
    "            while kq[phong] == 0:\n",
    "                if phong == N - 1:\n",
    "                    phong = 0\n",
    "                    continue\n",
    "                phong += 1\n",
    "            kq[phong] -= 1\n",
    "    kq2 = []\n",
    "    for x in kq:\n",
    "        kq2.append(2-x)\n",
    "    return kq2\n",
    "main(N,doankhach)"
   ]
  },
  {
   "cell_type": "code",
   "execution_count": 7,
   "id": "a00de3ea",
   "metadata": {},
   "outputs": [
    {
     "name": "stdout",
     "output_type": "stream",
     "text": [
      "Khách sạn thiếu phòng\n",
      "dict_values([2, 2, 2, 2, 2, 2, 2])\n",
      "{1: 2, 2: 2, 3: 2, 4: 2, 5: 2, 6: 2, 7: 2}\n"
     ]
    }
   ],
   "source": [
    "# Done!!!\n",
    "N = 7 \n",
    "doan_khach = [3,4,6,1,1]\n",
    "Dict = {}\n",
    "phong = 1\n",
    "for i in doan_khach:\n",
    "    while i != 0 and phong <= N:\n",
    "        if i >= 2:\n",
    "            Dict[phong]=2\n",
    "            i=i-2\n",
    "        else: # i==1\n",
    "            Dict[phong]=1\n",
    "            i=i-1\n",
    "        phong=phong+1  \n",
    "    while i != 0 and phong > N:\n",
    "        if 1 not in Dict.values():\n",
    "            print(\"Khách sạn thiếu phòng\")\n",
    "            break\n",
    "        else: # 1 in Dict\n",
    "            for a in Dict:\n",
    "                if Dict[a]==1:\n",
    "                    Dict[a]=2\n",
    "                    i=i-1\n",
    "print(Dict.values())\n",
    "print(Dict)"
   ]
  },
  {
   "cell_type": "code",
   "execution_count": 10,
   "id": "81383622",
   "metadata": {},
   "outputs": [
    {
     "ename": "SyntaxError",
     "evalue": "unterminated string literal (detected at line 36) (Temp/ipykernel_22076/686058617.py, line 36)",
     "output_type": "error",
     "traceback": [
      "\u001b[1;36m  File \u001b[1;32m\"C:\\Users\\Phung\\AppData\\Local\\Temp/ipykernel_22076/686058617.py\"\u001b[1;36m, line \u001b[1;32m36\u001b[0m\n\u001b[1;33m    return \"Không thể xếp được vì quá tải không đủ phòng để xếp mong tất cả quý khách sang chỗ kh\u001b[0m\n\u001b[1;37m           ^\u001b[0m\n\u001b[1;31mSyntaxError\u001b[0m\u001b[1;31m:\u001b[0m unterminated string literal (detected at line 36)\n"
     ]
    }
   ],
   "source": [
    "N = 7\n",
    "M = 3\n",
    "doankhach = [3,7,3]\n",
    "\n",
    "def sokhachmoiphong(N,M,doankhach):\n",
    "    L=[]\n",
    "    tong=0\n",
    "    phongdadung=0\n",
    "    for i in doankhach:\n",
    "        tong+=i\n",
    "    if tong<=2*int(N) :\n",
    "        for i in doankhach: \n",
    "            for j in range(int(i/2)):\n",
    "                if phongdadung<int(N):   \n",
    "                    L.append(2)\n",
    "                    phongdadung +=1\n",
    "                    tong-=2\n",
    "                    print(L) \n",
    "            if i%2!=0 and phongdadung<int(N):\n",
    "                L.append(1)\n",
    "                phongdadung +=1\n",
    "                tong-=1\n",
    "        while tong==0 and phongdadung<int(N):#TH phòng còn thừa\n",
    "            L.append(0)\n",
    "            phongdadung+=1\n",
    "        if phongdadung==int(N) and tong>0:#TH phòng đã hết \n",
    "            for i in range(len(L)):\n",
    "                if L[i]==1 and tong>0:\n",
    "                    L[i]=2\n",
    "                    tong -=1\n",
    "                    \n",
    "                elif tong==0:\n",
    "                    return L\n",
    "        return L\n",
    "    else:\n",
    "        return \"Không thể xếp được vì quá tải không đủ phòng để xếp mong tất cả quý khách sang chỗ kh"
   ]
  },
  {
   "cell_type": "code",
   "execution_count": 11,
   "id": "680d22f8",
   "metadata": {},
   "outputs": [
    {
     "ename": "UnboundLocalError",
     "evalue": "local variable 'sothutuphong' referenced before assignment",
     "output_type": "error",
     "traceback": [
      "\u001b[1;31m---------------------------------------------------------------------------\u001b[0m",
      "\u001b[1;31mUnboundLocalError\u001b[0m                         Traceback (most recent call last)",
      "\u001b[1;32m~\\AppData\\Local\\Temp/ipykernel_22076/3963589992.py\u001b[0m in \u001b[0;36m<module>\u001b[1;34m\u001b[0m\n\u001b[0;32m     28\u001b[0m     \u001b[1;32mif\u001b[0m \u001b[0mxepphong\u001b[0m\u001b[1;33m:\u001b[0m\u001b[1;33m\u001b[0m\u001b[1;33m\u001b[0m\u001b[0m\n\u001b[0;32m     29\u001b[0m         \u001b[0mprint\u001b[0m\u001b[1;33m(\u001b[0m\u001b[0mphong\u001b[0m\u001b[1;33m)\u001b[0m\u001b[1;33m\u001b[0m\u001b[1;33m\u001b[0m\u001b[0m\n\u001b[1;32m---> 30\u001b[1;33m \u001b[0mmain\u001b[0m\u001b[1;33m(\u001b[0m\u001b[1;33m)\u001b[0m\u001b[1;33m\u001b[0m\u001b[1;33m\u001b[0m\u001b[0m\n\u001b[0m",
      "\u001b[1;32m~\\AppData\\Local\\Temp/ipykernel_22076/3963589992.py\u001b[0m in \u001b[0;36mmain\u001b[1;34m()\u001b[0m\n\u001b[0;32m      8\u001b[0m     \u001b[1;32mfor\u001b[0m \u001b[0mi\u001b[0m \u001b[1;32min\u001b[0m \u001b[0mdoankhach\u001b[0m\u001b[1;33m:\u001b[0m\u001b[1;33m\u001b[0m\u001b[1;33m\u001b[0m\u001b[0m\n\u001b[0;32m      9\u001b[0m         \u001b[1;32mwhile\u001b[0m \u001b[0mi\u001b[0m \u001b[1;33m>\u001b[0m \u001b[1;36m0\u001b[0m\u001b[1;33m:\u001b[0m\u001b[1;33m\u001b[0m\u001b[1;33m\u001b[0m\u001b[0m\n\u001b[1;32m---> 10\u001b[1;33m             \u001b[1;32mif\u001b[0m \u001b[0msothutuphong\u001b[0m \u001b[1;33m<\u001b[0m \u001b[0mN\u001b[0m\u001b[1;33m:\u001b[0m\u001b[1;33m\u001b[0m\u001b[1;33m\u001b[0m\u001b[0m\n\u001b[0m\u001b[0;32m     11\u001b[0m                 \u001b[1;32mif\u001b[0m \u001b[0mi\u001b[0m \u001b[1;33m>=\u001b[0m \u001b[1;36m2\u001b[0m\u001b[1;33m:\u001b[0m\u001b[1;33m\u001b[0m\u001b[1;33m\u001b[0m\u001b[0m\n\u001b[0;32m     12\u001b[0m                     \u001b[0mphong\u001b[0m\u001b[1;33m[\u001b[0m\u001b[0msothutuphong\u001b[0m\u001b[1;33m]\u001b[0m \u001b[1;33m=\u001b[0m \u001b[1;36m2\u001b[0m\u001b[1;33m\u001b[0m\u001b[1;33m\u001b[0m\u001b[0m\n",
      "\u001b[1;31mUnboundLocalError\u001b[0m: local variable 'sothutuphong' referenced before assignment"
     ]
    }
   ],
   "source": [
    "doankhach = [2,3,2]\n",
    "N = 5\n",
    "phong = [0]*N\n",
    "sothutuphong = 0\n",
    "sothutuphong2 = 0\n",
    "xepphong = True\n",
    "def main():\n",
    "    for i in doankhach:\n",
    "        while i > 0:\n",
    "            if sothutuphong < N:\n",
    "                if i >= 2:\n",
    "                    phong[sothutuphong] = 2\n",
    "                    i -= 2\n",
    "                elif i == 1:\n",
    "                    phong[sothutuphong] = 1\n",
    "                    i -= 1\n",
    "                sothutuphong += 1\n",
    "            else:\n",
    "                if sothutuphong2 < N:\n",
    "                    if phong[sothutuphong2] == 1:\n",
    "                        phong[sothutuphong2] = 2\n",
    "                        i -= 1\n",
    "                    sothutuphong2 += 1\n",
    "                else:\n",
    "                    xepphong = False\n",
    "                    print(\"Không thể sắp xếp phòng vì không đủ phòng\")\n",
    "                    return\n",
    "    if xepphong:\n",
    "        print(phong)\n",
    "main()"
   ]
  }
 ],
 "metadata": {
  "kernelspec": {
   "display_name": "Python 3 (ipykernel)",
   "language": "python",
   "name": "python3"
  },
  "language_info": {
   "codemirror_mode": {
    "name": "ipython",
    "version": 3
   },
   "file_extension": ".py",
   "mimetype": "text/x-python",
   "name": "python",
   "nbconvert_exporter": "python",
   "pygments_lexer": "ipython3",
   "version": "3.10.1"
  }
 },
 "nbformat": 4,
 "nbformat_minor": 5
}
