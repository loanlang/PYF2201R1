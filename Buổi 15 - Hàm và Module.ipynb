{
 "cells": [
  {
   "cell_type": "markdown",
   "id": "73456e5e",
   "metadata": {},
   "source": [
    "# Hàm\n",
    "\n",
    "### Hàm\n",
    "\n",
    "Cú pháp:\n",
    "\n",
    "`def <tên hàm>(<tham số)>:\n",
    "    //Nội dung hàm`\n",
    "\n",
    "Gọi hàm:\n",
    "`<tên hàm>(<giá trị đầu vào>)`\n",
    "\n",
    "Ví dụ:\n",
    "\n",
    "Hãy viết 1 hàm số để tính tổng 2 số đầu vào và in nó ra màn hình"
   ]
  },
  {
   "cell_type": "code",
   "execution_count": 1,
   "id": "af5b9f6d",
   "metadata": {},
   "outputs": [
    {
     "name": "stdout",
     "output_type": "stream",
     "text": [
      "9\n",
      "9\n"
     ]
    }
   ],
   "source": [
    "def tinhtong(a,b):\n",
    "    tong = a + b\n",
    "    print(tong)\n",
    "    \n",
    "tinhtong(4,5)    \n",
    "tinhtong(3,6)"
   ]
  },
  {
   "cell_type": "code",
   "execution_count": 8,
   "id": "508c5c49",
   "metadata": {},
   "outputs": [
    {
     "name": "stdout",
     "output_type": "stream",
     "text": [
      "9\n",
      "0\n",
      "1\n",
      "2\n",
      "3\n",
      "4\n",
      "5\n",
      "abccd\n"
     ]
    }
   ],
   "source": [
    "def tong(a,b):\n",
    "    t = a + b\n",
    "    print(t)\n",
    "\n",
    "def hieu(a,b):\n",
    "    h = a - b\n",
    "    print(h)    \n",
    "\n",
    "def demo():\n",
    "    for i in range(5):\n",
    "        print(i)\n",
    "    \n",
    "    \n",
    "tong(4,5)\n",
    "demo()\n",
    "hieu(10,5)\n",
    "tong(\"abc\", \"cd\")"
   ]
  },
  {
   "cell_type": "code",
   "execution_count": 6,
   "id": "842d18d1",
   "metadata": {},
   "outputs": [
    {
     "name": "stdout",
     "output_type": "stream",
     "text": [
      "Day la c duoc in o trong ham thay doi 5\n",
      "Day la c o trong chuong trinh chinh 5\n",
      "Day la c o trong chuong trinh chinh 32\n"
     ]
    }
   ],
   "source": [
    "a = 5\n",
    "b = 6\n",
    "c = 7\n",
    "d = 20\n",
    "\n",
    "def thaydoi(a,b):\n",
    "    global c,d\n",
    "    a = 10\n",
    "    # print(\"Day la a o trong ham thay doi\",a)\n",
    "    d += 12\n",
    "    c = 5 # Khi khai bao1 c o bat ky dau trong ham, thi c se duoc hieu la bien local cua ham do\n",
    "    print(\"Day la c duoc in o trong ham thay doi\",c)\n",
    "    \n",
    "    \n",
    "thaydoi(7,4)\n",
    "# print(\"Day la a o trong chuong trinh chinh\",a)\n",
    "print(\"Day la c o trong chuong trinh chinh\",c)\n",
    "print(\"Day la c o trong chuong trinh chinh\",d)"
   ]
  },
  {
   "cell_type": "code",
   "execution_count": 9,
   "id": "cef1ed82",
   "metadata": {},
   "outputs": [
    {
     "name": "stdout",
     "output_type": "stream",
     "text": [
      "hello\n",
      "hello\n",
      "hello\n",
      "hello\n",
      "hello\n",
      "hello\n"
     ]
    }
   ],
   "source": [
    "### Viết hàm in 3 lần chữ hello\n",
    "def in3hello():\n",
    "    print(\"hello\")\n",
    "    print(\"hello\")\n",
    "    print(\"hello\")\n",
    "    \n",
    "in3hello()\n",
    "in3hello()"
   ]
  },
  {
   "cell_type": "code",
   "execution_count": 7,
   "id": "47e48006",
   "metadata": {},
   "outputs": [
    {
     "ename": "TypeError",
     "evalue": "'int' object is not subscriptable",
     "output_type": "error",
     "traceback": [
      "\u001b[1;31m---------------------------------------------------------------------------\u001b[0m",
      "\u001b[1;31mTypeError\u001b[0m                                 Traceback (most recent call last)",
      "\u001b[1;32m~\\AppData\\Local\\Temp/ipykernel_8652/716041622.py\u001b[0m in \u001b[0;36m<module>\u001b[1;34m\u001b[0m\n\u001b[0;32m      7\u001b[0m \u001b[1;33m\u001b[0m\u001b[0m\n\u001b[0;32m      8\u001b[0m \u001b[1;33m\u001b[0m\u001b[0m\n\u001b[1;32m----> 9\u001b[1;33m \u001b[0minra\u001b[0m\u001b[1;33m(\u001b[0m\u001b[1;36m5\u001b[0m\u001b[1;33m)\u001b[0m\u001b[1;33m\u001b[0m\u001b[1;33m\u001b[0m\u001b[0m\n\u001b[0m",
      "\u001b[1;32m~\\AppData\\Local\\Temp/ipykernel_8652/716041622.py\u001b[0m in \u001b[0;36minra\u001b[1;34m(c)\u001b[0m\n\u001b[0;32m      4\u001b[0m \u001b[1;33m\u001b[0m\u001b[0m\n\u001b[0;32m      5\u001b[0m \u001b[1;32mdef\u001b[0m \u001b[0minra\u001b[0m\u001b[1;33m(\u001b[0m\u001b[0mc\u001b[0m\u001b[1;33m)\u001b[0m\u001b[1;33m:\u001b[0m\u001b[1;33m\u001b[0m\u001b[1;33m\u001b[0m\u001b[0m\n\u001b[1;32m----> 6\u001b[1;33m     \u001b[0mprint\u001b[0m\u001b[1;33m(\u001b[0m\u001b[0mc\u001b[0m\u001b[1;33m[\u001b[0m\u001b[1;36m0\u001b[0m\u001b[1;33m]\u001b[0m\u001b[1;33m)\u001b[0m\u001b[1;33m\u001b[0m\u001b[1;33m\u001b[0m\u001b[0m\n\u001b[0m\u001b[0;32m      7\u001b[0m \u001b[1;33m\u001b[0m\u001b[0m\n\u001b[0;32m      8\u001b[0m \u001b[1;33m\u001b[0m\u001b[0m\n",
      "\u001b[1;31mTypeError\u001b[0m: 'int' object is not subscriptable"
     ]
    }
   ],
   "source": [
    "### Viết hàm in ra ky tu dau tien cua chuoi\n",
    "\n",
    "chuoi = \"xin chao moi nguoi\"\n",
    "\n",
    "def inra(c):\n",
    "    print(c[0]) # Dang doi xu bien c nhu kieu chuoi\n",
    "    \n",
    "inra(5)"
   ]
  },
  {
   "cell_type": "code",
   "execution_count": 16,
   "id": "af12d080",
   "metadata": {},
   "outputs": [
    {
     "name": "stdout",
     "output_type": "stream",
     "text": [
      "2\n",
      "None\n"
     ]
    }
   ],
   "source": [
    "def tinhhieu(a,b):\n",
    "    hieu = abs(a - b)\n",
    "    print(hieu)\n",
    "    \n",
    "sokhac = tinhhieu(5,7)\n",
    "print(sokhac)"
   ]
  },
  {
   "cell_type": "code",
   "execution_count": null,
   "id": "68112e6b",
   "metadata": {},
   "outputs": [],
   "source": []
  },
  {
   "cell_type": "markdown",
   "id": "a7c39f47",
   "metadata": {},
   "source": [
    "### Giá trị trả về của hàm\n",
    "\n",
    "# return\n",
    "\n",
    "Cú pháp:\n",
    "\n",
    "`retrun <giá trị trả về>`\n",
    "\n",
    "##### Lưu ý: Sau khi thực hiện lệnh return, chương trình sẽ thoát khỏi hàm ngay lập tức (những lệnh sau đó không được thực hiện)\n",
    "\n",
    "Ví dụ:\n",
    "\n",
    "Hãy viết 1 hàm trả về giá trị trung bình của 2 số bất kỳ"
   ]
  },
  {
   "cell_type": "code",
   "execution_count": 11,
   "id": "14efa8e2",
   "metadata": {},
   "outputs": [
    {
     "name": "stdout",
     "output_type": "stream",
     "text": [
      "ABC\n",
      "5\n"
     ]
    }
   ],
   "source": [
    "print(\"ABC\") # Day la ham khong co gia tri tra ve\n",
    "b = -5\n",
    "a = abs(b) # Day la ham co gia tri tra ve va gia tri tra ve cua no la gia tri tuyet doi cua b\n",
    "print(a)"
   ]
  },
  {
   "cell_type": "code",
   "execution_count": 18,
   "id": "4381dbbe",
   "metadata": {},
   "outputs": [
    {
     "name": "stdout",
     "output_type": "stream",
     "text": [
      "12\n"
     ]
    }
   ],
   "source": [
    "def tong(a,b):\n",
    "    t= a + b\n",
    "    return t\n",
    "\n",
    "c = tong(5,7)\n",
    "print(c)"
   ]
  },
  {
   "cell_type": "code",
   "execution_count": 14,
   "id": "81de11d9",
   "metadata": {},
   "outputs": [
    {
     "name": "stdout",
     "output_type": "stream",
     "text": [
      "7\n"
     ]
    }
   ],
   "source": [
    "def hieu(a,b):\n",
    "    h = a - b\n",
    "    return h\n",
    "    print(\"hello\")\n",
    "\n",
    "c = hieu(12,5)\n",
    "print(c)"
   ]
  },
  {
   "cell_type": "code",
   "execution_count": 15,
   "id": "8d0917b3",
   "metadata": {},
   "outputs": [
    {
     "name": "stdout",
     "output_type": "stream",
     "text": [
      "1\n",
      "2\n",
      "3\n",
      "4\n",
      "5\n",
      "6\n",
      "7\n",
      "8\n",
      "9\n",
      "10\n",
      "11\n",
      "12\n",
      "13\n",
      "14\n",
      "15\n",
      "16\n",
      "17\n",
      "18\n",
      "19\n",
      "20\n",
      "21\n",
      "22\n",
      "23\n",
      "24\n",
      "25\n",
      "26\n",
      "27\n",
      "28\n",
      "29\n",
      "30\n",
      "31\n",
      "32\n",
      "33\n",
      "34\n",
      "35\n",
      "36\n",
      "37\n",
      "38\n",
      "39\n",
      "40\n",
      "41\n",
      "42\n",
      "43\n",
      "44\n",
      "45\n",
      "46\n",
      "47\n",
      "48\n",
      "49\n",
      "50\n",
      "51\n",
      "52\n",
      "53\n",
      "54\n",
      "55\n",
      "56\n",
      "57\n",
      "58\n",
      "59\n",
      "60\n",
      "61\n",
      "62\n",
      "63\n",
      "64\n",
      "65\n",
      "66\n",
      "67\n",
      "68\n",
      "69\n",
      "70\n",
      "71\n",
      "72\n",
      "73\n",
      "74\n",
      "75\n",
      "76\n",
      "77\n",
      "78\n",
      "79\n",
      "80\n",
      "81\n",
      "82\n",
      "83\n",
      "84\n",
      "85\n",
      "86\n",
      "87\n",
      "88\n",
      "89\n",
      "90\n",
      "91\n",
      "92\n",
      "93\n",
      "94\n",
      "95\n",
      "96\n",
      "97\n",
      "98\n",
      "99\n",
      "100\n",
      "None\n"
     ]
    }
   ],
   "source": [
    "def insole():\n",
    "    i = 1\n",
    "    while True:\n",
    "        print(i)\n",
    "        i+= 1\n",
    "        if i > 100:\n",
    "            return\n",
    "\n",
    "a = insole()\n",
    "print(a)"
   ]
  },
  {
   "cell_type": "code",
   "execution_count": 21,
   "id": "0b527b95",
   "metadata": {},
   "outputs": [
    {
     "name": "stdout",
     "output_type": "stream",
     "text": [
      "5\n"
     ]
    }
   ],
   "source": [
    "def trituyetdoi(a): # Khong dung ham abs\n",
    "    if a < 0:\n",
    "        return a*-1\n",
    "    return a\n",
    "\n",
    "b = trituyetdoi(-5)\n",
    "print(b)"
   ]
  },
  {
   "cell_type": "code",
   "execution_count": 20,
   "id": "f5b8719f",
   "metadata": {},
   "outputs": [
    {
     "name": "stdout",
     "output_type": "stream",
     "text": [
      "15\n"
     ]
    }
   ],
   "source": [
    "def trituyetdoi(a): # Khong dung ham abs\n",
    "    # Noi dung ham\n",
    "    if a < 0:\n",
    "        a = -a\n",
    "    return a    \n",
    "\n",
    "so1 = -15\n",
    "so2 = trituyetdoi(so1)\n",
    "print(so2)"
   ]
  },
  {
   "cell_type": "code",
   "execution_count": null,
   "id": "3c05fd06",
   "metadata": {},
   "outputs": [],
   "source": [
    "def tinhhieu(a,b):\n",
    "    return a - b\n",
    "\n",
    "so1 = int(input(\"Nhập vào số 1:\"))\n",
    "so2 = int(input(\"Nhập vào số 2:\"))\n",
    "\n",
    "if (tinhhieu(so1,so2) == -2):\n",
    "    print(\"Hiệu chúng là -2\")\n",
    "else:\n",
    "    print(\"Hiệu không là -2\")"
   ]
  },
  {
   "cell_type": "code",
   "execution_count": null,
   "id": "ec418220",
   "metadata": {},
   "outputs": [],
   "source": [
    "#Viết hàm tính tích, thương và giai thừa. Tích và thương đưa vào 2 tham số, giai thừa đưa 1\n",
    "b = 3\n",
    "def tich(a,b):\n",
    "    return a*b\n",
    "def thuong(a,b):\n",
    "    return a/b\n",
    "def giaithua(a):\n",
    "    for i in range(a):\n",
    "        b=a*i\n",
    "    return b\n",
    "print(giaithua(12))\n",
    "print(b)"
   ]
  },
  {
   "cell_type": "code",
   "execution_count": null,
   "id": "d5e4b347",
   "metadata": {},
   "outputs": [],
   "source": [
    "def tengido():\n",
    "    b = 6\n",
    "\n",
    "a = tengido()\n",
    "\n",
    "print(a)"
   ]
  },
  {
   "cell_type": "code",
   "execution_count": null,
   "id": "2dd66f93",
   "metadata": {},
   "outputs": [],
   "source": [
    "def xulychuoi(a):\n",
    "    b = a[:2]\n",
    "    return b\n",
    "c = xulychuoi(\"525487\")\n",
    "print(c)"
   ]
  },
  {
   "cell_type": "code",
   "execution_count": null,
   "id": "833915eb",
   "metadata": {},
   "outputs": [],
   "source": [
    "def tengido(a):\n",
    "    a = 5\n",
    "    return a\n",
    "a = 2\n",
    "tengido(a)\n",
    "print(a)"
   ]
  },
  {
   "cell_type": "code",
   "execution_count": null,
   "id": "d595d142",
   "metadata": {},
   "outputs": [],
   "source": [
    "def giatritrungbinh(a,b):\n",
    "    tb = (a + b)/2\n",
    "    return tb\n",
    "\n",
    "c = giatritrungbinh(3,6)\n",
    "print(c)\n",
    "d = giatritrungbinh(12,8)\n",
    "print(d)"
   ]
  },
  {
   "cell_type": "markdown",
   "id": "1d7f8db0",
   "metadata": {},
   "source": [
    "### Bài tập"
   ]
  },
  {
   "cell_type": "markdown",
   "id": "75fb488b",
   "metadata": {},
   "source": [
    "Viết hàm kiểm tra số nguyên tố"
   ]
  },
  {
   "cell_type": "code",
   "execution_count": 2,
   "id": "7890f4fb",
   "metadata": {},
   "outputs": [
    {
     "name": "stdout",
     "output_type": "stream",
     "text": [
      "True\n"
     ]
    }
   ],
   "source": [
    "def snt(a):\n",
    "    for i in range(2, a):\n",
    "        if a % i == 0:\n",
    "            return False\n",
    "    if a < 2:\n",
    "        return False\n",
    "    return True\n",
    "\n",
    "ketqua = snt(2)\n",
    "print(ketqua)"
   ]
  },
  {
   "cell_type": "code",
   "execution_count": null,
   "id": "5896c519",
   "metadata": {},
   "outputs": [],
   "source": [
    "def snt(a):\n",
    "    d=0\n",
    "    if a<2:\n",
    "        return False\n",
    "    else:\n",
    "        for i in range(2,a):\n",
    "            if a%i==0:\n",
    "                d+=1\n",
    "    if d>=1:\n",
    "        return False\n",
    "    else:\n",
    "        return True\n",
    "n=int(input('Nhập số n: '))\n",
    "if snt(n)==True:\n",
    "    print('SNT')\n",
    "else:\n",
    "    print('Không là SNT')\n"
   ]
  },
  {
   "cell_type": "code",
   "execution_count": 25,
   "id": "63701bd7",
   "metadata": {},
   "outputs": [
    {
     "name": "stdout",
     "output_type": "stream",
     "text": [
      "Đây không là số nguyến tố\n"
     ]
    }
   ],
   "source": [
    "def songuyento(a):\n",
    "    for i in range(2,a):\n",
    "        if (a % i == 0):\n",
    "            return False\n",
    "    return True\n",
    "\n",
    "a = 924435\n",
    "\n",
    "if (songuyento(10**a)):\n",
    "    print(\"Đây là số nguyên tố\")\n",
    "else:\n",
    "    print(\"Đây không là số nguyến tố\")"
   ]
  },
  {
   "cell_type": "code",
   "execution_count": 26,
   "id": "b5bc385d",
   "metadata": {},
   "outputs": [
    {
     "name": "stdout",
     "output_type": "stream",
     "text": [
      "Đây là số nguyên tố\n"
     ]
    }
   ],
   "source": [
    "def songuyento(a):\n",
    "    for i in range(1,a+1):\n",
    "        dem=0\n",
    "        if a%i == 0:\n",
    "            dem+=1\n",
    "    if dem>2:\n",
    "        return \"Đây không phải số nguyên tố\"\n",
    "    else:\n",
    "        return \"Đây là số nguyên tố\"\n",
    "print(songuyento(a))"
   ]
  },
  {
   "cell_type": "code",
   "execution_count": 27,
   "id": "6bc91863",
   "metadata": {},
   "outputs": [
    {
     "name": "stdout",
     "output_type": "stream",
     "text": [
      "5 True\n",
      "10 False\n"
     ]
    }
   ],
   "source": [
    "def checksonguyento(a):\n",
    "    if a >= 2:\n",
    "        b = 1\n",
    "        dem = 0\n",
    "        for i in range(a):\n",
    "            if a % b == 0:\n",
    "                dem = dem + 1\n",
    "            b = b + 1\n",
    "        if dem != 2:\n",
    "            return False\n",
    "        return True\n",
    "    return False\n",
    "print(5,checksonguyento(5))\n",
    "print(10,checksonguyento(10))"
   ]
  },
  {
   "cell_type": "code",
   "execution_count": 28,
   "id": "07308bce",
   "metadata": {},
   "outputs": [
    {
     "name": "stdout",
     "output_type": "stream",
     "text": [
      "Đây không là số nguyến tố\n"
     ]
    }
   ],
   "source": [
    "def songuyento(a):\n",
    "    dem = 0\n",
    "    for i in range(1,a+1):\n",
    "        if (a % i == 0):\n",
    "            dem = dem + 1\n",
    "    if (dem == 2):\n",
    "        return True\n",
    "    return False\n",
    "\n",
    "if (songuyento(4)):\n",
    "    print(\"Đây là số nguyên tố\")\n",
    "else:\n",
    "    print(\"Đây không là số nguyến tố\")"
   ]
  },
  {
   "cell_type": "code",
   "execution_count": 10,
   "id": "bf003aa0",
   "metadata": {},
   "outputs": [
    {
     "name": "stdout",
     "output_type": "stream",
     "text": [
      "False\n",
      "Đây không là số nguyến tố\n"
     ]
    }
   ],
   "source": [
    "def songuyento(a):\n",
    "    dem=0\n",
    "    for i in range(1,a+1):\n",
    "        if a%i == 0:\n",
    "            dem+=1\n",
    "    if dem <=2:\n",
    "        return print(True)\n",
    "    else:\n",
    "        return print(False)\n",
    "\n",
    "if (songuyento(4)):\n",
    "    print(\"Đây là số nguyên tố\")\n",
    "else:\n",
    "    print(\"Đây không là số nguyến tố\")"
   ]
  },
  {
   "cell_type": "code",
   "execution_count": null,
   "id": "4eb29cff",
   "metadata": {},
   "outputs": [],
   "source": [
    "#Yêu cầu là viết 1 cái hàm, đưa vào 1 số, kiểm tra coi số đó có phải là số nguyên tố hay không!\n",
    "def songuyento(a):\n",
    "    if a < 2:\n",
    "        return False\n",
    "    for i in range(2,a):\n",
    "        if a % i == 0:\n",
    "            return False\n",
    "    return True\n",
    "\n",
    "def kiemtra100(a):\n",
    "    if a > 100:\n",
    "        return True\n",
    "    else:\n",
    "        return False\n",
    "\n",
    "so = int(input(\"Nhập vào một số:\"))\n",
    "    \n",
    "if songuyento(so):\n",
    "    if (kiemtra100(so)):\n",
    "        print(\"Đây là số nguyên tố lớn hơn 100\")\n",
    "    else:\n",
    "        print(\"Đây là số nguyên tố không lớn hơn 100\")\n",
    "else:\n",
    "    print(\"Đây không phải là số nguyên tố\")"
   ]
  },
  {
   "cell_type": "markdown",
   "id": "221103cf",
   "metadata": {},
   "source": [
    "Nhập vào 3 điểm toán, lý, hóa\n",
    "\n",
    "Hãy viết hàm in điểm trung bung bình rồi tính điểm trung bình của toán lý, toán hóa, lý hóa và toán lý hóa"
   ]
  },
  {
   "cell_type": "code",
   "execution_count": null,
   "id": "a3326ac7",
   "metadata": {},
   "outputs": [],
   "source": [
    "t=5\n",
    "l=6\n",
    "h=7\n",
    "def tl(a,b):\n",
    "    kq=(a+b)/2\n",
    "    return kq\n",
    "def tl(a,b,c):\n",
    "    kq=(a+b+c)/3\n",
    "    return kq"
   ]
  },
  {
   "cell_type": "code",
   "execution_count": null,
   "id": "1ba1d8ae",
   "metadata": {},
   "outputs": [],
   "source": [
    "toan = float(input(\" Nhap vao diem toan:\"))\n",
    "ly = float(input(\" Nhap vao diem ly:\"))\n",
    "hoa = float(input(\" Nhap vao diem hoa:\"))\n",
    "\n",
    "def diemtrungbinh3mon(a,b,c):\n",
    "    return ((a+b+c)/3)\n",
    "\n",
    "dtb3 = diemtrungbinh3mon(toan,ly,hoa)\n",
    "print (\" Diem trung binh 3 mon toan ly hoa la:\",dtb3)\n",
    "\n",
    "def diemtrungbinh2mon(a,b):\n",
    "    return ((a+b)/2)\n",
    "\n",
    "dtb21 = diemtrungbinh2mon (toan,ly)\n",
    "print (\" Diem trung binh 2 mon toan ly la:\",dtb21)\n",
    "dtb22 = diemtrungbinh2mon (ly,hoa)\n",
    "print (\" Diem trung binh 2 mon ly hoa la:\",dtb22)\n",
    "dtb23 = diemtrungbinh2mon (toan,hoa)\n",
    "print (\" Diem trung binh 2 mon toan hoa la:\",dtb23)"
   ]
  },
  {
   "cell_type": "code",
   "execution_count": null,
   "id": "ead896e8",
   "metadata": {},
   "outputs": [],
   "source": [
    "a = float(input(\"Nhập vào điểm toán\"))\n",
    "b = float(input(\"Nhập vào điểm lý\"))\n",
    "c = float(input(\"Nhập vào điểm hóa\"))\n",
    "\n",
    "def tb_tlh(d = a,e = b,f = c):\n",
    "    print((a+b)/2)\n",
    "    print((a+c)/2)\n",
    "    print((c+b)/2)\n",
    "    print((a + b + c)/3)\n",
    "    \n",
    "tb_tlh()"
   ]
  },
  {
   "cell_type": "code",
   "execution_count": null,
   "id": "6293c908",
   "metadata": {},
   "outputs": [],
   "source": [
    "toan = float(input(\"toán:\"))\n",
    "ly = float(input(\"lý:\"))\n",
    "hoa = float(input(\"hoá:\"))\n",
    "\n",
    "def tb2mon(a,b):\n",
    "    return (a+b)/2\n",
    "\n",
    "def tb3mon(a,b,c):\n",
    "    return (a + b + c)/3\n",
    "\n",
    "print(\"Trung bình Toán Lý:\",tb2mon(toan,ly))\n",
    "print(\"Trung bình Toán Hóa:\",tb2mon(toan,hoa))\n",
    "print(\"Trung bình Lý Hóa:\",tb2mon(ly,hoa))\n",
    "print(\"Trung bình Toán Lý Hóa:\",tb3mon(toan,ly,hoa))"
   ]
  },
  {
   "cell_type": "code",
   "execution_count": 8,
   "id": "c061273a",
   "metadata": {},
   "outputs": [],
   "source": [
    "import turtle\n",
    "t = turtle.Turtle()\n",
    "t.penup()\n",
    "\n",
    "def vehinhtron(a):\n",
    "    t.fd(a/2)\n",
    "    t.pendown()\n",
    "    t.circle(a/2)\n",
    "    t.penup()\n",
    "    t.fd(a/2+10)\n",
    "\n",
    "def vehinhvuong(a):\n",
    "    t.pendown()\n",
    "    for i in range(4):\n",
    "        t.fd(a)\n",
    "        t.left(90)\n",
    "    t.penup()\n",
    "    t.fd(a+10)\n",
    "\n",
    "def vetamgiacdeu(a):\n",
    "    t.pendown()\n",
    "    for i in range(3):\n",
    "        t.fd(a)\n",
    "        t.left(120)\n",
    "    t.penup()\n",
    "    t.fd(a + 10)\n",
    "    \n",
    "vehinhtron(50)\n",
    "vehinhvuong(50)\n",
    "vetamgiacdeu(50)"
   ]
  },
  {
   "cell_type": "markdown",
   "id": "50f43307",
   "metadata": {},
   "source": [
    "Viết hàm đếm số lượng từ của một chuỗi đưa vào"
   ]
  },
  {
   "cell_type": "code",
   "execution_count": null,
   "id": "be785b29",
   "metadata": {},
   "outputs": [],
   "source": [
    "def demsoluongtu(a):\n",
    "    '''\n",
    "    if a[0] == \" \":\n",
    "        a = a[1:]\n",
    "    if a[-1] == \" \":\n",
    "        a = a[:-1]\n",
    "    '''\n",
    "    a = a.strip()\n",
    "    dem = a.count(\" \")\n",
    "    dem = dem + 1\n",
    "    return dem\n",
    "print(demsoluongtu(\"Chúc mọi người 1 buổi tối vui vẻ \"))"
   ]
  },
  {
   "cell_type": "code",
   "execution_count": null,
   "id": "38bd0f99",
   "metadata": {},
   "outputs": [],
   "source": [
    "chuoi = \" Xin chao cac ban\"\n",
    "\n",
    "## Neu dung lenh count de dem so luong tu:\n",
    "print(\"so luong tu:\",chuoi.count(\" \") + 1)"
   ]
  },
  {
   "cell_type": "code",
   "execution_count": 3,
   "id": "8191f6eb",
   "metadata": {},
   "outputs": [
    {
     "name": "stdout",
     "output_type": "stream",
     "text": [
      "4\n"
     ]
    }
   ],
   "source": [
    "chuoi = \" Xin  chào các bạn \"\n",
    "\n",
    "def demsoluongtu(a):\n",
    "    a = a.strip()\n",
    "    dem = 0 # TRONG PYTHON, LỆNH GÁN CHÍNH LÀ LỆNH KHAI BÁO\n",
    "    for i in range(len(a)):\n",
    "        if a[i] == \" \" and a[i-1] != \" \":\n",
    "            dem += 1\n",
    "    return dem + 1\n",
    "\n",
    "sl_tu = demsoluongtu(chuoi)\n",
    "print(sl_tu)"
   ]
  },
  {
   "cell_type": "markdown",
   "id": "b4adef40",
   "metadata": {},
   "source": [
    "Viết một hàm vẽ hình tròn, một hàm vẽ hình vuông và một hàm vẽ hình tam giác đều (giá trị đầu vào là a)\n",
    "\n",
    "Tất cả hàm này, bắt đầu từ 1 vị trí, sau khi vẽ ra, con trỏ sẽ tiến tới vị trí tiếp theo, cách vì đầu một khoảng a + 10 theo chiều x từ trái sang"
   ]
  },
  {
   "cell_type": "code",
   "execution_count": null,
   "id": "7cf10bcf",
   "metadata": {},
   "outputs": [],
   "source": [
    "import turtle\n",
    "t = turtle.Turtle()\n",
    "t.penup()\n",
    "\n",
    "def vehinhtron(a):\n",
    "    t.fd(a/2)\n",
    "    t.pendown()\n",
    "    t.circle(a/2)\n",
    "    t.penup()\n",
    "    t.fd(a/2 + 10)\n",
    "    \n",
    "def vehinhvuong(a):\n",
    "    t.pendown()\n",
    "    for i in range(4):\n",
    "        t.fd(a)\n",
    "        t.lt(90)\n",
    "    t.penup()\n",
    "    t.fd(a+10)\n",
    "    \n",
    "def vehinhtamgiac(a):\n",
    "    t.pendown()\n",
    "    for i in range(3):\n",
    "        t.fd(a)\n",
    "        t.left(120)\n",
    "    t.penup()\n",
    "    t.fd(a+10)\n",
    "    \n",
    "vehinhtron(50)\n",
    "vehinhvuong(50)\n",
    "vehinhvuong(50)\n",
    "vehinhtamgiac(50)"
   ]
  },
  {
   "cell_type": "code",
   "execution_count": null,
   "id": "e405d1d4",
   "metadata": {},
   "outputs": [],
   "source": [
    "import turtle\n",
    "\n",
    "t = turtle.Turtle()\n",
    "t.penup()\n",
    "\n",
    "def hinhtron(a):\n",
    "    t.fd(a/2)\n",
    "    t.pendown()\n",
    "    t.circle(a/2)\n",
    "    t.penup()\n",
    "    t.fd(a/2+10)\n",
    "    \n",
    "def hinhvuong(a):\n",
    "    t.pendown()\n",
    "    for i in range(4):\n",
    "        t.fd(a)\n",
    "        t.left(90)\n",
    "    t.penup()\n",
    "    t.fd(a + 10)\n",
    "    \n",
    "def tamgiacdeu(a):\n",
    "    t.pendown()\n",
    "    for i in range(3):\n",
    "        t.fd(a)\n",
    "        t.left(120)\n",
    "    t.penup()\n",
    "    t.fd(a + 10)\n",
    "    \n",
    "hinhtron(50)\n",
    "hinhvuong(50)\n",
    "tamgiacdeu(50)"
   ]
  },
  {
   "cell_type": "code",
   "execution_count": null,
   "id": "cad7ae63",
   "metadata": {},
   "outputs": [],
   "source": [
    "import turtle\n",
    "import random\n",
    "\n",
    "t = turtle.Turtle()\n",
    "t.penup()\n",
    "t.back(200)\n",
    "a = int(input(\"Nhập a:\"))\n",
    "\n",
    "def randomcolor():\n",
    "    a = random.randint(1,3)\n",
    "    if (a == 1):\n",
    "        return \"red\"\n",
    "    if (a == 2):\n",
    "        return \"yellow\"\n",
    "    if (a == 3):\n",
    "        return \"green\"\n",
    "\n",
    "def hinhvuong():\n",
    "    global a\n",
    "    for i in range(4):\n",
    "        t.fd(a)\n",
    "        t.left(90)\n",
    "    t.penup()\n",
    "    t.fd(a + 10)\n",
    "    t.pendown()\n",
    "    \n",
    "def hinhtron():\n",
    "    global a\n",
    "    t.penup()\n",
    "    t.fd(a/2)\n",
    "    t.pendown()\n",
    "    t.circle(a/2)\n",
    "    t.penup()\n",
    "    t.fd(a/2 + 10)\n",
    "    t.pendown()\n",
    "    \n",
    "def tamgiac():\n",
    "    global a\n",
    "    for i in range(3):\n",
    "        t.fd(a)\n",
    "        t.left(120)\n",
    "    t.penup()\n",
    "    t.fd(a + 10)\n",
    "    t.pendown()\n",
    "    \n",
    "chuoi = input(\"Nhập vào chuỗi:\")\n",
    "chuoi += \",\"\n",
    "chuoit = \"\"\n",
    "for i in chuoi:\n",
    "    if (i != \",\"):\n",
    "        chuoit += i\n",
    "    else:\n",
    "        chuoit = chuoit.strip()\n",
    "        t.begin_fill()\n",
    "        t.color(\"black\",randomcolor())\n",
    "        if (chuoit == \"tròn\"):\n",
    "            hinhtron()\n",
    "        elif (chuoit == \"vuông\"):\n",
    "            hinhvuong()\n",
    "        elif (chuoit == \"tam giác\"):\n",
    "            tamgiac()\n",
    "        t.end_fill()\n",
    "        chuoit = \"\""
   ]
  }
 ],
 "metadata": {
  "kernelspec": {
   "display_name": "Python 3 (ipykernel)",
   "language": "python",
   "name": "python3"
  },
  "language_info": {
   "codemirror_mode": {
    "name": "ipython",
    "version": 3
   },
   "file_extension": ".py",
   "mimetype": "text/x-python",
   "name": "python",
   "nbconvert_exporter": "python",
   "pygments_lexer": "ipython3",
   "version": "3.10.1"
  }
 },
 "nbformat": 4,
 "nbformat_minor": 5
}
